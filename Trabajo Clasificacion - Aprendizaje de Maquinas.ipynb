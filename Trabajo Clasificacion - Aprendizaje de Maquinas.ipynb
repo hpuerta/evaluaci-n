{
 "cells": [
  {
   "cell_type": "markdown",
   "metadata": {},
   "source": [
    "DEFAULT OF CREDIT CARD CLIENTS\n",
    "===\n",
    "**Sergio Vélez Ibarra**   \n",
    "Especialización en Analítica   \n",
    "Universidad Nacional de Colombia, Sede Medellín   \n",
    "Facultad de Minas   \n",
    "Medellín, Colombia."
   ]
  },
  {
   "cell_type": "markdown",
   "metadata": {},
   "source": [
    "# 1. Definición del Problema Real"
   ]
  },
  {
   "cell_type": "markdown",
   "metadata": {},
   "source": [
    "Se desea determinar si un cliente incumple o no con el pago de su tarjeta de crédito en el próximo mes que le correspondería, a partir de la información de pagos realizados en meses anteriores y movimientos de su tarjeta. Se cuenta con 30,000 registros."
   ]
  },
  {
   "cell_type": "markdown",
   "metadata": {},
   "source": [
    "# 2. Definición del problema en términos de los datos"
   ]
  },
  {
   "cell_type": "markdown",
   "metadata": {},
   "source": [
    "Se tiene la base de datos de 30,000 registros de clientes con el resultado que indica si incumplió o no con el pago de su tarjeta de crédito. Cada registro contiene 24 variables,\n",
    "las cuales corresponden a información sociodemográfica del cliente como sexo, nivel educativo, estado civil y edad y a información relacionada con la tarjeta de crédito que tiene con el banco,\n",
    "movimientos de la tarjeta en los últimos seis meses.\n",
    "\n",
    "* LIMIT_BAL\tMonto del crédito otorgado (NT dólar): incluye tanto el crédito al consumo individual como el crédito familiar (suplementario).\n",
    "* SEX\tSexo (1 = hombre, 2 = mujer).\n",
    "* EDUCATION\tEducación (1 = escuela de postgrado, 2 = universidad, 3 = escuela secundaria, 4 = otros).\n",
    "* MARRIAGE\testado civil (1 = casado, 2 = soltero, 3 = otros).\n",
    "* AGE\tedad (año).\n",
    "* PAY_0\tEstado de pago en septiembre de 2005\n",
    "* PAY_2\tEstado de pago en agosto de 2005\n",
    "* PAY_3\tEstado de pago en julio de 2005\n",
    "* PAY_4\tEstado de pago en junio de 2005\n",
    "* PAY_5\tEstado de pago en mayo de 2005\n",
    "* PAY_6\tEstado de pago en abril de 2005\n",
    "* BILL_AMT1\tCantidad de estado de cuenta en septiembre de 2005\n",
    "* BILL_AMT2\tCantidad de estado de cuenta en agosto de 2005\n",
    "* BILL_AMT3\tCantidad de estado de cuenta en julio de 2005\n",
    "* BILL_AMT4\tCantidad de estado de cuenta en junio de 2005\n",
    "* BILL_AMT5\tCantidad de estado de cuenta en mayo de 2005\n",
    "* BILL_AMT6\tCantidad de estado de cuenta en abril de 2005\n",
    "* PAY_AMT1\tMonto pagado en septiembre de 2005\n",
    "* PAY_AMT2\tMonto pagado en agosto de 2005\n",
    "* PAY_AMT3\tMonto pagado en julio de 2005\n",
    "* PAY_AMT4\tMonto pagado en junio de 2005\n",
    "* PAY_AMT5\tMonto pagado en mayo de 2005\n",
    "* PAY_AMT6\tMonto pagado en abril de 2005\n",
    "* default payment (1: Incumple, 0: No Incumple)\n",
    "\n",
    "\n",
    "En términos de los datos, se desea pronosticar si un cliente incumplirá en el pago de su tarjeta de crédito a partir de las 24 variables.\n",
    "\n",
    "Fuente de los datos: https://archive.ics.uci.edu/ml/datasets/default+of+credit+card+clients\n",
    "\n",
    "\n",
    "\n",
    "\n"
   ]
  },
  {
   "cell_type": "markdown",
   "metadata": {},
   "source": [
    "# Exploración"
   ]
  },
  {
   "cell_type": "code",
   "execution_count": 42,
   "metadata": {},
   "outputs": [
    {
     "name": "stdout",
     "output_type": "stream",
     "text": [
      "'data.frame':\t30000 obs. of  24 variables:\n",
      " $ LIMIT_BAL                 : int  20000 120000 90000 50000 50000 50000 500000 100000 140000 20000 ...\n",
      " $ SEX                       : int  2 2 2 2 1 1 1 2 2 1 ...\n",
      " $ EDUCATION                 : int  2 2 2 2 2 1 1 2 3 3 ...\n",
      " $ MARRIAGE                  : int  1 2 2 1 1 2 2 2 1 2 ...\n",
      " $ AGE                       : int  24 26 34 37 57 37 29 23 28 35 ...\n",
      " $ PAY_0                     : int  2 -1 0 0 -1 0 0 0 0 -2 ...\n",
      " $ PAY_2                     : int  2 2 0 0 0 0 0 -1 0 -2 ...\n",
      " $ PAY_3                     : int  -1 0 0 0 -1 0 0 -1 2 -2 ...\n",
      " $ PAY_4                     : int  -1 0 0 0 0 0 0 0 0 -2 ...\n",
      " $ PAY_5                     : int  -2 0 0 0 0 0 0 0 0 -1 ...\n",
      " $ PAY_6                     : int  -2 2 0 0 0 0 0 -1 0 -1 ...\n",
      " $ BILL_AMT1                 : int  3913 2682 29239 46990 8617 64400 367965 11876 11285 0 ...\n",
      " $ BILL_AMT2                 : int  3102 1725 14027 48233 5670 57069 412023 380 14096 0 ...\n",
      " $ BILL_AMT3                 : int  689 2682 13559 49291 35835 57608 445007 601 12108 0 ...\n",
      " $ BILL_AMT4                 : int  0 3272 14331 28314 20940 19394 542653 221 12211 0 ...\n",
      " $ BILL_AMT5                 : int  0 3455 14948 28959 19146 19619 483003 -159 11793 13007 ...\n",
      " $ BILL_AMT6                 : int  0 3261 15549 29547 19131 20024 473944 567 3719 13912 ...\n",
      " $ PAY_AMT1                  : int  0 0 1518 2000 2000 2500 55000 380 3329 0 ...\n",
      " $ PAY_AMT2                  : int  689 1000 1500 2019 36681 1815 40000 601 0 0 ...\n",
      " $ PAY_AMT3                  : int  0 1000 1000 1200 10000 657 38000 0 432 0 ...\n",
      " $ PAY_AMT4                  : int  0 1000 1000 1100 9000 1000 20239 581 1000 13007 ...\n",
      " $ PAY_AMT5                  : int  0 0 1000 1069 689 1000 13750 1687 1000 1122 ...\n",
      " $ PAY_AMT6                  : int  0 2000 5000 1000 679 800 13770 1542 1000 0 ...\n",
      " $ default.payment.next.month: int  1 1 0 0 0 0 0 0 0 0 ...\n"
     ]
    }
   ],
   "source": [
    "data <- read.csv(\"C:/Users/SVELEZIBARRA/Documents/ESP_ANAL/CONTENIDO/2/trabajo ADM/default_of_credit_card.csv\",sep=\";\",stringsAsFactors = FALSE)\n",
    "##\n",
    "## Verificación de los datos cargados\n",
    "## La columna diagnosis corresponde al dianóstico.\n",
    "##\n",
    "str(data)"
   ]
  },
  {
   "cell_type": "code",
   "execution_count": 43,
   "metadata": {},
   "outputs": [],
   "source": [
    "##\n",
    "## Extrae la columna diagnosis que es la \n",
    "## variable de salida (columna 1)\n",
    "##\n",
    "y = data$default.payment.next.month\n",
    "data$SEX=factor(data$SEX)\n",
    "data$EDUCATION=factor(data$EDUCATION)\n",
    "data$MARRIAGE=factor(data$MARRIAGE)\n",
    "data$PAY_0=factor(data$PAY_0)\n",
    "data$PAY_2=factor(data$PAY_2)\n",
    "data$PAY_3=factor(data$PAY_3)\n",
    "data$PAY_4=factor(data$PAY_4)\n",
    "data$PAY_5=factor(data$PAY_5)\n",
    "data$PAY_6=factor(data$PAY_6)\n"
   ]
  },
  {
   "cell_type": "code",
   "execution_count": 44,
   "metadata": {},
   "outputs": [
    {
     "data": {
      "text/plain": [
       "y\n",
       "    0     1 \n",
       "23364  6636 "
      ]
     },
     "metadata": {},
     "output_type": "display_data"
    }
   ],
   "source": [
    "table(y)"
   ]
  },
  {
   "cell_type": "code",
   "execution_count": 45,
   "metadata": {},
   "outputs": [
    {
     "data": {
      "text/html": [
       "<table>\n",
       "<thead><tr><th scope=col>LIMIT_BAL</th><th scope=col>SEX</th><th scope=col>EDUCATION</th><th scope=col>MARRIAGE</th><th scope=col>AGE</th><th scope=col>PAY_0</th><th scope=col>PAY_2</th><th scope=col>PAY_3</th><th scope=col>PAY_4</th><th scope=col>PAY_5</th><th scope=col>...</th><th scope=col>BILL_AMT3</th><th scope=col>BILL_AMT4</th><th scope=col>BILL_AMT5</th><th scope=col>BILL_AMT6</th><th scope=col>PAY_AMT1</th><th scope=col>PAY_AMT2</th><th scope=col>PAY_AMT3</th><th scope=col>PAY_AMT4</th><th scope=col>PAY_AMT5</th><th scope=col>PAY_AMT6</th></tr></thead>\n",
       "<tbody>\n",
       "\t<tr><td> 20000</td><td>2     </td><td>2     </td><td>1     </td><td>24    </td><td>2     </td><td>2     </td><td>-1    </td><td>-1    </td><td>-2    </td><td>...   </td><td>  689 </td><td>    0 </td><td>    0 </td><td>    0 </td><td>   0  </td><td>  689 </td><td>    0 </td><td>   0  </td><td>   0  </td><td>   0  </td></tr>\n",
       "\t<tr><td>120000</td><td>2     </td><td>2     </td><td>2     </td><td>26    </td><td>-1    </td><td>2     </td><td>0     </td><td>0     </td><td>0     </td><td>...   </td><td> 2682 </td><td> 3272 </td><td> 3455 </td><td> 3261 </td><td>   0  </td><td> 1000 </td><td> 1000 </td><td>1000  </td><td>   0  </td><td>2000  </td></tr>\n",
       "\t<tr><td> 90000</td><td>2     </td><td>2     </td><td>2     </td><td>34    </td><td>0     </td><td>0     </td><td>0     </td><td>0     </td><td>0     </td><td>...   </td><td>13559 </td><td>14331 </td><td>14948 </td><td>15549 </td><td>1518  </td><td> 1500 </td><td> 1000 </td><td>1000  </td><td>1000  </td><td>5000  </td></tr>\n",
       "\t<tr><td> 50000</td><td>2     </td><td>2     </td><td>1     </td><td>37    </td><td>0     </td><td>0     </td><td>0     </td><td>0     </td><td>0     </td><td>...   </td><td>49291 </td><td>28314 </td><td>28959 </td><td>29547 </td><td>2000  </td><td> 2019 </td><td> 1200 </td><td>1100  </td><td>1069  </td><td>1000  </td></tr>\n",
       "\t<tr><td> 50000</td><td>1     </td><td>2     </td><td>1     </td><td>57    </td><td>-1    </td><td>0     </td><td>-1    </td><td>0     </td><td>0     </td><td>...   </td><td>35835 </td><td>20940 </td><td>19146 </td><td>19131 </td><td>2000  </td><td>36681 </td><td>10000 </td><td>9000  </td><td> 689  </td><td> 679  </td></tr>\n",
       "\t<tr><td> 50000</td><td>1     </td><td>1     </td><td>2     </td><td>37    </td><td>0     </td><td>0     </td><td>0     </td><td>0     </td><td>0     </td><td>...   </td><td>57608 </td><td>19394 </td><td>19619 </td><td>20024 </td><td>2500  </td><td> 1815 </td><td>  657 </td><td>1000  </td><td>1000  </td><td> 800  </td></tr>\n",
       "</tbody>\n",
       "</table>\n"
      ],
      "text/latex": [
       "\\begin{tabular}{r|lllllllllllllllllllllll}\n",
       " LIMIT\\_BAL & SEX & EDUCATION & MARRIAGE & AGE & PAY\\_0 & PAY\\_2 & PAY\\_3 & PAY\\_4 & PAY\\_5 & ... & BILL\\_AMT3 & BILL\\_AMT4 & BILL\\_AMT5 & BILL\\_AMT6 & PAY\\_AMT1 & PAY\\_AMT2 & PAY\\_AMT3 & PAY\\_AMT4 & PAY\\_AMT5 & PAY\\_AMT6\\\\\n",
       "\\hline\n",
       "\t  20000 & 2      & 2      & 1      & 24     & 2      & 2      & -1     & -1     & -2     & ...    &   689  &     0  &     0  &     0  &    0   &   689  &     0  &    0   &    0   &    0  \\\\\n",
       "\t 120000 & 2      & 2      & 2      & 26     & -1     & 2      & 0      & 0      & 0      & ...    &  2682  &  3272  &  3455  &  3261  &    0   &  1000  &  1000  & 1000   &    0   & 2000  \\\\\n",
       "\t  90000 & 2      & 2      & 2      & 34     & 0      & 0      & 0      & 0      & 0      & ...    & 13559  & 14331  & 14948  & 15549  & 1518   &  1500  &  1000  & 1000   & 1000   & 5000  \\\\\n",
       "\t  50000 & 2      & 2      & 1      & 37     & 0      & 0      & 0      & 0      & 0      & ...    & 49291  & 28314  & 28959  & 29547  & 2000   &  2019  &  1200  & 1100   & 1069   & 1000  \\\\\n",
       "\t  50000 & 1      & 2      & 1      & 57     & -1     & 0      & -1     & 0      & 0      & ...    & 35835  & 20940  & 19146  & 19131  & 2000   & 36681  & 10000  & 9000   &  689   &  679  \\\\\n",
       "\t  50000 & 1      & 1      & 2      & 37     & 0      & 0      & 0      & 0      & 0      & ...    & 57608  & 19394  & 19619  & 20024  & 2500   &  1815  &   657  & 1000   & 1000   &  800  \\\\\n",
       "\\end{tabular}\n"
      ],
      "text/markdown": [
       "\n",
       "LIMIT_BAL | SEX | EDUCATION | MARRIAGE | AGE | PAY_0 | PAY_2 | PAY_3 | PAY_4 | PAY_5 | ... | BILL_AMT3 | BILL_AMT4 | BILL_AMT5 | BILL_AMT6 | PAY_AMT1 | PAY_AMT2 | PAY_AMT3 | PAY_AMT4 | PAY_AMT5 | PAY_AMT6 | \n",
       "|---|---|---|---|---|---|\n",
       "|  20000 | 2      | 2      | 1      | 24     | 2      | 2      | -1     | -1     | -2     | ...    |   689  |     0  |     0  |     0  |    0   |   689  |     0  |    0   |    0   |    0   | \n",
       "| 120000 | 2      | 2      | 2      | 26     | -1     | 2      | 0      | 0      | 0      | ...    |  2682  |  3272  |  3455  |  3261  |    0   |  1000  |  1000  | 1000   |    0   | 2000   | \n",
       "|  90000 | 2      | 2      | 2      | 34     | 0      | 0      | 0      | 0      | 0      | ...    | 13559  | 14331  | 14948  | 15549  | 1518   |  1500  |  1000  | 1000   | 1000   | 5000   | \n",
       "|  50000 | 2      | 2      | 1      | 37     | 0      | 0      | 0      | 0      | 0      | ...    | 49291  | 28314  | 28959  | 29547  | 2000   |  2019  |  1200  | 1100   | 1069   | 1000   | \n",
       "|  50000 | 1      | 2      | 1      | 57     | -1     | 0      | -1     | 0      | 0      | ...    | 35835  | 20940  | 19146  | 19131  | 2000   | 36681  | 10000  | 9000   |  689   |  679   | \n",
       "|  50000 | 1      | 1      | 2      | 37     | 0      | 0      | 0      | 0      | 0      | ...    | 57608  | 19394  | 19619  | 20024  | 2500   |  1815  |   657  | 1000   | 1000   |  800   | \n",
       "\n",
       "\n"
      ],
      "text/plain": [
       "  LIMIT_BAL SEX EDUCATION MARRIAGE AGE PAY_0 PAY_2 PAY_3 PAY_4 PAY_5 ...\n",
       "1  20000    2   2         1        24  2     2     -1    -1    -2    ...\n",
       "2 120000    2   2         2        26  -1    2     0     0     0     ...\n",
       "3  90000    2   2         2        34  0     0     0     0     0     ...\n",
       "4  50000    2   2         1        37  0     0     0     0     0     ...\n",
       "5  50000    1   2         1        57  -1    0     -1    0     0     ...\n",
       "6  50000    1   1         2        37  0     0     0     0     0     ...\n",
       "  BILL_AMT3 BILL_AMT4 BILL_AMT5 BILL_AMT6 PAY_AMT1 PAY_AMT2 PAY_AMT3 PAY_AMT4\n",
       "1   689         0         0         0        0       689        0       0    \n",
       "2  2682      3272      3455      3261        0      1000     1000    1000    \n",
       "3 13559     14331     14948     15549     1518      1500     1000    1000    \n",
       "4 49291     28314     28959     29547     2000      2019     1200    1100    \n",
       "5 35835     20940     19146     19131     2000     36681    10000    9000    \n",
       "6 57608     19394     19619     20024     2500      1815      657    1000    \n",
       "  PAY_AMT5 PAY_AMT6\n",
       "1    0        0    \n",
       "2    0     2000    \n",
       "3 1000     5000    \n",
       "4 1069     1000    \n",
       "5  689      679    \n",
       "6 1000      800    "
      ]
     },
     "metadata": {},
     "output_type": "display_data"
    }
   ],
   "source": [
    "##\n",
    "## Elimina las columnas 0 (id) y 1 (diagnosis)\n",
    "## de los datos originales\n",
    "##\n",
    "X = data[,1:ncol(data)-1]\n",
    "head(X)"
   ]
  },
  {
   "cell_type": "code",
   "execution_count": 46,
   "metadata": {},
   "outputs": [],
   "source": [
    "##\n",
    "## Se convierte la columna default_payment de character a factor.\n",
    "##\n",
    "y <- factor(y,\n",
    "            levels = c(\"0\", \"1\"),              # Los números 0 y 1 se convierten a factores\n",
    "            labels = c(\"No Incumple\", \"Incumple\")) # se dan nuevos nombres a los factores\n"
   ]
  },
  {
   "cell_type": "code",
   "execution_count": 47,
   "metadata": {},
   "outputs": [
    {
     "data": {
      "text/html": [
       "<ol class=list-inline>\n",
       "\t<li>Incumple</li>\n",
       "\t<li>Incumple</li>\n",
       "\t<li>No Incumple</li>\n",
       "\t<li>No Incumple</li>\n",
       "\t<li>No Incumple</li>\n",
       "\t<li>No Incumple</li>\n",
       "</ol>\n"
      ],
      "text/latex": [
       "\\begin{enumerate*}\n",
       "\\item Incumple\n",
       "\\item Incumple\n",
       "\\item No Incumple\n",
       "\\item No Incumple\n",
       "\\item No Incumple\n",
       "\\item No Incumple\n",
       "\\end{enumerate*}\n"
      ],
      "text/markdown": [
       "1. Incumple\n",
       "2. Incumple\n",
       "3. No Incumple\n",
       "4. No Incumple\n",
       "5. No Incumple\n",
       "6. No Incumple\n",
       "\n",
       "\n"
      ],
      "text/plain": [
       "[1] Incumple    Incumple    No Incumple No Incumple No Incumple No Incumple\n",
       "Levels: No Incumple Incumple"
      ]
     },
     "metadata": {},
     "output_type": "display_data"
    }
   ],
   "source": [
    "head(y)"
   ]
  },
  {
   "cell_type": "code",
   "execution_count": 48,
   "metadata": {},
   "outputs": [
    {
     "data": {
      "text/plain": [
       "y\n",
       "No Incumple    Incumple \n",
       "      23364        6636 "
      ]
     },
     "metadata": {},
     "output_type": "display_data"
    }
   ],
   "source": [
    "table(y)"
   ]
  },
  {
   "cell_type": "code",
   "execution_count": 49,
   "metadata": {
    "scrolled": false
   },
   "outputs": [
    {
     "data": {
      "text/plain": [
       "y\n",
       "No Incumple    Incumple \n",
       "       77.9        22.1 "
      ]
     },
     "metadata": {},
     "output_type": "display_data"
    }
   ],
   "source": [
    "##\n",
    "## Se convierte el conteo en probabilidades.\n",
    "##\n",
    "round(prop.table(table(y)) * 100, digits = 1)"
   ]
  },
  {
   "cell_type": "markdown",
   "metadata": {},
   "source": [
    "# 3. Técnicas a considerar:"
   ]
  },
  {
   "cell_type": "markdown",
   "metadata": {},
   "source": [
    "Se ajustarán 4 modelos de clasificación, siguiendo la metodología CRISP-DM. Estos son:\n",
    "\n",
    "* Vecinos más cercanos\n",
    "* Naive Bayes\n",
    "* Árbol de Decisión\n",
    "* OneR"
   ]
  },
  {
   "cell_type": "markdown",
   "metadata": {},
   "source": [
    "# 3.1 Vecinos más cercanos"
   ]
  },
  {
   "cell_type": "markdown",
   "metadata": {},
   "source": [
    "# Preparación de los datos"
   ]
  },
  {
   "cell_type": "code",
   "execution_count": 50,
   "metadata": {},
   "outputs": [
    {
     "data": {
      "text/plain": [
       "   LIMIT_BAL       SEX       EDUCATION MARRIAGE       AGE       \n",
       " Min.   :  10000   1:11888   0:   14   0:   54   Min.   :21.00  \n",
       " 1st Qu.:  50000   2:18112   1:10585   1:13659   1st Qu.:28.00  \n",
       " Median : 140000             2:14030   2:15964   Median :34.00  \n",
       " Mean   : 167484             3: 4917   3:  323   Mean   :35.49  \n",
       " 3rd Qu.: 240000             4:  123             3rd Qu.:41.00  \n",
       " Max.   :1000000             5:  280             Max.   :79.00  \n",
       "                             6:   51                            \n",
       "     PAY_0           PAY_2           PAY_3           PAY_4      \n",
       " 0      :14737   0      :15730   0      :15764   0      :16455  \n",
       " -1     : 5686   -1     : 6050   -1     : 5938   -1     : 5687  \n",
       " 1      : 3688   2      : 3927   -2     : 4085   -2     : 4348  \n",
       " -2     : 2759   -2     : 3782   2      : 3819   2      : 3159  \n",
       " 2      : 2667   3      :  326   3      :  240   3      :  180  \n",
       " 3      :  322   4      :   99   4      :   76   4      :   69  \n",
       " (Other):  141   (Other):   86   (Other):   78   (Other):  102  \n",
       "     PAY_5           PAY_6         BILL_AMT1         BILL_AMT2     \n",
       " 0      :16947   0      :16286   Min.   :-165580   Min.   :-69777  \n",
       " -1     : 5539   -1     : 5740   1st Qu.:   3559   1st Qu.:  2985  \n",
       " -2     : 4546   -2     : 4895   Median :  22382   Median : 21200  \n",
       " 2      : 2626   2      : 2766   Mean   :  51223   Mean   : 49179  \n",
       " 3      :  178   3      :  184   3rd Qu.:  67091   3rd Qu.: 64006  \n",
       " 4      :   84   4      :   49   Max.   : 964511   Max.   :983931  \n",
       " (Other):   80   (Other):   80                                     \n",
       "   BILL_AMT3         BILL_AMT4         BILL_AMT5        BILL_AMT6      \n",
       " Min.   :-157264   Min.   :-170000   Min.   :-81334   Min.   :-339603  \n",
       " 1st Qu.:   2666   1st Qu.:   2327   1st Qu.:  1763   1st Qu.:   1256  \n",
       " Median :  20089   Median :  19052   Median : 18105   Median :  17071  \n",
       " Mean   :  47013   Mean   :  43263   Mean   : 40311   Mean   :  38872  \n",
       " 3rd Qu.:  60165   3rd Qu.:  54506   3rd Qu.: 50191   3rd Qu.:  49198  \n",
       " Max.   :1664089   Max.   : 891586   Max.   :927171   Max.   : 961664  \n",
       "                                                                       \n",
       "    PAY_AMT1         PAY_AMT2          PAY_AMT3         PAY_AMT4     \n",
       " Min.   :     0   Min.   :      0   Min.   :     0   Min.   :     0  \n",
       " 1st Qu.:  1000   1st Qu.:    833   1st Qu.:   390   1st Qu.:   296  \n",
       " Median :  2100   Median :   2009   Median :  1800   Median :  1500  \n",
       " Mean   :  5664   Mean   :   5921   Mean   :  5226   Mean   :  4826  \n",
       " 3rd Qu.:  5006   3rd Qu.:   5000   3rd Qu.:  4505   3rd Qu.:  4013  \n",
       " Max.   :873552   Max.   :1684259   Max.   :896040   Max.   :621000  \n",
       "                                                                     \n",
       "    PAY_AMT5           PAY_AMT6       \n",
       " Min.   :     0.0   Min.   :     0.0  \n",
       " 1st Qu.:   252.5   1st Qu.:   117.8  \n",
       " Median :  1500.0   Median :  1500.0  \n",
       " Mean   :  4799.4   Mean   :  5215.5  \n",
       " 3rd Qu.:  4031.5   3rd Qu.:  4000.0  \n",
       " Max.   :426529.0   Max.   :528666.0  \n",
       "                                      "
      ]
     },
     "metadata": {},
     "output_type": "display_data"
    }
   ],
   "source": [
    "##\n",
    "## se examina el rango de las variables\n",
    "##\n",
    "summary(X)"
   ]
  },
  {
   "cell_type": "code",
   "execution_count": 51,
   "metadata": {
    "scrolled": true
   },
   "outputs": [
    {
     "data": {
      "image/png": "[encoded data removed]",
      "text/plain": [
       "plot without title"
      ]
     },
     "metadata": {},
     "output_type": "display_data"
    }
   ],
   "source": [
    "##\n",
    "## Para las variables numéricas (todas en este\n",
    "## caso) se puede construir un diagrama de\n",
    "## caja y bigotes.\n",
    "##\n",
    "plt <- boxplot(X, \n",
    "               xlab=\"Variables\", \n",
    "               ylab=\"Valores\",\n",
    "               srt = 90,\n",
    "               horiz=FALSE)\n",
    "grid()"
   ]
  },
  {
   "cell_type": "code",
   "execution_count": 52,
   "metadata": {},
   "outputs": [],
   "source": [
    "##\n",
    "## se define la función de normalización\n",
    "##\n",
    "MinMaxScaler <- \n",
    "function(x) {\n",
    "    return ((x - min(x)) / (max(x) - min(x)))\n",
    "}\n"
   ]
  },
  {
   "cell_type": "code",
   "execution_count": 53,
   "metadata": {},
   "outputs": [
    {
     "name": "stdout",
     "output_type": "stream",
     "text": [
      "'data.frame':\t30000 obs. of  23 variables:\n",
      " $ LIMIT_BAL: int  20000 120000 90000 50000 50000 50000 500000 100000 140000 20000 ...\n",
      " $ SEX      : Factor w/ 2 levels \"1\",\"2\": 2 2 2 2 1 1 1 2 2 1 ...\n",
      " $ EDUCATION: Factor w/ 7 levels \"0\",\"1\",\"2\",\"3\",..: 3 3 3 3 3 2 2 3 4 4 ...\n",
      " $ MARRIAGE : Factor w/ 4 levels \"0\",\"1\",\"2\",\"3\": 2 3 3 2 2 3 3 3 2 3 ...\n",
      " $ AGE      : int  24 26 34 37 57 37 29 23 28 35 ...\n",
      " $ PAY_0    : Factor w/ 11 levels \"-2\",\"-1\",\"0\",..: 5 2 3 3 2 3 3 3 3 1 ...\n",
      " $ PAY_2    : Factor w/ 11 levels \"-2\",\"-1\",\"0\",..: 5 5 3 3 3 3 3 2 3 1 ...\n",
      " $ PAY_3    : Factor w/ 11 levels \"-2\",\"-1\",\"0\",..: 2 3 3 3 2 3 3 2 5 1 ...\n",
      " $ PAY_4    : Factor w/ 11 levels \"-2\",\"-1\",\"0\",..: 2 3 3 3 3 3 3 3 3 1 ...\n",
      " $ PAY_5    : Factor w/ 10 levels \"-2\",\"-1\",\"0\",..: 1 3 3 3 3 3 3 3 3 2 ...\n",
      " $ PAY_6    : Factor w/ 10 levels \"-2\",\"-1\",\"0\",..: 1 4 3 3 3 3 3 2 3 2 ...\n",
      " $ BILL_AMT1: int  3913 2682 29239 46990 8617 64400 367965 11876 11285 0 ...\n",
      " $ BILL_AMT2: int  3102 1725 14027 48233 5670 57069 412023 380 14096 0 ...\n",
      " $ BILL_AMT3: int  689 2682 13559 49291 35835 57608 445007 601 12108 0 ...\n",
      " $ BILL_AMT4: int  0 3272 14331 28314 20940 19394 542653 221 12211 0 ...\n",
      " $ BILL_AMT5: int  0 3455 14948 28959 19146 19619 483003 -159 11793 13007 ...\n",
      " $ BILL_AMT6: int  0 3261 15549 29547 19131 20024 473944 567 3719 13912 ...\n",
      " $ PAY_AMT1 : int  0 0 1518 2000 2000 2500 55000 380 3329 0 ...\n",
      " $ PAY_AMT2 : int  689 1000 1500 2019 36681 1815 40000 601 0 0 ...\n",
      " $ PAY_AMT3 : int  0 1000 1000 1200 10000 657 38000 0 432 0 ...\n",
      " $ PAY_AMT4 : int  0 1000 1000 1100 9000 1000 20239 581 1000 13007 ...\n",
      " $ PAY_AMT5 : int  0 0 1000 1069 689 1000 13750 1687 1000 1122 ...\n",
      " $ PAY_AMT6 : int  0 2000 5000 1000 679 800 13770 1542 1000 0 ...\n"
     ]
    }
   ],
   "source": [
    "str(X)"
   ]
  },
  {
   "cell_type": "code",
   "execution_count": 54,
   "metadata": {},
   "outputs": [
    {
     "data": {
      "text/html": [
       "<table>\n",
       "<thead><tr><th scope=col>SEX</th><th scope=col>EDUCATION</th><th scope=col>MARRIAGE</th><th scope=col>PAY_0</th><th scope=col>PAY_2</th><th scope=col>PAY_3</th><th scope=col>PAY_4</th><th scope=col>PAY_5</th><th scope=col>PAY_6</th></tr></thead>\n",
       "<tbody>\n",
       "\t<tr><td>2 </td><td>2 </td><td>1 </td><td>2 </td><td>2 </td><td>-1</td><td>-1</td><td>-2</td><td>-2</td></tr>\n",
       "\t<tr><td>2 </td><td>2 </td><td>2 </td><td>-1</td><td>2 </td><td>0 </td><td>0 </td><td>0 </td><td>2 </td></tr>\n",
       "\t<tr><td>2 </td><td>2 </td><td>2 </td><td>0 </td><td>0 </td><td>0 </td><td>0 </td><td>0 </td><td>0 </td></tr>\n",
       "\t<tr><td>2 </td><td>2 </td><td>1 </td><td>0 </td><td>0 </td><td>0 </td><td>0 </td><td>0 </td><td>0 </td></tr>\n",
       "\t<tr><td>1 </td><td>2 </td><td>1 </td><td>-1</td><td>0 </td><td>-1</td><td>0 </td><td>0 </td><td>0 </td></tr>\n",
       "\t<tr><td>1 </td><td>1 </td><td>2 </td><td>0 </td><td>0 </td><td>0 </td><td>0 </td><td>0 </td><td>0 </td></tr>\n",
       "</tbody>\n",
       "</table>\n"
      ],
      "text/latex": [
       "\\begin{tabular}{r|lllllllll}\n",
       " SEX & EDUCATION & MARRIAGE & PAY\\_0 & PAY\\_2 & PAY\\_3 & PAY\\_4 & PAY\\_5 & PAY\\_6\\\\\n",
       "\\hline\n",
       "\t 2  & 2  & 1  & 2  & 2  & -1 & -1 & -2 & -2\\\\\n",
       "\t 2  & 2  & 2  & -1 & 2  & 0  & 0  & 0  & 2 \\\\\n",
       "\t 2  & 2  & 2  & 0  & 0  & 0  & 0  & 0  & 0 \\\\\n",
       "\t 2  & 2  & 1  & 0  & 0  & 0  & 0  & 0  & 0 \\\\\n",
       "\t 1  & 2  & 1  & -1 & 0  & -1 & 0  & 0  & 0 \\\\\n",
       "\t 1  & 1  & 2  & 0  & 0  & 0  & 0  & 0  & 0 \\\\\n",
       "\\end{tabular}\n"
      ],
      "text/markdown": [
       "\n",
       "SEX | EDUCATION | MARRIAGE | PAY_0 | PAY_2 | PAY_3 | PAY_4 | PAY_5 | PAY_6 | \n",
       "|---|---|---|---|---|---|\n",
       "| 2  | 2  | 1  | 2  | 2  | -1 | -1 | -2 | -2 | \n",
       "| 2  | 2  | 2  | -1 | 2  | 0  | 0  | 0  | 2  | \n",
       "| 2  | 2  | 2  | 0  | 0  | 0  | 0  | 0  | 0  | \n",
       "| 2  | 2  | 1  | 0  | 0  | 0  | 0  | 0  | 0  | \n",
       "| 1  | 2  | 1  | -1 | 0  | -1 | 0  | 0  | 0  | \n",
       "| 1  | 1  | 2  | 0  | 0  | 0  | 0  | 0  | 0  | \n",
       "\n",
       "\n"
      ],
      "text/plain": [
       "  SEX EDUCATION MARRIAGE PAY_0 PAY_2 PAY_3 PAY_4 PAY_5 PAY_6\n",
       "1 2   2         1        2     2     -1    -1    -2    -2   \n",
       "2 2   2         2        -1    2     0     0     0     2    \n",
       "3 2   2         2        0     0     0     0     0     0    \n",
       "4 2   2         1        0     0     0     0     0     0    \n",
       "5 1   2         1        -1    0     -1    0     0     0    \n",
       "6 1   1         2        0     0     0     0     0     0    "
      ]
     },
     "metadata": {},
     "output_type": "display_data"
    }
   ],
   "source": [
    "library(data.table)\n",
    "library(dplyr)\n",
    "cat=select(X,-c(LIMIT_BAL,AGE,BILL_AMT1,BILL_AMT2,BILL_AMT3,BILL_AMT4,BILL_AMT5,BILL_AMT6,PAY_AMT1,PAY_AMT2,PAY_AMT3,PAY_AMT4,PAY_AMT5,PAY_AMT6))\n",
    "head(cat)"
   ]
  },
  {
   "cell_type": "code",
   "execution_count": 55,
   "metadata": {},
   "outputs": [
    {
     "data": {
      "text/html": [
       "<table>\n",
       "<thead><tr><th scope=col>LIMIT_BAL</th><th scope=col>AGE</th><th scope=col>BILL_AMT1</th><th scope=col>BILL_AMT2</th><th scope=col>BILL_AMT3</th><th scope=col>BILL_AMT4</th><th scope=col>BILL_AMT5</th><th scope=col>BILL_AMT6</th><th scope=col>PAY_AMT1</th><th scope=col>PAY_AMT2</th><th scope=col>PAY_AMT3</th><th scope=col>PAY_AMT4</th><th scope=col>PAY_AMT5</th><th scope=col>PAY_AMT6</th></tr></thead>\n",
       "<tbody>\n",
       "\t<tr><td> 20000</td><td>24    </td><td> 3913 </td><td> 3102 </td><td>  689 </td><td>    0 </td><td>    0 </td><td>    0 </td><td>   0  </td><td>  689 </td><td>    0 </td><td>   0  </td><td>   0  </td><td>   0  </td></tr>\n",
       "\t<tr><td>120000</td><td>26    </td><td> 2682 </td><td> 1725 </td><td> 2682 </td><td> 3272 </td><td> 3455 </td><td> 3261 </td><td>   0  </td><td> 1000 </td><td> 1000 </td><td>1000  </td><td>   0  </td><td>2000  </td></tr>\n",
       "\t<tr><td> 90000</td><td>34    </td><td>29239 </td><td>14027 </td><td>13559 </td><td>14331 </td><td>14948 </td><td>15549 </td><td>1518  </td><td> 1500 </td><td> 1000 </td><td>1000  </td><td>1000  </td><td>5000  </td></tr>\n",
       "\t<tr><td> 50000</td><td>37    </td><td>46990 </td><td>48233 </td><td>49291 </td><td>28314 </td><td>28959 </td><td>29547 </td><td>2000  </td><td> 2019 </td><td> 1200 </td><td>1100  </td><td>1069  </td><td>1000  </td></tr>\n",
       "\t<tr><td> 50000</td><td>57    </td><td> 8617 </td><td> 5670 </td><td>35835 </td><td>20940 </td><td>19146 </td><td>19131 </td><td>2000  </td><td>36681 </td><td>10000 </td><td>9000  </td><td> 689  </td><td> 679  </td></tr>\n",
       "\t<tr><td> 50000</td><td>37    </td><td>64400 </td><td>57069 </td><td>57608 </td><td>19394 </td><td>19619 </td><td>20024 </td><td>2500  </td><td> 1815 </td><td>  657 </td><td>1000  </td><td>1000  </td><td> 800  </td></tr>\n",
       "</tbody>\n",
       "</table>\n"
      ],
      "text/latex": [
       "\\begin{tabular}{r|llllllllllllll}\n",
       " LIMIT\\_BAL & AGE & BILL\\_AMT1 & BILL\\_AMT2 & BILL\\_AMT3 & BILL\\_AMT4 & BILL\\_AMT5 & BILL\\_AMT6 & PAY\\_AMT1 & PAY\\_AMT2 & PAY\\_AMT3 & PAY\\_AMT4 & PAY\\_AMT5 & PAY\\_AMT6\\\\\n",
       "\\hline\n",
       "\t  20000 & 24     &  3913  &  3102  &   689  &     0  &     0  &     0  &    0   &   689  &     0  &    0   &    0   &    0  \\\\\n",
       "\t 120000 & 26     &  2682  &  1725  &  2682  &  3272  &  3455  &  3261  &    0   &  1000  &  1000  & 1000   &    0   & 2000  \\\\\n",
       "\t  90000 & 34     & 29239  & 14027  & 13559  & 14331  & 14948  & 15549  & 1518   &  1500  &  1000  & 1000   & 1000   & 5000  \\\\\n",
       "\t  50000 & 37     & 46990  & 48233  & 49291  & 28314  & 28959  & 29547  & 2000   &  2019  &  1200  & 1100   & 1069   & 1000  \\\\\n",
       "\t  50000 & 57     &  8617  &  5670  & 35835  & 20940  & 19146  & 19131  & 2000   & 36681  & 10000  & 9000   &  689   &  679  \\\\\n",
       "\t  50000 & 37     & 64400  & 57069  & 57608  & 19394  & 19619  & 20024  & 2500   &  1815  &   657  & 1000   & 1000   &  800  \\\\\n",
       "\\end{tabular}\n"
      ],
      "text/markdown": [
       "\n",
       "LIMIT_BAL | AGE | BILL_AMT1 | BILL_AMT2 | BILL_AMT3 | BILL_AMT4 | BILL_AMT5 | BILL_AMT6 | PAY_AMT1 | PAY_AMT2 | PAY_AMT3 | PAY_AMT4 | PAY_AMT5 | PAY_AMT6 | \n",
       "|---|---|---|---|---|---|\n",
       "|  20000 | 24     |  3913  |  3102  |   689  |     0  |     0  |     0  |    0   |   689  |     0  |    0   |    0   |    0   | \n",
       "| 120000 | 26     |  2682  |  1725  |  2682  |  3272  |  3455  |  3261  |    0   |  1000  |  1000  | 1000   |    0   | 2000   | \n",
       "|  90000 | 34     | 29239  | 14027  | 13559  | 14331  | 14948  | 15549  | 1518   |  1500  |  1000  | 1000   | 1000   | 5000   | \n",
       "|  50000 | 37     | 46990  | 48233  | 49291  | 28314  | 28959  | 29547  | 2000   |  2019  |  1200  | 1100   | 1069   | 1000   | \n",
       "|  50000 | 57     |  8617  |  5670  | 35835  | 20940  | 19146  | 19131  | 2000   | 36681  | 10000  | 9000   |  689   |  679   | \n",
       "|  50000 | 37     | 64400  | 57069  | 57608  | 19394  | 19619  | 20024  | 2500   |  1815  |   657  | 1000   | 1000   |  800   | \n",
       "\n",
       "\n"
      ],
      "text/plain": [
       "  LIMIT_BAL AGE BILL_AMT1 BILL_AMT2 BILL_AMT3 BILL_AMT4 BILL_AMT5 BILL_AMT6\n",
       "1  20000    24   3913      3102       689         0         0         0    \n",
       "2 120000    26   2682      1725      2682      3272      3455      3261    \n",
       "3  90000    34  29239     14027     13559     14331     14948     15549    \n",
       "4  50000    37  46990     48233     49291     28314     28959     29547    \n",
       "5  50000    57   8617      5670     35835     20940     19146     19131    \n",
       "6  50000    37  64400     57069     57608     19394     19619     20024    \n",
       "  PAY_AMT1 PAY_AMT2 PAY_AMT3 PAY_AMT4 PAY_AMT5 PAY_AMT6\n",
       "1    0       689        0       0        0        0    \n",
       "2    0      1000     1000    1000        0     2000    \n",
       "3 1518      1500     1000    1000     1000     5000    \n",
       "4 2000      2019     1200    1100     1069     1000    \n",
       "5 2000     36681    10000    9000      689      679    \n",
       "6 2500      1815      657    1000     1000      800    "
      ]
     },
     "metadata": {},
     "output_type": "display_data"
    }
   ],
   "source": [
    "num=select(X,-c(SEX,EDUCATION,MARRIAGE,PAY_0,PAY_2,PAY_3,PAY_4,PAY_5,PAY_6))\n",
    "head(num)"
   ]
  },
  {
   "cell_type": "code",
   "execution_count": 56,
   "metadata": {},
   "outputs": [
    {
     "data": {
      "text/html": [
       "<table>\n",
       "<thead><tr><th scope=col>LIMIT_BAL</th><th scope=col>AGE</th><th scope=col>BILL_AMT1</th><th scope=col>BILL_AMT2</th><th scope=col>BILL_AMT3</th><th scope=col>BILL_AMT4</th><th scope=col>BILL_AMT5</th><th scope=col>BILL_AMT6</th><th scope=col>PAY_AMT1</th><th scope=col>PAY_AMT2</th><th scope=col>PAY_AMT3</th><th scope=col>PAY_AMT4</th><th scope=col>PAY_AMT5</th><th scope=col>PAY_AMT6</th></tr></thead>\n",
       "<tbody>\n",
       "\t<tr><td>0.01010101  </td><td>0.05172414  </td><td>0.1499817   </td><td>0.06916432  </td><td>0.08672289  </td><td>0.1601378   </td><td>0.08064809  </td><td>0.2609787   </td><td>0.000000000 </td><td>0.0004090820</td><td>0.0000000000</td><td>0.000000000 </td><td>0.000000000 </td><td>0.000000000 </td></tr>\n",
       "\t<tr><td>0.11111111  </td><td>0.08620690  </td><td>0.1488924   </td><td>0.06785751  </td><td>0.08781713  </td><td>0.1632199   </td><td>0.08407395  </td><td>0.2634847   </td><td>0.000000000 </td><td>0.0005937329</td><td>0.0011160216</td><td>0.001610306 </td><td>0.000000000 </td><td>0.003783107 </td></tr>\n",
       "\t<tr><td>0.08080808  </td><td>0.22413793  </td><td>0.1723923   </td><td>0.07953247  </td><td>0.09378907  </td><td>0.1736374   </td><td>0.09547003  </td><td>0.2729278   </td><td>0.001737733 </td><td>0.0008905994</td><td>0.0011160216</td><td>0.001610306 </td><td>0.002344506 </td><td>0.009457767 </td></tr>\n",
       "\t<tr><td>0.04040404  </td><td>0.27586207  </td><td>0.1880999   </td><td>0.11199497  </td><td>0.11340745  </td><td>0.1868092   </td><td>0.10936287  </td><td>0.2836851   </td><td>0.002289503 </td><td>0.0011987467</td><td>0.0013392259</td><td>0.001771337 </td><td>0.002506277 </td><td>0.001891553 </td></tr>\n",
       "\t<tr><td>0.04040404  </td><td>0.62068966  </td><td>0.1541442   </td><td>0.07160143  </td><td>0.10601954  </td><td>0.1798630   </td><td>0.09963262  </td><td>0.2756805   </td><td>0.002289503 </td><td>0.0217787169</td><td>0.0111602161</td><td>0.014492754 </td><td>0.001615365 </td><td>0.001284365 </td></tr>\n",
       "\t<tr><td>0.04040404  </td><td>0.27586207  </td><td>0.2035057   </td><td>0.12038060  </td><td>0.11797384  </td><td>0.1784066   </td><td>0.10010164  </td><td>0.2763668   </td><td>0.002861879 </td><td>0.0010776252</td><td>0.0007332262</td><td>0.001610306 </td><td>0.002344506 </td><td>0.001513243 </td></tr>\n",
       "</tbody>\n",
       "</table>\n"
      ],
      "text/latex": [
       "\\begin{tabular}{r|llllllllllllll}\n",
       " LIMIT\\_BAL & AGE & BILL\\_AMT1 & BILL\\_AMT2 & BILL\\_AMT3 & BILL\\_AMT4 & BILL\\_AMT5 & BILL\\_AMT6 & PAY\\_AMT1 & PAY\\_AMT2 & PAY\\_AMT3 & PAY\\_AMT4 & PAY\\_AMT5 & PAY\\_AMT6\\\\\n",
       "\\hline\n",
       "\t 0.01010101   & 0.05172414   & 0.1499817    & 0.06916432   & 0.08672289   & 0.1601378    & 0.08064809   & 0.2609787    & 0.000000000  & 0.0004090820 & 0.0000000000 & 0.000000000  & 0.000000000  & 0.000000000 \\\\\n",
       "\t 0.11111111   & 0.08620690   & 0.1488924    & 0.06785751   & 0.08781713   & 0.1632199    & 0.08407395   & 0.2634847    & 0.000000000  & 0.0005937329 & 0.0011160216 & 0.001610306  & 0.000000000  & 0.003783107 \\\\\n",
       "\t 0.08080808   & 0.22413793   & 0.1723923    & 0.07953247   & 0.09378907   & 0.1736374    & 0.09547003   & 0.2729278    & 0.001737733  & 0.0008905994 & 0.0011160216 & 0.001610306  & 0.002344506  & 0.009457767 \\\\\n",
       "\t 0.04040404   & 0.27586207   & 0.1880999    & 0.11199497   & 0.11340745   & 0.1868092    & 0.10936287   & 0.2836851    & 0.002289503  & 0.0011987467 & 0.0013392259 & 0.001771337  & 0.002506277  & 0.001891553 \\\\\n",
       "\t 0.04040404   & 0.62068966   & 0.1541442    & 0.07160143   & 0.10601954   & 0.1798630    & 0.09963262   & 0.2756805    & 0.002289503  & 0.0217787169 & 0.0111602161 & 0.014492754  & 0.001615365  & 0.001284365 \\\\\n",
       "\t 0.04040404   & 0.27586207   & 0.2035057    & 0.12038060   & 0.11797384   & 0.1784066    & 0.10010164   & 0.2763668    & 0.002861879  & 0.0010776252 & 0.0007332262 & 0.001610306  & 0.002344506  & 0.001513243 \\\\\n",
       "\\end{tabular}\n"
      ],
      "text/markdown": [
       "\n",
       "LIMIT_BAL | AGE | BILL_AMT1 | BILL_AMT2 | BILL_AMT3 | BILL_AMT4 | BILL_AMT5 | BILL_AMT6 | PAY_AMT1 | PAY_AMT2 | PAY_AMT3 | PAY_AMT4 | PAY_AMT5 | PAY_AMT6 | \n",
       "|---|---|---|---|---|---|\n",
       "| 0.01010101   | 0.05172414   | 0.1499817    | 0.06916432   | 0.08672289   | 0.1601378    | 0.08064809   | 0.2609787    | 0.000000000  | 0.0004090820 | 0.0000000000 | 0.000000000  | 0.000000000  | 0.000000000  | \n",
       "| 0.11111111   | 0.08620690   | 0.1488924    | 0.06785751   | 0.08781713   | 0.1632199    | 0.08407395   | 0.2634847    | 0.000000000  | 0.0005937329 | 0.0011160216 | 0.001610306  | 0.000000000  | 0.003783107  | \n",
       "| 0.08080808   | 0.22413793   | 0.1723923    | 0.07953247   | 0.09378907   | 0.1736374    | 0.09547003   | 0.2729278    | 0.001737733  | 0.0008905994 | 0.0011160216 | 0.001610306  | 0.002344506  | 0.009457767  | \n",
       "| 0.04040404   | 0.27586207   | 0.1880999    | 0.11199497   | 0.11340745   | 0.1868092    | 0.10936287   | 0.2836851    | 0.002289503  | 0.0011987467 | 0.0013392259 | 0.001771337  | 0.002506277  | 0.001891553  | \n",
       "| 0.04040404   | 0.62068966   | 0.1541442    | 0.07160143   | 0.10601954   | 0.1798630    | 0.09963262   | 0.2756805    | 0.002289503  | 0.0217787169 | 0.0111602161 | 0.014492754  | 0.001615365  | 0.001284365  | \n",
       "| 0.04040404   | 0.27586207   | 0.2035057    | 0.12038060   | 0.11797384   | 0.1784066    | 0.10010164   | 0.2763668    | 0.002861879  | 0.0010776252 | 0.0007332262 | 0.001610306  | 0.002344506  | 0.001513243  | \n",
       "\n",
       "\n"
      ],
      "text/plain": [
       "  LIMIT_BAL  AGE        BILL_AMT1 BILL_AMT2  BILL_AMT3  BILL_AMT4 BILL_AMT5 \n",
       "1 0.01010101 0.05172414 0.1499817 0.06916432 0.08672289 0.1601378 0.08064809\n",
       "2 0.11111111 0.08620690 0.1488924 0.06785751 0.08781713 0.1632199 0.08407395\n",
       "3 0.08080808 0.22413793 0.1723923 0.07953247 0.09378907 0.1736374 0.09547003\n",
       "4 0.04040404 0.27586207 0.1880999 0.11199497 0.11340745 0.1868092 0.10936287\n",
       "5 0.04040404 0.62068966 0.1541442 0.07160143 0.10601954 0.1798630 0.09963262\n",
       "6 0.04040404 0.27586207 0.2035057 0.12038060 0.11797384 0.1784066 0.10010164\n",
       "  BILL_AMT6 PAY_AMT1    PAY_AMT2     PAY_AMT3     PAY_AMT4    PAY_AMT5   \n",
       "1 0.2609787 0.000000000 0.0004090820 0.0000000000 0.000000000 0.000000000\n",
       "2 0.2634847 0.000000000 0.0005937329 0.0011160216 0.001610306 0.000000000\n",
       "3 0.2729278 0.001737733 0.0008905994 0.0011160216 0.001610306 0.002344506\n",
       "4 0.2836851 0.002289503 0.0011987467 0.0013392259 0.001771337 0.002506277\n",
       "5 0.2756805 0.002289503 0.0217787169 0.0111602161 0.014492754 0.001615365\n",
       "6 0.2763668 0.002861879 0.0010776252 0.0007332262 0.001610306 0.002344506\n",
       "  PAY_AMT6   \n",
       "1 0.000000000\n",
       "2 0.003783107\n",
       "3 0.009457767\n",
       "4 0.001891553\n",
       "5 0.001284365\n",
       "6 0.001513243"
      ]
     },
     "metadata": {},
     "output_type": "display_data"
    }
   ],
   "source": [
    "\n",
    "##\n",
    "## se aplica la función a los datos numéricos\n",
    "##\n",
    "num_scaled <- as.data.frame(lapply(num, MinMaxScaler))\n",
    "head(num_scaled)"
   ]
  },
  {
   "cell_type": "code",
   "execution_count": 57,
   "metadata": {},
   "outputs": [
    {
     "data": {
      "text/html": [
       "<table>\n",
       "<thead><tr><th scope=col>LIMIT_BAL</th><th scope=col>AGE</th><th scope=col>BILL_AMT1</th><th scope=col>BILL_AMT2</th><th scope=col>BILL_AMT3</th><th scope=col>BILL_AMT4</th><th scope=col>BILL_AMT5</th><th scope=col>BILL_AMT6</th><th scope=col>PAY_AMT1</th><th scope=col>PAY_AMT2</th><th scope=col>...</th><th scope=col>PAY_AMT6</th><th scope=col>SEX</th><th scope=col>EDUCATION</th><th scope=col>MARRIAGE</th><th scope=col>PAY_0</th><th scope=col>PAY_2</th><th scope=col>PAY_3</th><th scope=col>PAY_4</th><th scope=col>PAY_5</th><th scope=col>PAY_6</th></tr></thead>\n",
       "<tbody>\n",
       "\t<tr><td>0.01010101  </td><td>0.05172414  </td><td>0.1499817   </td><td>0.06916432  </td><td>0.08672289  </td><td>0.1601378   </td><td>0.08064809  </td><td>0.2609787   </td><td>0.000000000 </td><td>0.0004090820</td><td>...         </td><td>0.000000000 </td><td>2           </td><td>2           </td><td>1           </td><td>2           </td><td>2           </td><td>-1          </td><td>-1          </td><td>-2          </td><td>-2          </td></tr>\n",
       "\t<tr><td>0.11111111  </td><td>0.08620690  </td><td>0.1488924   </td><td>0.06785751  </td><td>0.08781713  </td><td>0.1632199   </td><td>0.08407395  </td><td>0.2634847   </td><td>0.000000000 </td><td>0.0005937329</td><td>...         </td><td>0.003783107 </td><td>2           </td><td>2           </td><td>2           </td><td>-1          </td><td>2           </td><td>0           </td><td>0           </td><td>0           </td><td>2           </td></tr>\n",
       "\t<tr><td>0.08080808  </td><td>0.22413793  </td><td>0.1723923   </td><td>0.07953247  </td><td>0.09378907  </td><td>0.1736374   </td><td>0.09547003  </td><td>0.2729278   </td><td>0.001737733 </td><td>0.0008905994</td><td>...         </td><td>0.009457767 </td><td>2           </td><td>2           </td><td>2           </td><td>0           </td><td>0           </td><td>0           </td><td>0           </td><td>0           </td><td>0           </td></tr>\n",
       "\t<tr><td>0.04040404  </td><td>0.27586207  </td><td>0.1880999   </td><td>0.11199497  </td><td>0.11340745  </td><td>0.1868092   </td><td>0.10936287  </td><td>0.2836851   </td><td>0.002289503 </td><td>0.0011987467</td><td>...         </td><td>0.001891553 </td><td>2           </td><td>2           </td><td>1           </td><td>0           </td><td>0           </td><td>0           </td><td>0           </td><td>0           </td><td>0           </td></tr>\n",
       "\t<tr><td>0.04040404  </td><td>0.62068966  </td><td>0.1541442   </td><td>0.07160143  </td><td>0.10601954  </td><td>0.1798630   </td><td>0.09963262  </td><td>0.2756805   </td><td>0.002289503 </td><td>0.0217787169</td><td>...         </td><td>0.001284365 </td><td>1           </td><td>2           </td><td>1           </td><td>-1          </td><td>0           </td><td>-1          </td><td>0           </td><td>0           </td><td>0           </td></tr>\n",
       "\t<tr><td>0.04040404  </td><td>0.27586207  </td><td>0.2035057   </td><td>0.12038060  </td><td>0.11797384  </td><td>0.1784066   </td><td>0.10010164  </td><td>0.2763668   </td><td>0.002861879 </td><td>0.0010776252</td><td>...         </td><td>0.001513243 </td><td>1           </td><td>1           </td><td>2           </td><td>0           </td><td>0           </td><td>0           </td><td>0           </td><td>0           </td><td>0           </td></tr>\n",
       "</tbody>\n",
       "</table>\n"
      ],
      "text/latex": [
       "\\begin{tabular}{r|lllllllllllllllllllllll}\n",
       " LIMIT\\_BAL & AGE & BILL\\_AMT1 & BILL\\_AMT2 & BILL\\_AMT3 & BILL\\_AMT4 & BILL\\_AMT5 & BILL\\_AMT6 & PAY\\_AMT1 & PAY\\_AMT2 & ... & PAY\\_AMT6 & SEX & EDUCATION & MARRIAGE & PAY\\_0 & PAY\\_2 & PAY\\_3 & PAY\\_4 & PAY\\_5 & PAY\\_6\\\\\n",
       "\\hline\n",
       "\t 0.01010101   & 0.05172414   & 0.1499817    & 0.06916432   & 0.08672289   & 0.1601378    & 0.08064809   & 0.2609787    & 0.000000000  & 0.0004090820 & ...          & 0.000000000  & 2            & 2            & 1            & 2            & 2            & -1           & -1           & -2           & -2          \\\\\n",
       "\t 0.11111111   & 0.08620690   & 0.1488924    & 0.06785751   & 0.08781713   & 0.1632199    & 0.08407395   & 0.2634847    & 0.000000000  & 0.0005937329 & ...          & 0.003783107  & 2            & 2            & 2            & -1           & 2            & 0            & 0            & 0            & 2           \\\\\n",
       "\t 0.08080808   & 0.22413793   & 0.1723923    & 0.07953247   & 0.09378907   & 0.1736374    & 0.09547003   & 0.2729278    & 0.001737733  & 0.0008905994 & ...          & 0.009457767  & 2            & 2            & 2            & 0            & 0            & 0            & 0            & 0            & 0           \\\\\n",
       "\t 0.04040404   & 0.27586207   & 0.1880999    & 0.11199497   & 0.11340745   & 0.1868092    & 0.10936287   & 0.2836851    & 0.002289503  & 0.0011987467 & ...          & 0.001891553  & 2            & 2            & 1            & 0            & 0            & 0            & 0            & 0            & 0           \\\\\n",
       "\t 0.04040404   & 0.62068966   & 0.1541442    & 0.07160143   & 0.10601954   & 0.1798630    & 0.09963262   & 0.2756805    & 0.002289503  & 0.0217787169 & ...          & 0.001284365  & 1            & 2            & 1            & -1           & 0            & -1           & 0            & 0            & 0           \\\\\n",
       "\t 0.04040404   & 0.27586207   & 0.2035057    & 0.12038060   & 0.11797384   & 0.1784066    & 0.10010164   & 0.2763668    & 0.002861879  & 0.0010776252 & ...          & 0.001513243  & 1            & 1            & 2            & 0            & 0            & 0            & 0            & 0            & 0           \\\\\n",
       "\\end{tabular}\n"
      ],
      "text/markdown": [
       "\n",
       "LIMIT_BAL | AGE | BILL_AMT1 | BILL_AMT2 | BILL_AMT3 | BILL_AMT4 | BILL_AMT5 | BILL_AMT6 | PAY_AMT1 | PAY_AMT2 | ... | PAY_AMT6 | SEX | EDUCATION | MARRIAGE | PAY_0 | PAY_2 | PAY_3 | PAY_4 | PAY_5 | PAY_6 | \n",
       "|---|---|---|---|---|---|\n",
       "| 0.01010101   | 0.05172414   | 0.1499817    | 0.06916432   | 0.08672289   | 0.1601378    | 0.08064809   | 0.2609787    | 0.000000000  | 0.0004090820 | ...          | 0.000000000  | 2            | 2            | 1            | 2            | 2            | -1           | -1           | -2           | -2           | \n",
       "| 0.11111111   | 0.08620690   | 0.1488924    | 0.06785751   | 0.08781713   | 0.1632199    | 0.08407395   | 0.2634847    | 0.000000000  | 0.0005937329 | ...          | 0.003783107  | 2            | 2            | 2            | -1           | 2            | 0            | 0            | 0            | 2            | \n",
       "| 0.08080808   | 0.22413793   | 0.1723923    | 0.07953247   | 0.09378907   | 0.1736374    | 0.09547003   | 0.2729278    | 0.001737733  | 0.0008905994 | ...          | 0.009457767  | 2            | 2            | 2            | 0            | 0            | 0            | 0            | 0            | 0            | \n",
       "| 0.04040404   | 0.27586207   | 0.1880999    | 0.11199497   | 0.11340745   | 0.1868092    | 0.10936287   | 0.2836851    | 0.002289503  | 0.0011987467 | ...          | 0.001891553  | 2            | 2            | 1            | 0            | 0            | 0            | 0            | 0            | 0            | \n",
       "| 0.04040404   | 0.62068966   | 0.1541442    | 0.07160143   | 0.10601954   | 0.1798630    | 0.09963262   | 0.2756805    | 0.002289503  | 0.0217787169 | ...          | 0.001284365  | 1            | 2            | 1            | -1           | 0            | -1           | 0            | 0            | 0            | \n",
       "| 0.04040404   | 0.27586207   | 0.2035057    | 0.12038060   | 0.11797384   | 0.1784066    | 0.10010164   | 0.2763668    | 0.002861879  | 0.0010776252 | ...          | 0.001513243  | 1            | 1            | 2            | 0            | 0            | 0            | 0            | 0            | 0            | \n",
       "\n",
       "\n"
      ],
      "text/plain": [
       "  LIMIT_BAL  AGE        BILL_AMT1 BILL_AMT2  BILL_AMT3  BILL_AMT4 BILL_AMT5 \n",
       "1 0.01010101 0.05172414 0.1499817 0.06916432 0.08672289 0.1601378 0.08064809\n",
       "2 0.11111111 0.08620690 0.1488924 0.06785751 0.08781713 0.1632199 0.08407395\n",
       "3 0.08080808 0.22413793 0.1723923 0.07953247 0.09378907 0.1736374 0.09547003\n",
       "4 0.04040404 0.27586207 0.1880999 0.11199497 0.11340745 0.1868092 0.10936287\n",
       "5 0.04040404 0.62068966 0.1541442 0.07160143 0.10601954 0.1798630 0.09963262\n",
       "6 0.04040404 0.27586207 0.2035057 0.12038060 0.11797384 0.1784066 0.10010164\n",
       "  BILL_AMT6 PAY_AMT1    PAY_AMT2     ... PAY_AMT6    SEX EDUCATION MARRIAGE\n",
       "1 0.2609787 0.000000000 0.0004090820 ... 0.000000000 2   2         1       \n",
       "2 0.2634847 0.000000000 0.0005937329 ... 0.003783107 2   2         2       \n",
       "3 0.2729278 0.001737733 0.0008905994 ... 0.009457767 2   2         2       \n",
       "4 0.2836851 0.002289503 0.0011987467 ... 0.001891553 2   2         1       \n",
       "5 0.2756805 0.002289503 0.0217787169 ... 0.001284365 1   2         1       \n",
       "6 0.2763668 0.002861879 0.0010776252 ... 0.001513243 1   1         2       \n",
       "  PAY_0 PAY_2 PAY_3 PAY_4 PAY_5 PAY_6\n",
       "1 2     2     -1    -1    -2    -2   \n",
       "2 -1    2     0     0     0     2    \n",
       "3 0     0     0     0     0     0    \n",
       "4 0     0     0     0     0     0    \n",
       "5 -1    0     -1    0     0     0    \n",
       "6 0     0     0     0     0     0    "
      ]
     },
     "metadata": {},
     "output_type": "display_data"
    }
   ],
   "source": [
    "# Se unifica la base de datos con las variables numéricas normalizadas y las variables categóricas.\n",
    "\n",
    "X_scaled=cbind(num_scaled,cat)\n",
    "head(X_scaled)\n"
   ]
  },
  {
   "cell_type": "code",
   "execution_count": 58,
   "metadata": {},
   "outputs": [
    {
     "name": "stdout",
     "output_type": "stream",
     "text": [
      " int [1:21001, 1] 1 2 3 4 7 8 9 11 13 14 ...\n",
      " - attr(*, \"dimnames\")=List of 2\n",
      "  ..$ : NULL\n",
      "  ..$ : chr \"Resample1\"\n"
     ]
    }
   ],
   "source": [
    "##\n",
    "## Se crean los conjuntos de entrenamiento y prueba\n",
    "##\n",
    "library(caret)\n",
    "muestra1 = createDataPartition(y,    # datos \n",
    "                            times = 1,   # número de particiones \n",
    "                            p = 0.7,\n",
    "                          list=FALSE)     # porcentaje de los datos a usar en el entrenamiento\n",
    "str(muestra1)\n",
    "\n",
    "\n",
    "\n",
    "X_train1 <- X_scaled[muestra1, ]\n",
    "X_test1 <- X_scaled[-muestra1, ]\n",
    "\n",
    "y_train_true1 <- y[muestra1]\n",
    "y_test_true1 <- y[-muestra1]\n",
    "\n"
   ]
  },
  {
   "cell_type": "markdown",
   "metadata": {},
   "source": [
    "# Entrenamiento del modelo"
   ]
  },
  {
   "cell_type": "code",
   "execution_count": 98,
   "metadata": {},
   "outputs": [
    {
     "data": {
      "text/html": [
       "<ol class=list-inline>\n",
       "\t<li>0</li>\n",
       "\t<li>0</li>\n",
       "\t<li>0</li>\n",
       "\t<li>0</li>\n",
       "\t<li>0</li>\n",
       "\t<li>0</li>\n",
       "\t<li>0</li>\n",
       "\t<li>0</li>\n",
       "\t<li>0</li>\n",
       "\t<li>0</li>\n",
       "\t<li>0</li>\n",
       "\t<li>0</li>\n",
       "\t<li>0</li>\n",
       "\t<li>0</li>\n",
       "\t<li>0</li>\n",
       "</ol>\n"
      ],
      "text/latex": [
       "\\begin{enumerate*}\n",
       "\\item 0\n",
       "\\item 0\n",
       "\\item 0\n",
       "\\item 0\n",
       "\\item 0\n",
       "\\item 0\n",
       "\\item 0\n",
       "\\item 0\n",
       "\\item 0\n",
       "\\item 0\n",
       "\\item 0\n",
       "\\item 0\n",
       "\\item 0\n",
       "\\item 0\n",
       "\\item 0\n",
       "\\end{enumerate*}\n"
      ],
      "text/markdown": [
       "1. 0\n",
       "2. 0\n",
       "3. 0\n",
       "4. 0\n",
       "5. 0\n",
       "6. 0\n",
       "7. 0\n",
       "8. 0\n",
       "9. 0\n",
       "10. 0\n",
       "11. 0\n",
       "12. 0\n",
       "13. 0\n",
       "14. 0\n",
       "15. 0\n",
       "\n",
       "\n"
      ],
      "text/plain": [
       " [1] 0 0 0 0 0 0 0 0 0 0 0 0 0 0 0"
      ]
     },
     "metadata": {},
     "output_type": "display_data"
    }
   ],
   "source": [
    "## Se crea vector de ceros de longitud 15\n",
    "c=c(rep(0,15))\n",
    "c"
   ]
  },
  {
   "cell_type": "code",
   "execution_count": 99,
   "metadata": {
    "scrolled": true
   },
   "outputs": [
    {
     "data": {
      "text/html": [
       "<ol class=list-inline>\n",
       "\t<li>6543</li>\n",
       "\t<li>6543</li>\n",
       "\t<li>6982</li>\n",
       "\t<li>6994</li>\n",
       "\t<li>7170</li>\n",
       "\t<li>7197</li>\n",
       "\t<li>7272</li>\n",
       "\t<li>7254</li>\n",
       "\t<li>7328</li>\n",
       "\t<li>7313</li>\n",
       "\t<li>7331</li>\n",
       "\t<li>7346</li>\n",
       "\t<li>7328</li>\n",
       "\t<li>7329</li>\n",
       "\t<li>7339</li>\n",
       "</ol>\n"
      ],
      "text/latex": [
       "\\begin{enumerate*}\n",
       "\\item 6543\n",
       "\\item 6543\n",
       "\\item 6982\n",
       "\\item 6994\n",
       "\\item 7170\n",
       "\\item 7197\n",
       "\\item 7272\n",
       "\\item 7254\n",
       "\\item 7328\n",
       "\\item 7313\n",
       "\\item 7331\n",
       "\\item 7346\n",
       "\\item 7328\n",
       "\\item 7329\n",
       "\\item 7339\n",
       "\\end{enumerate*}\n"
      ],
      "text/markdown": [
       "1. 6543\n",
       "2. 6543\n",
       "3. 6982\n",
       "4. 6994\n",
       "5. 7170\n",
       "6. 7197\n",
       "7. 7272\n",
       "8. 7254\n",
       "9. 7328\n",
       "10. 7313\n",
       "11. 7331\n",
       "12. 7346\n",
       "13. 7328\n",
       "14. 7329\n",
       "15. 7339\n",
       "\n",
       "\n"
      ],
      "text/plain": [
       " [1] 6543 6543 6982 6994 7170 7197 7272 7254 7328 7313 7331 7346 7328 7329 7339"
      ]
     },
     "metadata": {},
     "output_type": "display_data"
    }
   ],
   "source": [
    "## Se realiza ciclo for para k entre 1 y 15, con el fin de seleccionar, el que maximiza la tasa de éxito (Traza \n",
    "## de la matriz de confusión\n",
    "\n",
    "for (x in 1:15) {\n",
    "    \n",
    " y_test_pred1 <- knn(train = X_train1,   # conjunto de entrenamiento\n",
    "                  test = X_test1,     # conjunto de prueba\n",
    "                 cl = y_train_true1, # clases para el conjunto de entrenamiento\n",
    "                k = x)            # número de vecinos   \n",
    "    \n",
    " c[x]=table(y_test_true1, y_test_pred1)[1]+table(y_test_true1, y_test_pred1)[4]\n",
    "   \n",
    "    \n",
    "}\n",
    "    \n",
    "c"
   ]
  },
  {
   "cell_type": "code",
   "execution_count": 100,
   "metadata": {},
   "outputs": [
    {
     "data": {
      "text/html": [
       "7346"
      ],
      "text/latex": [
       "7346"
      ],
      "text/markdown": [
       "7346"
      ],
      "text/plain": [
       "[1] 7346"
      ]
     },
     "metadata": {},
     "output_type": "display_data"
    }
   ],
   "source": [
    "\n",
    "max(c)\n",
    "\n",
    "#El k óptimo Corresponde a k = 12\n"
   ]
  },
  {
   "cell_type": "code",
   "execution_count": 101,
   "metadata": {},
   "outputs": [],
   "source": [
    " ##\n",
    "## carga la librería\n",
    "## install.packages(\"class\")\n",
    "##\n",
    "library(class)\n",
    "\n",
    "\n",
    " y_test_pred1 <- knn(train = X_train1,   # conjunto de entrenamiento\n",
    "                  test = X_test1,     # conjunto de prueba\n",
    "                 cl = y_train_true1, # clases para el conjunto de entrenamiento\n",
    "                k = 12)            # número de vecinos "
   ]
  },
  {
   "cell_type": "code",
   "execution_count": 102,
   "metadata": {},
   "outputs": [
    {
     "data": {
      "text/plain": [
       "             y_test_pred1\n",
       "y_test_true1  No Incumple Incumple\n",
       "  No Incumple        6599      410\n",
       "  Incumple           1279      711"
      ]
     },
     "metadata": {},
     "output_type": "display_data"
    }
   ],
   "source": [
    "##Se calcula la matrix de confusión.\n",
    "table(y_test_true1, y_test_pred1)"
   ]
  },
  {
   "cell_type": "code",
   "execution_count": 110,
   "metadata": {},
   "outputs": [
    {
     "data": {
      "text/html": [
       "0.812312479164352"
      ],
      "text/latex": [
       "0.812312479164352"
      ],
      "text/markdown": [
       "0.812312479164352"
      ],
      "text/plain": [
       "[1] 0.8123125"
      ]
     },
     "metadata": {},
     "output_type": "display_data"
    }
   ],
   "source": [
    "#Tasa de éxito (porcentaje de patrones clasificados correctamente):\n",
    "\n",
    "tasa_exito=(table(y_test_true1, y_test_pred1)[1]+table(y_test_true1, y_test_pred1)[4])/(table(y_test_true1, y_test_pred1)[1]\n",
    "                                                                             +table(y_test_true1, y_test_pred1)[2]\n",
    "                                                                            +table(y_test_true1, y_test_pred1)[3]+\n",
    "                                                                            table(y_test_true1, y_test_pred1)[4])\n",
    "\n",
    "tasa_exito\n"
   ]
  },
  {
   "cell_type": "code",
   "execution_count": 111,
   "metadata": {},
   "outputs": [
    {
     "data": {
      "text/html": [
       "0.187687520835648"
      ],
      "text/latex": [
       "0.187687520835648"
      ],
      "text/markdown": [
       "0.187687520835648"
      ],
      "text/plain": [
       "[1] 0.1876875"
      ]
     },
     "metadata": {},
     "output_type": "display_data"
    }
   ],
   "source": [
    "#Error del modelo\n",
    "\n",
    "1-tasa_exito"
   ]
  },
  {
   "cell_type": "code",
   "execution_count": 115,
   "metadata": {},
   "outputs": [
    {
     "data": {
      "text/html": [
       "0.941503780853189"
      ],
      "text/latex": [
       "0.941503780853189"
      ],
      "text/markdown": [
       "0.941503780853189"
      ],
      "text/plain": [
       "[1] 0.9415038"
      ]
     },
     "metadata": {},
     "output_type": "display_data"
    }
   ],
   "source": [
    "#Sensibilidad\n",
    "sensibilidad = (table(y_test_true1, y_test_pred1)[1])/(table(y_test_true1, y_test_pred1)[1]+table(y_test_true1, y_test_pred1)[3])\n",
    "sensibilidad"
   ]
  },
  {
   "cell_type": "code",
   "execution_count": 116,
   "metadata": {},
   "outputs": [
    {
     "data": {
      "text/html": [
       "0.357286432160804"
      ],
      "text/latex": [
       "0.357286432160804"
      ],
      "text/markdown": [
       "0.357286432160804"
      ],
      "text/plain": [
       "[1] 0.3572864"
      ]
     },
     "metadata": {},
     "output_type": "display_data"
    }
   ],
   "source": [
    "#Especificidad\n",
    "especificidad= (table(y_test_true1, y_test_pred1)[4])/(table(y_test_true1, y_test_pred1)[2]+table(y_test_true1, y_test_pred1)[4])\n",
    "especificidad\n",
    "\n"
   ]
  },
  {
   "cell_type": "markdown",
   "metadata": {},
   "source": [
    "# 3.2 Naive Bayes"
   ]
  },
  {
   "cell_type": "code",
   "execution_count": 117,
   "metadata": {},
   "outputs": [
    {
     "name": "stderr",
     "output_type": "stream",
     "text": [
      "\n",
      "Attaching package: 'NLP'\n",
      "\n",
      "The following object is masked from 'package:ggplot2':\n",
      "\n",
      "    annotate\n",
      "\n",
      "Warning message:\n",
      "\"package 'tm' was built under R version 3.4.4\""
     ]
    }
   ],
   "source": [
    "##\n",
    "## El paquete tm se usa para minería de texto\n",
    "## install.packages(\"tm\")\n",
    "## install.packages(\"NLP\")\n",
    "## install.packages(\"SnowballC\")\n",
    "##\n",
    "library(NLP)\n",
    "library(tm)\n",
    "library(SnowballC)"
   ]
  },
  {
   "cell_type": "markdown",
   "metadata": {},
   "source": [
    "# Entrenamiento"
   ]
  },
  {
   "cell_type": "code",
   "execution_count": 118,
   "metadata": {},
   "outputs": [
    {
     "name": "stdout",
     "output_type": "stream",
     "text": [
      " int [1:21001, 1] 1 2 3 4 5 6 7 8 10 11 ...\n",
      " - attr(*, \"dimnames\")=List of 2\n",
      "  ..$ : NULL\n",
      "  ..$ : chr \"Resample1\"\n"
     ]
    }
   ],
   "source": [
    "##\n",
    "## Se crean los conjuntos de entrenamiento y prueba\n",
    "##\n",
    "library(caret)\n",
    "muestra2 = createDataPartition(y,    # datos \n",
    "                            times = 1,   # número de particiones \n",
    "                            p = 0.7,\n",
    "                          list=FALSE)     # porcentaje de los datos a usar en el entrenamiento\n",
    "str(muestra2)\n",
    "\n",
    "\n",
    "\n",
    "X_train2 <- X_scaled[muestra2, ]\n",
    "X_test2 <- X_scaled[-muestra2, ]\n",
    "\n",
    "y_train_true2 <- y[muestra2]\n",
    "y_test_true2 <- y[-muestra2]\n"
   ]
  },
  {
   "cell_type": "code",
   "execution_count": 119,
   "metadata": {},
   "outputs": [],
   "source": [
    "##\n",
    "## Carga la librería\n",
    "#install.packages(\"e1071\")\n",
    "##\n",
    "\n",
    "library(e1071)\n",
    "clf <- naiveBayes(X_train2, y_train_true2)"
   ]
  },
  {
   "cell_type": "markdown",
   "metadata": {},
   "source": [
    "# Evaluación"
   ]
  },
  {
   "cell_type": "code",
   "execution_count": 120,
   "metadata": {},
   "outputs": [
    {
     "data": {
      "text/html": [
       "<ol class=list-inline>\n",
       "\t<li>Incumple</li>\n",
       "\t<li>No Incumple</li>\n",
       "\t<li>No Incumple</li>\n",
       "\t<li>Incumple</li>\n",
       "\t<li>No Incumple</li>\n",
       "\t<li>Incumple</li>\n",
       "</ol>\n"
      ],
      "text/latex": [
       "\\begin{enumerate*}\n",
       "\\item Incumple\n",
       "\\item No Incumple\n",
       "\\item No Incumple\n",
       "\\item Incumple\n",
       "\\item No Incumple\n",
       "\\item Incumple\n",
       "\\end{enumerate*}\n"
      ],
      "text/markdown": [
       "1. Incumple\n",
       "2. No Incumple\n",
       "3. No Incumple\n",
       "4. Incumple\n",
       "5. No Incumple\n",
       "6. Incumple\n",
       "\n",
       "\n"
      ],
      "text/plain": [
       "[1] Incumple    No Incumple No Incumple Incumple    No Incumple Incumple   \n",
       "Levels: No Incumple Incumple"
      ]
     },
     "metadata": {},
     "output_type": "display_data"
    }
   ],
   "source": [
    "##\n",
    "## Se pronostica para los datos de prueba.\n",
    "##\n",
    "y_test_pred2 <- predict(clf, X_test2)\n",
    "head(y_test_pred2)"
   ]
  },
  {
   "cell_type": "code",
   "execution_count": 121,
   "metadata": {
    "scrolled": true
   },
   "outputs": [
    {
     "data": {
      "text/plain": [
       "             y_test_pred2\n",
       "y_test_true2  No Incumple Incumple\n",
       "  No Incumple        2861     4148\n",
       "  Incumple            357     1633"
      ]
     },
     "metadata": {},
     "output_type": "display_data"
    }
   ],
   "source": [
    "##\n",
    "## Se calcula la matriz de confusión.\n",
    "##\n",
    "table(y_test_true2, y_test_pred2)"
   ]
  },
  {
   "cell_type": "code",
   "execution_count": 125,
   "metadata": {},
   "outputs": [
    {
     "data": {
      "text/html": [
       "0.499388820980109"
      ],
      "text/latex": [
       "0.499388820980109"
      ],
      "text/markdown": [
       "0.499388820980109"
      ],
      "text/plain": [
       "[1] 0.4993888"
      ]
     },
     "metadata": {},
     "output_type": "display_data"
    }
   ],
   "source": [
    "#Tasa de éxito (porcentaje de patrones clasificados correctamente):\n",
    "\n",
    "tasa_exito2=(table(y_test_true2, y_test_pred2)[1]+table(y_test_true2, y_test_pred2)[4])/(table(y_test_true2, y_test_pred2)[1]\n",
    "                                                                             +table(y_test_true2, y_test_pred2)[2]\n",
    "                                                                            +table(y_test_true2, y_test_pred2)[3]+\n",
    "                                                                            table(y_test_true2, y_test_pred2)[4])\n",
    "\n",
    "tasa_exito2\n"
   ]
  },
  {
   "cell_type": "code",
   "execution_count": 126,
   "metadata": {},
   "outputs": [
    {
     "data": {
      "text/html": [
       "0.500611179019891"
      ],
      "text/latex": [
       "0.500611179019891"
      ],
      "text/markdown": [
       "0.500611179019891"
      ],
      "text/plain": [
       "[1] 0.5006112"
      ]
     },
     "metadata": {},
     "output_type": "display_data"
    }
   ],
   "source": [
    "#Error del modelo\n",
    "\n",
    "1-tasa_exito2"
   ]
  },
  {
   "cell_type": "code",
   "execution_count": 123,
   "metadata": {},
   "outputs": [
    {
     "data": {
      "text/html": [
       "0.408189470680554"
      ],
      "text/latex": [
       "0.408189470680554"
      ],
      "text/markdown": [
       "0.408189470680554"
      ],
      "text/plain": [
       "[1] 0.4081895"
      ]
     },
     "metadata": {},
     "output_type": "display_data"
    }
   ],
   "source": [
    "#Sensibilidad\n",
    "sensibilidad2 = (table(y_test_true2, y_test_pred2)[1])/(table(y_test_true2, y_test_pred2)[1]+table(y_test_true2, y_test_pred2)[3])\n",
    "sensibilidad2"
   ]
  },
  {
   "cell_type": "code",
   "execution_count": 124,
   "metadata": {},
   "outputs": [
    {
     "data": {
      "text/html": [
       "0.820603015075377"
      ],
      "text/latex": [
       "0.820603015075377"
      ],
      "text/markdown": [
       "0.820603015075377"
      ],
      "text/plain": [
       "[1] 0.820603"
      ]
     },
     "metadata": {},
     "output_type": "display_data"
    }
   ],
   "source": [
    "#Especificidad\n",
    "especificidad2= (table(y_test_true2, y_test_pred2)[4])/(table(y_test_true2, y_test_pred2)[2]+table(y_test_true2, y_test_pred2)[4])\n",
    "especificidad2\n"
   ]
  },
  {
   "cell_type": "markdown",
   "metadata": {},
   "source": [
    "# 3.3 Árbol de decisión"
   ]
  },
  {
   "cell_type": "markdown",
   "metadata": {},
   "source": [
    "# Preparación de los datos"
   ]
  },
  {
   "cell_type": "code",
   "execution_count": 127,
   "metadata": {},
   "outputs": [
    {
     "name": "stdout",
     "output_type": "stream",
     "text": [
      " int [1:27001, 1] 1 2 5 6 7 8 9 10 11 12 ...\n",
      " - attr(*, \"dimnames\")=List of 2\n",
      "  ..$ : NULL\n",
      "  ..$ : chr \"Resample1\"\n"
     ]
    }
   ],
   "source": [
    "##\n",
    "## Se crean los conjuntos de entrenamiento y prueba\n",
    "##\n",
    "library(caret)\n",
    "muestra3 = createDataPartition(y,    # datos \n",
    "                            times = 1,   # número de particiones \n",
    "                            p = 0.9,\n",
    "                          list=FALSE)     # porcentaje de los datos a usar en el entrenamiento\n",
    "str(muestra3)\n",
    "\n",
    "\n",
    "\n",
    "X_train3 <- X_scaled[muestra3, ]\n",
    "X_test3 <- X_scaled[-muestra3, ]\n",
    "\n",
    "y_train_true3 <- y[muestra3]\n",
    "y_test_true3 <- y[-muestra3]\n"
   ]
  },
  {
   "cell_type": "code",
   "execution_count": 128,
   "metadata": {},
   "outputs": [
    {
     "data": {
      "text/plain": [
       "y_train_true3\n",
       "No Incumple    Incumple \n",
       "   0.778786    0.221214 "
      ]
     },
     "metadata": {},
     "output_type": "display_data"
    }
   ],
   "source": [
    "##\n",
    "## Se verifica la proporción en el  conjunto de entrenamiento\n",
    "##\n",
    "prop.table(table(y_train_true3))"
   ]
  },
  {
   "cell_type": "code",
   "execution_count": 129,
   "metadata": {},
   "outputs": [
    {
     "data": {
      "text/plain": [
       "y_test_true3\n",
       "No Incumple    Incumple \n",
       "  0.7789263   0.2210737 "
      ]
     },
     "metadata": {},
     "output_type": "display_data"
    }
   ],
   "source": [
    "##\n",
    "## Conjunto de prueba\n",
    "##\n",
    "prop.table(table(y_test_true3))"
   ]
  },
  {
   "cell_type": "markdown",
   "metadata": {},
   "source": [
    "# Entrenamiento del modelo"
   ]
  },
  {
   "cell_type": "code",
   "execution_count": 130,
   "metadata": {},
   "outputs": [],
   "source": [
    "##\n",
    "## Carga la librería\n",
    "#install.packages(\"C50\")\n",
    "##\n",
    "library(C50)"
   ]
  },
  {
   "cell_type": "code",
   "execution_count": 131,
   "metadata": {},
   "outputs": [
    {
     "data": {
      "text/plain": [
       "\n",
       "Call:\n",
       "C5.0.default(x = X_train3, y = y_train_true3)\n",
       "\n",
       "Classification Tree\n",
       "Number of samples: 27001 \n",
       "Number of predictors: 23 \n",
       "\n",
       "Tree size: 33 \n",
       "\n",
       "Non-standard options: attempt to group attributes\n"
      ]
     },
     "metadata": {},
     "output_type": "display_data"
    }
   ],
   "source": [
    "##\n",
    "## Se usan los parámetros por defecto del algoritmo\n",
    "##\n",
    "arbol<- C5.0(X_train3, y_train_true3)\n",
    "arbol"
   ]
  },
  {
   "cell_type": "code",
   "execution_count": 132,
   "metadata": {},
   "outputs": [
    {
     "data": {
      "text/plain": [
       "\n",
       "Call:\n",
       "C5.0.default(x = X_train3, y = y_train_true3)\n",
       "\n",
       "\n",
       "C5.0 [Release 2.07 GPL Edition]  \tTue Apr 10 22:09:11 2018\n",
       "-------------------------------\n",
       "\n",
       "Class specified by attribute `outcome'\n",
       "\n",
       "Read 27001 cases (24 attributes) from undefined.data\n",
       "\n",
       "Decision tree:\n",
       "\n",
       "PAY_0 in {2,3,4,7,8}:\n",
       ":...EDUCATION = 0: Incumple (0)\n",
       ":   EDUCATION in {5,6}: No Incumple (22/5)\n",
       ":   EDUCATION in {1,2,3,4}:\n",
       ":   :...PAY_3 in {-2,0,1,2,3,4,5,6,7,8}: Incumple (2658/753)\n",
       ":       PAY_3 = -1:\n",
       ":       :...PAY_2 in {-2,1,3,4,5,6,7,8}: No Incumple (0)\n",
       ":           PAY_2 = -1:\n",
       ":           :...BILL_AMT1 <= 0.1494641: No Incumple (75/24)\n",
       ":           :   BILL_AMT1 > 0.1494641: Incumple (5)\n",
       ":           PAY_2 = 0:\n",
       ":           :...PAY_AMT5 <= 0.0004689013: No Incumple (3)\n",
       ":           :   PAY_AMT5 > 0.0004689013: Incumple (9/1)\n",
       ":           PAY_2 = 2:\n",
       ":           :...PAY_AMT4 <= 0.001711755: Incumple (18/6)\n",
       ":               PAY_AMT4 > 0.001711755: No Incumple (9)\n",
       "PAY_0 in {-2,-1,0,1,5,6}:\n",
       ":...PAY_2 in {2,3,4,5}:\n",
       "    :...PAY_6 = 7: No Incumple (0)\n",
       "    :   PAY_6 in {-2,-1,0,4,5,6}:\n",
       "    :   :...PAY_2 in {2,4}: No Incumple (1393/511)\n",
       "    :   :   PAY_2 = 5: Incumple (12/5)\n",
       "    :   :   PAY_2 = 3:\n",
       "    :   :   :...PAY_3 in {-2,-1,0,1,2,4,5,6,7,8}: Incumple (85/38)\n",
       "    :   :       PAY_3 = 3: No Incumple (4)\n",
       "    :   PAY_6 in {2,3,8}:\n",
       "    :   :...PAY_6 in {3,8}: Incumple (38/10)\n",
       "    :       PAY_6 = 2:\n",
       "    :       :...PAY_5 in {-2,2,3,4,5,6,7,8}: Incumple (412/183)\n",
       "    :           PAY_5 = -1:\n",
       "    :           :...PAY_3 in {-2,-1,0,1,3,4,5,6,7,8}: No Incumple (8)\n",
       "    :           :   PAY_3 = 2: Incumple (11/3)\n",
       "    :           PAY_5 = 0:\n",
       "    :           :...LIMIT_BAL > 0.1313131: No Incumple (15)\n",
       "    :               LIMIT_BAL <= 0.1313131:\n",
       "    :               :...LIMIT_BAL <= 0.08080808: No Incumple (66/29)\n",
       "    :                   LIMIT_BAL > 0.08080808: Incumple (10/1)\n",
       "    PAY_2 in {-2,-1,0,1,6,7,8}:\n",
       "    :...PAY_AMT3 <= 0.0007566626:\n",
       "        :...PAY_0 in {-2,-1,0,6}: No Incumple (4922/968)\n",
       "        :   PAY_0 in {1,5}:\n",
       "        :   :...AGE <= 0.5344828: No Incumple (1093/320)\n",
       "        :       AGE > 0.5344828: Incumple (71/31)\n",
       "        PAY_AMT3 > 0.0007566626:\n",
       "        :...PAY_4 in {-2,-1,0,1,4,5,6,7,8}: No Incumple (15728/1702)\n",
       "            PAY_4 in {2,3}:\n",
       "            :...PAY_AMT2 > 0.001298494: No Incumple (160/33)\n",
       "                PAY_AMT2 <= 0.001298494:\n",
       "                :...PAY_0 in {-2,-1,1,5,6}: No Incumple (18/3)\n",
       "                    PAY_0 = 0:\n",
       "                    :...SEX = 1:\n",
       "                        :...PAY_3 in {-2,-1,0,1,2,4,5,6,7,\n",
       "                        :   :         8}: No Incumple (68/24)\n",
       "                        :   PAY_3 = 3: Incumple (4)\n",
       "                        SEX = 2:\n",
       "                        :...PAY_AMT3 <= 0.002429579: Incumple (39/10)\n",
       "                            PAY_AMT3 > 0.002429579:\n",
       "                            :...BILL_AMT6 <= 0.2799917: No Incumple (12/1)\n",
       "                                BILL_AMT6 > 0.2799917: Incumple (33/11)\n",
       "\n",
       "\n",
       "Evaluation on training data (27001 cases):\n",
       "\n",
       "\t    Decision Tree   \n",
       "\t  ----------------  \n",
       "\t  Size      Errors  \n",
       "\n",
       "\t    30 4672(17.3%)   <<\n",
       "\n",
       "\n",
       "\t   (a)   (b)    <-classified as\n",
       "\t  ----  ----\n",
       "\t 19976  1052    (a): class No Incumple\n",
       "\t  3620  2353    (b): class Incumple\n",
       "\n",
       "\n",
       "\tAttribute usage:\n",
       "\n",
       "\t100.00%\tPAY_0\n",
       "\t 90.07%\tPAY_2\n",
       "\t 82.03%\tPAY_AMT3\n",
       "\t 59.49%\tPAY_4\n",
       "\t 10.95%\tPAY_3\n",
       "\t 10.37%\tEDUCATION\n",
       "\t  7.61%\tPAY_6\n",
       "\t  4.31%\tAGE\n",
       "\t  1.93%\tPAY_5\n",
       "\t  1.24%\tPAY_AMT2\n",
       "\t  0.58%\tSEX\n",
       "\t  0.34%\tLIMIT_BAL\n",
       "\t  0.30%\tBILL_AMT1\n",
       "\t  0.17%\tBILL_AMT6\n",
       "\t  0.10%\tPAY_AMT4\n",
       "\t  0.04%\tPAY_AMT5\n",
       "\n",
       "\n",
       "Time: 3.5 secs\n"
      ]
     },
     "metadata": {},
     "output_type": "display_data"
    }
   ],
   "source": [
    "summary(arbol)"
   ]
  },
  {
   "cell_type": "markdown",
   "metadata": {},
   "source": [
    "# Evaluación del modelo"
   ]
  },
  {
   "cell_type": "code",
   "execution_count": 135,
   "metadata": {},
   "outputs": [
    {
     "data": {
      "text/plain": [
       "             y_test_pred3\n",
       "y_test_true3  No Incumple Incumple\n",
       "  No Incumple        2204      132\n",
       "  Incumple            419      244"
      ]
     },
     "metadata": {},
     "output_type": "display_data"
    }
   ],
   "source": [
    "##\n",
    "## Se calcula la matriz de confusión.\n",
    "##\n",
    "table(y_test_true3, y_test_pred3)"
   ]
  },
  {
   "cell_type": "code",
   "execution_count": 136,
   "metadata": {},
   "outputs": [
    {
     "data": {
      "text/html": [
       "0.816272090696899"
      ],
      "text/latex": [
       "0.816272090696899"
      ],
      "text/markdown": [
       "0.816272090696899"
      ],
      "text/plain": [
       "[1] 0.8162721"
      ]
     },
     "metadata": {},
     "output_type": "display_data"
    }
   ],
   "source": [
    "#Tasa de éxito (porcentaje de patrones clasificados correctamente):\n",
    "\n",
    "tasa_exito3=(table(y_test_true3, y_test_pred3)[1]+table(y_test_true3, y_test_pred3)[4])/(table(y_test_true3, y_test_pred3)[1]\n",
    "                                                                             +table(y_test_true3, y_test_pred3)[2]\n",
    "                                                                            +table(y_test_true3, y_test_pred3)[3]+\n",
    "                                                                            table(y_test_true3, y_test_pred3)[4])\n",
    "\n",
    "tasa_exito3\n"
   ]
  },
  {
   "cell_type": "code",
   "execution_count": 137,
   "metadata": {},
   "outputs": [
    {
     "data": {
      "text/html": [
       "0.183727909303101"
      ],
      "text/latex": [
       "0.183727909303101"
      ],
      "text/markdown": [
       "0.183727909303101"
      ],
      "text/plain": [
       "[1] 0.1837279"
      ]
     },
     "metadata": {},
     "output_type": "display_data"
    }
   ],
   "source": [
    "#Error del modelo\n",
    "\n",
    "1-tasa_exito3"
   ]
  },
  {
   "cell_type": "code",
   "execution_count": 138,
   "metadata": {},
   "outputs": [
    {
     "data": {
      "text/html": [
       "0.943493150684932"
      ],
      "text/latex": [
       "0.943493150684932"
      ],
      "text/markdown": [
       "0.943493150684932"
      ],
      "text/plain": [
       "[1] 0.9434932"
      ]
     },
     "metadata": {},
     "output_type": "display_data"
    }
   ],
   "source": [
    "#Sensibilidad\n",
    "sensibilidad3 = (table(y_test_true3, y_test_pred3)[1])/(table(y_test_true3, y_test_pred3)[1]+table(y_test_true3, y_test_pred3)[3])\n",
    "sensibilidad3"
   ]
  },
  {
   "cell_type": "code",
   "execution_count": 139,
   "metadata": {},
   "outputs": [
    {
     "data": {
      "text/html": [
       "0.368024132730015"
      ],
      "text/latex": [
       "0.368024132730015"
      ],
      "text/markdown": [
       "0.368024132730015"
      ],
      "text/plain": [
       "[1] 0.3680241"
      ]
     },
     "metadata": {},
     "output_type": "display_data"
    }
   ],
   "source": [
    "#Especificidad\n",
    "especificidad3= (table(y_test_true3, y_test_pred3)[4])/(table(y_test_true3, y_test_pred3)[2]+table(y_test_true3, y_test_pred3)[4])\n",
    "especificidad3\n"
   ]
  },
  {
   "cell_type": "markdown",
   "metadata": {},
   "source": [
    "# Mejora del modelo"
   ]
  },
  {
   "cell_type": "code",
   "execution_count": 140,
   "metadata": {},
   "outputs": [
    {
     "data": {
      "text/plain": [
       "\n",
       "Call:\n",
       "C5.0.default(x = X_train3, y = y_train_true3, trials = 10)\n",
       "\n",
       "Classification Tree\n",
       "Number of samples: 27001 \n",
       "Number of predictors: 23 \n",
       "\n",
       "Number of boosting iterations: 10 \n",
       "Average tree size: 22.8 \n",
       "\n",
       "Non-standard options: attempt to group attributes\n"
      ]
     },
     "metadata": {},
     "output_type": "display_data"
    }
   ],
   "source": [
    "arbol10 <- C5.0(X_train3, \n",
    "              y_train_true3,\n",
    "              trials = 10)    # cantidad de árboles a considerar\n",
    "\n",
    "arbol10"
   ]
  },
  {
   "cell_type": "code",
   "execution_count": 141,
   "metadata": {},
   "outputs": [
    {
     "data": {
      "text/plain": [
       "\n",
       "Call:\n",
       "C5.0.default(x = X_train3, y = y_train_true3, trials = 10)\n",
       "\n",
       "\n",
       "C5.0 [Release 2.07 GPL Edition]  \tTue Apr 10 22:16:50 2018\n",
       "-------------------------------\n",
       "\n",
       "Class specified by attribute `outcome'\n",
       "\n",
       "Read 27001 cases (24 attributes) from undefined.data\n",
       "\n",
       "-----  Trial 0:  -----\n",
       "\n",
       "Decision tree:\n",
       "\n",
       "PAY_0 in {2,3,4,7,8}:\n",
       ":...EDUCATION = 0: Incumple (0)\n",
       ":   EDUCATION in {5,6}: No Incumple (22/5)\n",
       ":   EDUCATION in {1,2,3,4}:\n",
       ":   :...PAY_3 in {-2,0,1,2,3,4,5,6,7,8}: Incumple (2658/753)\n",
       ":       PAY_3 = -1:\n",
       ":       :...PAY_2 in {-2,1,3,4,5,6,7,8}: No Incumple (0)\n",
       ":           PAY_2 = -1:\n",
       ":           :...BILL_AMT1 <= 0.1494641: No Incumple (75/24)\n",
       ":           :   BILL_AMT1 > 0.1494641: Incumple (5)\n",
       ":           PAY_2 = 0:\n",
       ":           :...PAY_AMT5 <= 0.0004689013: No Incumple (3)\n",
       ":           :   PAY_AMT5 > 0.0004689013: Incumple (9/1)\n",
       ":           PAY_2 = 2:\n",
       ":           :...PAY_AMT4 <= 0.001711755: Incumple (18/6)\n",
       ":               PAY_AMT4 > 0.001711755: No Incumple (9)\n",
       "PAY_0 in {-2,-1,0,1,5,6}:\n",
       ":...PAY_2 in {2,3,4,5}:\n",
       "    :...PAY_6 = 7: No Incumple (0)\n",
       "    :   PAY_6 in {-2,-1,0,4,5,6}:\n",
       "    :   :...PAY_2 in {2,4}: No Incumple (1393/511)\n",
       "    :   :   PAY_2 = 5: Incumple (12/5)\n",
       "    :   :   PAY_2 = 3:\n",
       "    :   :   :...PAY_3 in {-2,-1,0,1,2,4,5,6,7,8}: Incumple (85/38)\n",
       "    :   :       PAY_3 = 3: No Incumple (4)\n",
       "    :   PAY_6 in {2,3,8}:\n",
       "    :   :...PAY_6 in {3,8}: Incumple (38/10)\n",
       "    :       PAY_6 = 2:\n",
       "    :       :...PAY_5 in {-2,2,3,4,5,6,7,8}: Incumple (412/183)\n",
       "    :           PAY_5 = -1:\n",
       "    :           :...PAY_3 in {-2,-1,0,1,3,4,5,6,7,8}: No Incumple (8)\n",
       "    :           :   PAY_3 = 2: Incumple (11/3)\n",
       "    :           PAY_5 = 0:\n",
       "    :           :...LIMIT_BAL > 0.1313131: No Incumple (15)\n",
       "    :               LIMIT_BAL <= 0.1313131:\n",
       "    :               :...LIMIT_BAL <= 0.08080808: No Incumple (66/29)\n",
       "    :                   LIMIT_BAL > 0.08080808: Incumple (10/1)\n",
       "    PAY_2 in {-2,-1,0,1,6,7,8}:\n",
       "    :...PAY_AMT3 <= 0.0007566626:\n",
       "        :...PAY_0 in {-2,-1,0,6}: No Incumple (4922/968)\n",
       "        :   PAY_0 in {1,5}:\n",
       "        :   :...AGE <= 0.5344828: No Incumple (1093/320)\n",
       "        :       AGE > 0.5344828: Incumple (71/31)\n",
       "        PAY_AMT3 > 0.0007566626:\n",
       "        :...PAY_4 in {-2,-1,0,1,4,5,6,7,8}: No Incumple (15728/1702)\n",
       "            PAY_4 in {2,3}:\n",
       "            :...PAY_AMT2 > 0.001298494: No Incumple (160/33)\n",
       "                PAY_AMT2 <= 0.001298494:\n",
       "                :...PAY_0 in {-2,-1,1,5,6}: No Incumple (18/3)\n",
       "                    PAY_0 = 0:\n",
       "                    :...SEX = 1:\n",
       "                        :...PAY_3 in {-2,-1,0,1,2,4,5,6,7,\n",
       "                        :   :         8}: No Incumple (68/24)\n",
       "                        :   PAY_3 = 3: Incumple (4)\n",
       "                        SEX = 2:\n",
       "                        :...PAY_AMT3 <= 0.002429579: Incumple (39/10)\n",
       "                            PAY_AMT3 > 0.002429579:\n",
       "                            :...BILL_AMT6 <= 0.2799917: No Incumple (12/1)\n",
       "                                BILL_AMT6 > 0.2799917: Incumple (33/11)\n",
       "\n",
       "-----  Trial 1:  -----\n",
       "\n",
       "Decision tree:\n",
       "\n",
       "PAY_2 in {2,6}:\n",
       ":...PAY_AMT6 > 0.007681598: No Incumple (670.3/295.5)\n",
       ":   PAY_AMT6 <= 0.007681598:\n",
       ":   :...LIMIT_BAL <= 0.3131313: Incumple (3394/1514.1)\n",
       ":       LIMIT_BAL > 0.3131313: No Incumple (104.3/39.5)\n",
       "PAY_2 in {-2,-1,0,1,3,4,5,7,8}:\n",
       ":...PAY_0 = 7: No Incumple (0)\n",
       "    PAY_0 in {-2,-1,0,6,8}:\n",
       "    :...BILL_AMT1 > 0.1472979: No Incumple (17088.1/4280.8)\n",
       "    :   BILL_AMT1 <= 0.1472979:\n",
       "    :   :...LIMIT_BAL <= 0: Incumple (27/5.6)\n",
       "    :       LIMIT_BAL > 0: No Incumple (2473.1/953.1)\n",
       "    PAY_0 in {1,2,3,4,5}:\n",
       "    :...PAY_AMT2 > 0.02640687: No Incumple (35.2/3.2)\n",
       "        PAY_AMT2 <= 0.02640687:\n",
       "        :...PAY_5 in {-1,0,3,4,6,7,8}: No Incumple (1871.7/753.9)\n",
       "            PAY_5 in {-2,2,5}:\n",
       "            :...EDUCATION in {0,1,2,3,6}: Incumple (1324.8/624)\n",
       "                EDUCATION in {4,5}: No Incumple (12.4)\n",
       "\n",
       "-----  Trial 2:  -----\n",
       "\n",
       "Decision tree:\n",
       "\n",
       "PAY_0 in {2,3,4,5,8}:\n",
       ":...PAY_2 in {-2,-1,0,1,6,7,8}: Incumple (1197/485.7)\n",
       ":   PAY_2 in {2,3,4,5}:\n",
       ":   :...LIMIT_BAL > 0.1616162: Incumple (386.3/147.1)\n",
       ":       LIMIT_BAL <= 0.1616162:\n",
       ":       :...BILL_AMT6 <= 0.2925065: No Incumple (1248/521.9)\n",
       ":           BILL_AMT6 > 0.2925065: Incumple (624.1/281.6)\n",
       "PAY_0 in {-2,-1,0,1,6,7}:\n",
       ":...EDUCATION in {0,4,5}: No Incumple (282.3/43.1)\n",
       "    EDUCATION in {1,2,3,6}:\n",
       "    :...PAY_AMT3 > 0.0009039775: No Incumple (15278.5/4834.1)\n",
       "        PAY_AMT3 <= 0.0009039775:\n",
       "        :...PAY_AMT2 > 0.006814273: No Incumple (313.6/87.9)\n",
       "            PAY_AMT2 <= 0.006814273:\n",
       "            :...PAY_AMT6 > 0.01448173: No Incumple (366.6/118)\n",
       "                PAY_AMT6 <= 0.01448173:\n",
       "                :...LIMIT_BAL <= 0.01010101: Incumple (978.7/454)\n",
       "                    LIMIT_BAL > 0.01010101:\n",
       "                    :...PAY_AMT1 > 0.004627086: No Incumple (678.5/244.6)\n",
       "                        PAY_AMT1 <= 0.004627086:\n",
       "                        :...PAY_0 in {-2,-1,7}:\n",
       "                            :...PAY_AMT4 > 0.003152979: No Incumple (276.3/96.9)\n",
       "                            :   PAY_AMT4 <= 0.003152979:\n",
       "                            :   :...PAY_AMT2 > 0.003524992: No Incumple (37.3/7.2)\n",
       "                            :       PAY_AMT2 <= 0.003524992:\n",
       "                            :       :...BILL_AMT1 <= 0.1469952: Incumple (1211.5/534.3)\n",
       "                            :           BILL_AMT1 > 0.1469952: No Incumple (1058.7/488.1)\n",
       "                            PAY_0 in {0,1,6}:\n",
       "                            :...PAY_AMT5 > 0.0469042: No Incumple (36.6/3.6)\n",
       "                                PAY_AMT5 <= 0.0469042:\n",
       "                                :...PAY_AMT1 <= 6.868509e-006: No Incumple (1478.1/583.8)\n",
       "                                    PAY_AMT1 > 6.868509e-006:\n",
       "                                    :...PAY_4 in {-2,-1,0,1,5,6,7,\n",
       "                                        :         8}: No Incumple (1062.1/459.5)\n",
       "                                        PAY_4 in {2,3,\n",
       "                                                  4}: Incumple (486.9/209.3)\n",
       "\n",
       "-----  Trial 3:  -----\n",
       "\n",
       "Decision tree:\n",
       "\n",
       "EDUCATION in {4,5}: No Incumple (280.8/57.8)\n",
       "EDUCATION in {0,1,2,3,6}:\n",
       ":...PAY_3 in {2,3,7}:\n",
       "    :...PAY_0 in {0,3,4,5,6,7,8}: Incumple (1366.3/541.4)\n",
       "    :   PAY_0 in {-2,-1,1,2}:\n",
       "    :   :...MARRIAGE = 0: No Incumple (11.7/2.6)\n",
       "    :       MARRIAGE = 3: Incumple (31.3/7.3)\n",
       "    :       MARRIAGE = 1:\n",
       "    :       :...AGE <= 0.2241379: No Incumple (467.1/213.4)\n",
       "    :       :   AGE > 0.2241379: Incumple (1116.6/487.3)\n",
       "    :       MARRIAGE = 2:\n",
       "    :       :...PAY_0 = -2: No Incumple (8.8)\n",
       "    :           PAY_0 in {-1,1,2}:\n",
       "    :           :...PAY_AMT2 <= 0.001188653: Incumple (1209.4/574.6)\n",
       "    :               PAY_AMT2 > 0.001188653: No Incumple (557/222.8)\n",
       "    PAY_3 in {-2,-1,0,1,4,5,6,8}:\n",
       "    :...PAY_5 in {2,3,6,8}: Incumple (1188/546.6)\n",
       "        PAY_5 in {-2,-1,0,4,5,7}:\n",
       "        :...PAY_AMT1 > 0.003422807: No Incumple (7863.2/2449.9)\n",
       "            PAY_AMT1 <= 0.003422807:\n",
       "            :...BILL_AMT4 > 0.4255991: Incumple (34.3/7.5)\n",
       "                BILL_AMT4 <= 0.4255991:\n",
       "                :...PAY_0 in {-2,0,3,4,5,6,7,8}: No Incumple (6678.2/2562.7)\n",
       "                    PAY_0 in {-1,1,2}:\n",
       "                    :...MARRIAGE = 0: No Incumple (10.5)\n",
       "                        MARRIAGE in {1,2,3}:\n",
       "                        :...PAY_AMT2 > 0.04521039: No Incumple (25.6/2)\n",
       "                            PAY_AMT2 <= 0.04521039:\n",
       "                            :...PAY_3 in {1,4,5,6,\n",
       "                                :         8}: No Incumple (30.4/11)\n",
       "                                PAY_3 = 0:\n",
       "                                :...AGE <= 0.5344828: Incumple (1631.3/769.8)\n",
       "                                :   AGE > 0.5344828: No Incumple (102.9/32.2)\n",
       "                                PAY_3 in {-2,-1}:\n",
       "                                :...PAY_4 in {1,3,4,5,6,7,\n",
       "                                    :         8}: No Incumple (0)\n",
       "                                    PAY_4 = 2: Incumple (114/45.2)\n",
       "                                    PAY_4 in {-2,-1,0}:\n",
       "                                    :...PAY_6 in {0,4,5,7,\n",
       "                                        :         8}: No Incumple (506.5/189.1)\n",
       "                                        PAY_6 in {-2,-1,2,3,6}:\n",
       "                                        :...PAY_5 in {-2,-1,4,5,\n",
       "                                            :         7}: No Incumple (3452/1600.3)\n",
       "                                            PAY_5 = 0: Incumple (315.1/131.5)\n",
       "\n",
       "-----  Trial 4:  -----\n",
       "\n",
       "Decision tree:\n",
       "\n",
       "EDUCATION in {4,5}: No Incumple (265.8/63.4)\n",
       "EDUCATION in {0,1,2,3,6}:\n",
       ":...PAY_AMT1 > 0.005173132:\n",
       "    :...PAY_AMT2 > 0.01132724: No Incumple (568.6/110.1)\n",
       "    :   PAY_AMT2 <= 0.01132724:\n",
       "    :   :...EDUCATION = 6: Incumple (22.4/7.6)\n",
       "    :       EDUCATION in {0,1,2,3}:\n",
       "    :       :...PAY_4 in {1,2,4,6,8}: Incumple (741.1/362.5)\n",
       "    :           PAY_4 in {-2,-1,0,3,5,7}:\n",
       "    :           :...LIMIT_BAL <= 0.2121212: No Incumple (2953.1/1117)\n",
       "    :               LIMIT_BAL > 0.2121212:\n",
       "    :               :...PAY_0 in {-2,-1,0,1,3,4,5,6,7,\n",
       "    :                   :         8}: No Incumple (2102.5/649.1)\n",
       "    :                   PAY_0 = 2: Incumple (150.6/49.6)\n",
       "    PAY_AMT1 <= 0.005173132:\n",
       "    :...PAY_AMT5 > 0.001676322: No Incumple (11275.7/4811.6)\n",
       "        PAY_AMT5 <= 0.001676322:\n",
       "        :...BILL_AMT2 > 0.1886528: Incumple (26.6/3.4)\n",
       "            BILL_AMT2 <= 0.1886528:\n",
       "            :...PAY_AMT2 > 0.003538054: No Incumple (400.8/147.6)\n",
       "                PAY_AMT2 <= 0.003538054:\n",
       "                :...LIMIT_BAL > 0.3434343: Incumple (675.3/287.5)\n",
       "                    LIMIT_BAL <= 0.3434343:\n",
       "                    :...LIMIT_BAL > 0.1313131: No Incumple (2598.6/1181.1)\n",
       "                        LIMIT_BAL <= 0.1313131:\n",
       "                        :...MARRIAGE = 0: No Incumple (7.8)\n",
       "                            MARRIAGE in {1,2,3}:\n",
       "                            :...PAY_0 in {-2,4,7,8}: No Incumple (266.6/93.4)\n",
       "                                PAY_0 in {-1,0,1,2,3,5,6}:\n",
       "                                :...PAY_6 in {3,5,6,7,\n",
       "                                    :         8}: Incumple (179.7/57.5)\n",
       "                                    PAY_6 in {-2,-1,0,2,4}:\n",
       "                                    :...MARRIAGE = 1: Incumple (1950.3/878.3)\n",
       "                                        MARRIAGE = 3: No Incumple (81.2/36.3)\n",
       "                                        MARRIAGE = 2:\n",
       "                                        :...PAY_0 in {-1,3,5,\n",
       "                                            :         6}: Incumple (564.6/239.5)\n",
       "                                            PAY_0 in {0,1,\n",
       "                                                      2}: No Incumple (2169.8/1057.2)\n",
       "\n",
       "-----  Trial 5:  -----\n",
       "\n",
       "Decision tree:\n",
       "\n",
       "EDUCATION in {4,5}: No Incumple (254.9/67.5)\n",
       "EDUCATION in {0,1,2,3,6}:\n",
       ":...PAY_AMT1 > 0.005173132:\n",
       "    :...PAY_AMT2 > 0.01132724: No Incumple (542.1/117.6)\n",
       "    :   PAY_AMT2 <= 0.01132724:\n",
       "    :   :...BILL_AMT1 > 0.3532432: Incumple (738.2/338)\n",
       "    :       BILL_AMT1 <= 0.3532432:\n",
       "    :       :...LIMIT_BAL > 0.2121212: No Incumple (1642.2/465.9)\n",
       "    :           LIMIT_BAL <= 0.2121212:\n",
       "    :           :...BILL_AMT3 <= 0.1784091: No Incumple (3161/1295.7)\n",
       "    :               BILL_AMT3 > 0.1784091: Incumple (329.5/146.3)\n",
       "    PAY_AMT1 <= 0.005173132:\n",
       "    :...EDUCATION in {0,6}: No Incumple (26.9/4.8)\n",
       "        EDUCATION in {1,2,3}:\n",
       "        :...MARRIAGE = 0: No Incumple (38.7/9.1)\n",
       "            MARRIAGE in {1,2,3}:\n",
       "            :...PAY_0 in {2,3,4}:\n",
       "                :...BILL_AMT1 <= 0.1470298: No Incumple (128.5/48.2)\n",
       "                :   BILL_AMT1 > 0.1470298: Incumple (2863.3/1214)\n",
       "                PAY_0 in {-2,-1,0,1,5,6,7,8}:\n",
       "                :...BILL_AMT1 <= 0.1538469:\n",
       "                    :...BILL_AMT2 > 0.07481295: Incumple (110.5/30.2)\n",
       "                    :   BILL_AMT2 <= 0.07481295:\n",
       "                    :   :...PAY_AMT6 > 0.02113811: No Incumple (258.6/91.2)\n",
       "                    :       PAY_AMT6 <= 0.02113811:\n",
       "                    :       :...PAY_0 in {5,6,7,8}: Incumple (0)\n",
       "                    :           PAY_0 = -2:\n",
       "                    :           :...PAY_AMT1 <= 5.036907e-005: Incumple (871.9/403.6)\n",
       "                    :           :   PAY_AMT1 > 5.036907e-005: No Incumple (648.3/235.3)\n",
       "                    :           PAY_0 in {-1,0,1}:\n",
       "                    :           :...SEX = 1:\n",
       "                    :               :...PAY_0 = -1: No Incumple (1182.5/581.3)\n",
       "                    :               :   PAY_0 in {0,1}: Incumple (1101/467.3)\n",
       "                    :               SEX = 2:\n",
       "                    :               :...PAY_4 in {1,3,4,5,6,7,\n",
       "                    :                   :         8}: Incumple (6.5)\n",
       "                    :                   PAY_4 in {-2,-1,0,2}:\n",
       "                    :                   :...AGE > 0.4137931: Incumple (567/247.1)\n",
       "                    :                       AGE <= 0.4137931: [S1]\n",
       "                    BILL_AMT1 > 0.1538469:\n",
       "                    :...LIMIT_BAL > 0.1212121:\n",
       "                        :...BILL_AMT2 <= 0.1833107: No Incumple (2056.3/601)\n",
       "                        :   BILL_AMT2 > 0.1833107: Incumple (180.7/69.3)\n",
       "                        LIMIT_BAL <= 0.1212121:\n",
       "                        :...BILL_AMT3 > 0.145891: Incumple (98.6/28.2)\n",
       "                            BILL_AMT3 <= 0.145891:\n",
       "                            :...LIMIT_BAL > 0.08080808: No Incumple (934.8/365.3)\n",
       "                                LIMIT_BAL <= 0.08080808:\n",
       "                                :...PAY_AMT2 > 0.003476306: No Incumple (204.8/57.4)\n",
       "                                    PAY_AMT2 <= 0.003476306:\n",
       "                                    :...EDUCATION = 1: No Incumple (1045.5/469.8)\n",
       "                                        EDUCATION in {2,3}:\n",
       "                                        :...PAY_AMT6 > 0.008417413: Incumple (295.3/112)\n",
       "                                            PAY_AMT6 <= 0.008417413:\n",
       "                                            :...SEX = 1: Incumple (2146.6/1040.9)\n",
       "                                                SEX = 2: [S2]\n",
       "\n",
       "SubTree [S1]\n",
       "\n",
       "EDUCATION = 3: No Incumple (341/144.2)\n",
       "EDUCATION in {1,2}:\n",
       ":...PAY_5 in {4,5,6,7,8}: No Incumple (0)\n",
       "    PAY_5 = 3: Incumple (6.6)\n",
       "    PAY_5 in {-2,-1,0,2}:\n",
       "    :...PAY_AMT3 <= 0.0001685193: Incumple (1216.1/558.9)\n",
       "        PAY_AMT3 > 0.0001685193: No Incumple (1486.6/680.9)\n",
       "\n",
       "SubTree [S2]\n",
       "\n",
       "MARRIAGE = 2: No Incumple (1098.1/501.9)\n",
       "MARRIAGE = 3: Incumple (60.7/26.3)\n",
       "MARRIAGE = 1:\n",
       ":...PAY_AMT1 <= 0.003315201: No Incumple (1096.2/514)\n",
       "    PAY_AMT1 > 0.003315201: Incumple (261.4/101.6)\n",
       "\n",
       "-----  Trial 6:  -----\n",
       "\n",
       "Decision tree:\n",
       "\n",
       "EDUCATION in {0,4,5}: No Incumple (196.2/13.3)\n",
       "EDUCATION in {1,2,3,6}:\n",
       ":...PAY_0 in {-2,0,6,7}:\n",
       "    :...PAY_3 in {-2,-1,0,1,4,5,6,7,8}: No Incumple (11105.8/3097.5)\n",
       "    :   PAY_3 in {2,3}: Incumple (1186.4/580.8)\n",
       "    PAY_0 in {-1,1,2,3,4,5,8}:\n",
       "    :...PAY_AMT2 > 0.008909556: No Incumple (538.9/127.6)\n",
       "        PAY_AMT2 <= 0.008909556:\n",
       "        :...BILL_AMT3 > 0.1191169: Incumple (1937.6/874.5)\n",
       "            BILL_AMT3 <= 0.1191169:\n",
       "            :...PAY_AMT1 > 0.003713574: No Incumple (1342/384.8)\n",
       "                PAY_AMT1 <= 0.003713574:\n",
       "                :...LIMIT_BAL > 0.3131313: No Incumple (787.3/331.5)\n",
       "                    LIMIT_BAL <= 0.3131313:\n",
       "                    :...PAY_AMT6 > 0.02691681: No Incumple (132.1/42)\n",
       "                        PAY_AMT6 <= 0.02691681:\n",
       "                        :...BILL_AMT2 > 0.1120529: No Incumple (546.1/215.2)\n",
       "                            BILL_AMT2 <= 0.1120529:\n",
       "                            :...PAY_4 in {1,3,4,7}: Incumple (217.2/88)\n",
       "                                PAY_4 in {5,6,8}: No Incumple (46/15.2)\n",
       "                                PAY_4 = -2:\n",
       "                                :...LIMIT_BAL <= 0.2929293: No Incumple (1475.8/650.2)\n",
       "                                :   LIMIT_BAL > 0.2929293: Incumple (29.1/3.8)\n",
       "                                PAY_4 = 0:\n",
       "                                :...PAY_AMT1 <= 0.002246002: No Incumple (1937.9/912.7)\n",
       "                                :   PAY_AMT1 > 0.002246002: Incumple (370.6/139.3)\n",
       "                                PAY_4 = -1:\n",
       "                                :...PAY_AMT2 > 0.003625927: No Incumple (94.9/28)\n",
       "                                :   PAY_AMT2 <= 0.003625927:\n",
       "                                :   :...PAY_AMT4 > 0.008695652: No Incumple (144/43.6)\n",
       "                                :       PAY_AMT4 <= 0.008695652:\n",
       "                                :       :...BILL_AMT2 <= 0.06636943: No Incumple (490.6/223.4)\n",
       "                                :           BILL_AMT2 > 0.06636943: Incumple (1840.2/790.2)\n",
       "                                PAY_4 = 2:\n",
       "                                :...PAY_AMT5 > 0.01832466: No Incumple (28/4.3)\n",
       "                                    PAY_AMT5 <= 0.01832466:\n",
       "                                    :...MARRIAGE = 3: Incumple (25.4/6.4)\n",
       "                                        MARRIAGE = 0: No Incumple (7.1/1.4)\n",
       "                                        MARRIAGE in {1,2}:\n",
       "                                        :...EDUCATION in {1,\n",
       "                                            :             6}: Incumple (380.6/150.1)\n",
       "                                            EDUCATION in {2,3}: [S1]\n",
       "\n",
       "SubTree [S1]\n",
       "\n",
       "PAY_0 in {-1,1,8}: No Incumple (681/292)\n",
       "PAY_0 in {2,3,4,5}: Incumple (605.3/260.5)\n",
       "\n",
       "-----  Trial 7:  -----\n",
       "\n",
       "Decision tree:\n",
       "\n",
       "PAY_0 in {1,2,3,4,5,6,7,8}:\n",
       ":...EDUCATION in {5,6}: No Incumple (33.9/5.6)\n",
       ":   EDUCATION in {0,1,2,3,4}:\n",
       ":   :...PAY_4 = -1: No Incumple (913.7/308.4)\n",
       ":       PAY_4 in {-2,0,1,2,3,4,5,6,7,8}:\n",
       ":       :...BILL_AMT3 <= 0.121122:\n",
       ":           :...PAY_2 in {1,4}: No Incumple (124.2/41.5)\n",
       ":           :   PAY_2 in {-2,-1,0,2,3,5,6,7,8}:\n",
       ":           :   :...PAY_6 = -1: No Incumple (560.6/239.9)\n",
       ":           :       PAY_6 in {5,8}: Incumple (10.8)\n",
       ":           :       PAY_6 in {-2,0,2,3,4,6,7}:\n",
       ":           :       :...PAY_AMT2 <= 0.008614471: Incumple (6270.5/2734.7)\n",
       ":           :           PAY_AMT2 > 0.008614471: No Incumple (35.9/8.7)\n",
       ":           BILL_AMT3 > 0.121122:\n",
       ":           :...BILL_AMT5 > 0.4632074: Incumple (31.4/3)\n",
       ":               BILL_AMT5 <= 0.4632074:\n",
       ":               :...BILL_AMT1 <= 0.1887574: No Incumple (26.3/2.8)\n",
       ":                   BILL_AMT1 > 0.1887574:\n",
       ":                   :...PAY_6 in {3,6,8}: Incumple (26.3/5.6)\n",
       ":                       PAY_6 in {4,7}: No Incumple (11.3/0.6)\n",
       ":                       PAY_6 in {-2,-1,0,2,5}:\n",
       ":                       :...PAY_AMT2 <= 0.01068363: No Incumple (2022.5/876.3)\n",
       ":                           PAY_AMT2 > 0.01068363: Incumple (47.8/12.7)\n",
       "PAY_0 in {-2,-1,0}:\n",
       ":...PAY_AMT3 > 0.0008961653: No Incumple (9247.1/1023.1)\n",
       "    PAY_AMT3 <= 0.0008961653:\n",
       "    :...PAY_AMT2 > 0.00593911: No Incumple (177.3/6.4)\n",
       "        PAY_AMT2 <= 0.00593911:\n",
       "        :...EDUCATION in {0,4,5,6}: No Incumple (39.6)\n",
       "            EDUCATION in {1,2,3}:\n",
       "            :...PAY_4 in {1,5,6,7,8}: No Incumple (0)\n",
       "                PAY_4 = 4: Incumple (13.7/1.6)\n",
       "                PAY_4 in {-2,-1,0,2,3}:\n",
       "                :...BILL_AMT1 > 0.1472678: No Incumple (3188.6/906.2)\n",
       "                    BILL_AMT1 <= 0.1472678:\n",
       "                    :...BILL_AMT2 > 0.06856643: No Incumple (88/18.4)\n",
       "                        BILL_AMT2 <= 0.06856643:\n",
       "                        :...PAY_4 = 3: No Incumple (0)\n",
       "                            PAY_4 = 0: Incumple (145.2/46)\n",
       "                            PAY_4 in {-2,-1,2}:\n",
       "                            :...BILL_AMT6 > 0.2614245: No Incumple (413.5/115.5)\n",
       "                                BILL_AMT6 <= 0.2614245:\n",
       "                                :...PAY_2 in {1,4,5,6,7,\n",
       "                                    :         8}: No Incumple (0)\n",
       "                                    PAY_2 = 2: Incumple (92/30.4)\n",
       "                                    PAY_2 in {-2,-1,0,3}:\n",
       "                                    :...LIMIT_BAL <= 0.2828283: No Incumple (1163.7/474.2)\n",
       "                                        LIMIT_BAL > 0.2828283: Incumple (384.3/149.5)\n",
       "\n",
       "-----  Trial 8:  -----\n",
       "\n",
       "Decision tree:\n",
       "\n",
       "PAY_0 in {-2,-1,0,1,6,8}:\n",
       ":...PAY_2 in {2,3,4,5,7}:\n",
       ":   :...PAY_0 in {-2,-1,6}: Incumple (706.4/335.6)\n",
       ":   :   PAY_0 in {0,8}: No Incumple (36.2/16.2)\n",
       ":   :   PAY_0 = 1:\n",
       ":   :   :...BILL_AMT4 > 0.2280899: Incumple (660.4/311.6)\n",
       ":   :       BILL_AMT4 <= 0.2280899:\n",
       ":   :       :...PAY_6 in {-2,-1,0,2,6,7,8}: No Incumple (3026.3/1134.6)\n",
       ":   :           PAY_6 in {3,4,5}: Incumple (63.7/22.4)\n",
       ":   PAY_2 in {-2,-1,0,1,6,8}:\n",
       ":   :...PAY_AMT3 > 0.0008928173:\n",
       ":       :...PAY_4 in {-2,-1,0,3,4,5,6,7,8}: No Incumple (7345.7/86.5)\n",
       ":       :   PAY_4 in {1,2}: Incumple (489.3/241.6)\n",
       ":       PAY_AMT3 <= 0.0008928173:\n",
       ":       :...PAY_AMT6 > 0.01964946: No Incumple (182.2)\n",
       ":           PAY_AMT6 <= 0.01964946:\n",
       ":           :...PAY_AMT2 > 0.005937923: No Incumple (141.7/1.2)\n",
       ":               PAY_AMT2 <= 0.005937923:\n",
       ":               :...BILL_AMT4 <= 0.285405: No Incumple (6360/1717.7)\n",
       ":                   BILL_AMT4 > 0.285405: Incumple (27/5.4)\n",
       "PAY_0 in {2,3,4,5,7}:\n",
       ":...EDUCATION in {0,4}: Incumple (0)\n",
       "    EDUCATION = 5: No Incumple (10.9)\n",
       "    EDUCATION in {1,2,3,6}:\n",
       "    :...BILL_AMT6 > 0.2935447: Incumple (2226.6/604.5)\n",
       "        BILL_AMT6 <= 0.2935447:\n",
       "        :...PAY_AMT4 > 0.0245942: No Incumple (46.3/10)\n",
       "            PAY_AMT4 <= 0.0245942:\n",
       "            :...PAY_6 in {2,3,5,6,7,8}: Incumple (695.6/214.1)\n",
       "                PAY_6 in {-2,-1,0,4}:\n",
       "                :...AGE > 0.5344828: No Incumple (186.2/63.4)\n",
       "                    AGE <= 0.5344828:\n",
       "                    :...BILL_AMT6 <= 0.2756229: Incumple (1099/448.3)\n",
       "                        BILL_AMT6 > 0.2756229: No Incumple (861.4/382.5)\n",
       "\n",
       "-----  Trial 9:  -----\n",
       "\n",
       "Decision tree:\n",
       "\n",
       "PAY_0 in {-2,-1,0,6}: No Incumple (11197.4/517.2)\n",
       "PAY_0 in {1,2,3,4,5,7,8}:\n",
       ":...PAY_2 in {-2,-1,1,8}:\n",
       "    :...AGE <= 0.5344828: No Incumple (2336.6/549.7)\n",
       "    :   AGE > 0.5344828: Incumple (208.1/83.2)\n",
       "    PAY_2 in {0,2,3,4,5,6,7}:\n",
       "    :...EDUCATION in {0,4}: Incumple (0)\n",
       "        EDUCATION in {5,6}: No Incumple (34.9)\n",
       "        EDUCATION in {1,2,3}:\n",
       "        :...MARRIAGE = 0: No Incumple (29.7/1.7)\n",
       "            MARRIAGE in {1,2,3}:\n",
       "            :...PAY_0 in {1,5,7}:\n",
       "                :...BILL_AMT4 > 0.2346593: No Incumple (946/244.6)\n",
       "                :   BILL_AMT4 <= 0.2346593:\n",
       "                :   :...PAY_6 in {7,8}: Incumple (0)\n",
       "                :       PAY_6 in {-2,2,3,4,5}:\n",
       "                :       :...PAY_AMT4 <= 0.006777778: Incumple (1409.8/516.4)\n",
       "                :       :   PAY_AMT4 > 0.006777778: No Incumple (88.1/30.7)\n",
       "                :       PAY_6 in {-1,0,6}:\n",
       "                :       :...PAY_AMT2 > 0.002056097: No Incumple (224.3/33.4)\n",
       "                :           PAY_AMT2 <= 0.002056097:\n",
       "                :           :...BILL_AMT4 > 0.2311626: Incumple (28.6)\n",
       "                :               BILL_AMT4 <= 0.2311626:\n",
       "                :               :...PAY_2 in {6,7}: No Incumple (0)\n",
       "                :                   PAY_2 = 5: Incumple (7.5)\n",
       "                :                   PAY_2 in {0,2,3,4}:\n",
       "                :                   :...PAY_AMT6 <= 0.001755362: Incumple (873.2/372.6)\n",
       "                :                       PAY_AMT6 > 0.001755362: No Incumple (902.7/298.7)\n",
       "                PAY_0 in {2,3,4,8}:\n",
       "                :...BILL_AMT1 <= 0.1484721: No Incumple (267.1/105.7)\n",
       "                    BILL_AMT1 > 0.1484721:\n",
       "                    :...PAY_5 in {2,5,6,7,8}: Incumple (1224.5/170.3)\n",
       "                        PAY_5 in {-2,-1,0,3,4}:\n",
       "                        :...BILL_AMT5 > 0.4307832: Incumple (28.5)\n",
       "                            BILL_AMT5 <= 0.4307832:\n",
       "                            :...PAY_AMT2 > 0.008923212: No Incumple (56/13.9)\n",
       "                                PAY_AMT2 <= 0.008923212:\n",
       "                                :...BILL_AMT5 > 0.2887125: Incumple (58.9)\n",
       "                                    BILL_AMT5 <= 0.2887125:\n",
       "                                    :...PAY_4 in {1,2,6,7,\n",
       "                                        :         8}: Incumple (530.4/105.5)\n",
       "                                        PAY_4 = 3: No Incumple (39/8.5)\n",
       "                                        PAY_4 in {-2,-1,0,4,5}:\n",
       "                                        :...MARRIAGE = 3: No Incumple (48.6/16.6)\n",
       "                                            MARRIAGE in {1,2}:\n",
       "                                            :...PAY_AMT3 > 0.01618231: Incumple (47.7/3.2)\n",
       "                                                PAY_AMT3 <= 0.01618231: [S1]\n",
       "\n",
       "SubTree [S1]\n",
       "\n",
       "PAY_AMT5 > 0.0276347: No Incumple (130.1/48.1)\n",
       "PAY_AMT5 <= 0.0276347:\n",
       ":...LIMIT_BAL > 0.2626263: Incumple (84.9/8.6)\n",
       "    LIMIT_BAL <= 0.2626263:\n",
       "    :...BILL_AMT4 > 0.3427777: No Incumple (32.3/8.7)\n",
       "        BILL_AMT4 <= 0.3427777:\n",
       "        :...BILL_AMT5 > 0.2562992: Incumple (27.3)\n",
       "            BILL_AMT5 <= 0.2562992:\n",
       "            :...BILL_AMT6 <= 0.3815697: Incumple (2372.8/796.2)\n",
       "                BILL_AMT6 > 0.3815697: No Incumple (34.9/9)\n",
       "\n",
       "\n",
       "Evaluation on training data (27001 cases):\n",
       "\n",
       "Trial\t    Decision Tree   \n",
       "-----\t  ----------------  \n",
       "\t  Size      Errors  \n",
       "\n",
       "   0\t    30 4672(17.3%)\n",
       "   1\t    10 5601(20.7%)\n",
       "   2\t    18 6078(22.5%)\n",
       "   3\t    22 6254(23.2%)\n",
       "   4\t    19 6638(24.6%)\n",
       "   5\t    34 8043(29.8%)\n",
       "   6\t    25 6238(23.1%)\n",
       "   7\t    24 5559(20.6%)\n",
       "   8\t    18 5164(19.1%)\n",
       "   9\t    28 4819(17.8%)\n",
       "boost\t       4660(17.3%)   <<\n",
       "\n",
       "\n",
       "\t   (a)   (b)    <-classified as\n",
       "\t  ----  ----\n",
       "\t 20212   816    (a): class No Incumple\n",
       "\t  3844  2129    (b): class Incumple\n",
       "\n",
       "\n",
       "\tAttribute usage:\n",
       "\n",
       "\t100.00%\tEDUCATION\n",
       "\t100.00%\tPAY_0\n",
       "\t100.00%\tPAY_2\n",
       "\t 99.68%\tBILL_AMT1\n",
       "\t 98.91%\tPAY_4\n",
       "\t 98.64%\tPAY_3\n",
       "\t 98.64%\tPAY_AMT1\n",
       "\t 93.80%\tPAY_AMT3\n",
       "\t 92.82%\tPAY_5\n",
       "\t 92.17%\tLIMIT_BAL\n",
       "\t 87.72%\tPAY_AMT2\n",
       "\t 72.84%\tMARRIAGE\n",
       "\t 70.93%\tPAY_AMT5\n",
       "\t 69.25%\tBILL_AMT3\n",
       "\t 61.04%\tPAY_AMT6\n",
       "\t 57.16%\tBILL_AMT4\n",
       "\t 53.34%\tBILL_AMT2\n",
       "\t 39.04%\tPAY_6\n",
       "\t 34.61%\tSEX\n",
       "\t 25.33%\tAGE\n",
       "\t 21.46%\tPAY_AMT4\n",
       "\t 15.71%\tBILL_AMT6\n",
       "\t  8.42%\tBILL_AMT5\n",
       "\n",
       "\n",
       "Time: 13.4 secs\n"
      ]
     },
     "metadata": {},
     "output_type": "display_data"
    }
   ],
   "source": [
    "## imprime todos los arboles\n",
    "summary(arbol10)"
   ]
  },
  {
   "cell_type": "code",
   "execution_count": 142,
   "metadata": {},
   "outputs": [
    {
     "name": "stdout",
     "output_type": "stream",
     "text": [
      "\n",
      " \n",
      "   Cell Contents\n",
      "|-------------------------|\n",
      "|                       N |\n",
      "|         N / Table Total |\n",
      "|-------------------------|\n",
      "\n",
      " \n",
      "Total Observations in Table:  2999 \n",
      "\n",
      " \n",
      "               | predicted default \n",
      "actual default | No Incumple |    Incumple |   Row Total | \n",
      "---------------|-------------|-------------|-------------|\n",
      "   No Incumple |        2225 |         111 |        2336 | \n",
      "               |       0.742 |       0.037 |             | \n",
      "---------------|-------------|-------------|-------------|\n",
      "      Incumple |         448 |         215 |         663 | \n",
      "               |       0.149 |       0.072 |             | \n",
      "---------------|-------------|-------------|-------------|\n",
      "  Column Total |        2673 |         326 |        2999 | \n",
      "---------------|-------------|-------------|-------------|\n",
      "\n",
      " \n"
     ]
    }
   ],
   "source": [
    "y_test_pred10 <- predict(arbol10, X_test3)\n",
    "\n",
    "CrossTable(y_test_true3, \n",
    "           y_test_pred10,\n",
    "           prop.chisq = FALSE, \n",
    "           prop.c = FALSE, \n",
    "           prop.r = FALSE,\n",
    "           dnn = c('actual default', 'predicted default'))"
   ]
  },
  {
   "cell_type": "code",
   "execution_count": 143,
   "metadata": {},
   "outputs": [
    {
     "data": {
      "text/html": [
       "0.813604534844948"
      ],
      "text/latex": [
       "0.813604534844948"
      ],
      "text/markdown": [
       "0.813604534844948"
      ],
      "text/plain": [
       "[1] 0.8136045"
      ]
     },
     "metadata": {},
     "output_type": "display_data"
    }
   ],
   "source": [
    "#Tasa de éxito (porcentaje de patrones clasificados correctamente):\n",
    "\n",
    "tasa_exito3a=(table(y_test_true3, y_test_pred10)[1]+table(y_test_true3, y_test_pred10)[4])/(table(y_test_true3, y_test_pred10)[1]\n",
    "                                                                             +table(y_test_true3, y_test_pred10)[2]\n",
    "                                                                            +table(y_test_true3, y_test_pred10)[3]+\n",
    "                                                                            table(y_test_true3, y_test_pred10)[4])\n",
    "\n",
    "tasa_exito3a"
   ]
  },
  {
   "cell_type": "code",
   "execution_count": 144,
   "metadata": {},
   "outputs": [
    {
     "data": {
      "text/html": [
       "0.186395465155052"
      ],
      "text/latex": [
       "0.186395465155052"
      ],
      "text/markdown": [
       "0.186395465155052"
      ],
      "text/plain": [
       "[1] 0.1863955"
      ]
     },
     "metadata": {},
     "output_type": "display_data"
    }
   ],
   "source": [
    "## Error\n",
    "\n",
    "1-tasa_exito3a"
   ]
  },
  {
   "cell_type": "code",
   "execution_count": 145,
   "metadata": {},
   "outputs": [
    {
     "data": {
      "text/html": [
       "0.952482876712329"
      ],
      "text/latex": [
       "0.952482876712329"
      ],
      "text/markdown": [
       "0.952482876712329"
      ],
      "text/plain": [
       "[1] 0.9524829"
      ]
     },
     "metadata": {},
     "output_type": "display_data"
    }
   ],
   "source": [
    "#Sensibilidad\n",
    "sensibilidad3a = (table(y_test_true3, y_test_pred10)[1])/(table(y_test_true3, y_test_pred10)[1]+table(y_test_true3, y_test_pred10)[3])\n",
    "sensibilidad3a"
   ]
  },
  {
   "cell_type": "code",
   "execution_count": 146,
   "metadata": {},
   "outputs": [
    {
     "data": {
      "text/html": [
       "0.324283559577677"
      ],
      "text/latex": [
       "0.324283559577677"
      ],
      "text/markdown": [
       "0.324283559577677"
      ],
      "text/plain": [
       "[1] 0.3242836"
      ]
     },
     "metadata": {},
     "output_type": "display_data"
    }
   ],
   "source": [
    "#Especificidad\n",
    "especificidad3a= (table(y_test_true3, y_test_pred10)[4])/(table(y_test_true3, y_test_pred10)[2]+table(y_test_true3, y_test_pred10)[4])\n",
    "especificidad3a\n"
   ]
  },
  {
   "cell_type": "code",
   "execution_count": null,
   "metadata": {},
   "outputs": [],
   "source": [
    "#No se observa mejora de la tasa de éxito, se deja el modelo inicial."
   ]
  },
  {
   "cell_type": "markdown",
   "metadata": {},
   "source": [
    "# 3.4 Metodología OneR"
   ]
  },
  {
   "cell_type": "code",
   "execution_count": 147,
   "metadata": {},
   "outputs": [
    {
     "name": "stderr",
     "output_type": "stream",
     "text": [
      "Warning message in OneR.data.frame(x = data, ties.method = ties.method, verbose = verbose, :\n",
      "\"data contains unused factor levels\""
     ]
    },
    {
     "name": "stdout",
     "output_type": "stream",
     "text": [
      "\n",
      "    Attribute Accuracy\n",
      "1 * PAY_0     81.96%  \n",
      "2   PAY_2     79.66%  \n",
      "3   PAY_5     78.98%  \n",
      "4   PAY_4     78.71%  \n",
      "5   PAY_3     78.52%  \n",
      "6   PAY_6     78.36%  \n",
      "7   LIMIT_BAL 77.88%  \n",
      "7   AGE       77.88%  \n",
      "7   BILL_AMT1 77.88%  \n",
      "7   BILL_AMT2 77.88%  \n",
      "7   BILL_AMT3 77.88%  \n",
      "7   BILL_AMT4 77.88%  \n",
      "7   BILL_AMT5 77.88%  \n",
      "7   BILL_AMT6 77.88%  \n",
      "7   PAY_AMT1  77.88%  \n",
      "7   PAY_AMT2  77.88%  \n",
      "7   PAY_AMT3  77.88%  \n",
      "7   PAY_AMT4  77.88%  \n",
      "7   PAY_AMT5  77.88%  \n",
      "7   PAY_AMT6  77.88%  \n",
      "7   SEX       77.88%  \n",
      "7   EDUCATION 77.88%  \n",
      "7   MARRIAGE  77.88%  \n",
      "---\n",
      "Chosen attribute due to accuracy\n",
      "and ties method (if applicable): '*'\n",
      "\n"
     ]
    },
    {
     "data": {
      "text/plain": [
       "\n",
       "Call:\n",
       "OneR.formula(formula = y ~ ., data = X_scaled, verbose = TRUE)\n",
       "\n",
       "Rules:\n",
       "If PAY_0 = -2 then y = No Incumple\n",
       "If PAY_0 = -1 then y = No Incumple\n",
       "If PAY_0 = 0  then y = No Incumple\n",
       "If PAY_0 = 1  then y = No Incumple\n",
       "If PAY_0 = 2  then y = Incumple\n",
       "If PAY_0 = 3  then y = Incumple\n",
       "If PAY_0 = 4  then y = Incumple\n",
       "If PAY_0 = 5  then y = No Incumple\n",
       "If PAY_0 = 6  then y = Incumple\n",
       "If PAY_0 = 7  then y = Incumple\n",
       "If PAY_0 = 8  then y = Incumple\n",
       "\n",
       "Accuracy:\n",
       "24588 of 30000 instances classified correctly (81.96%)\n"
      ]
     },
     "metadata": {},
     "output_type": "display_data"
    }
   ],
   "source": [
    "##\n",
    "## Carga la librería.\n",
    "#install.packages(\"OneR\")\n",
    "##\n",
    "library(OneR)\n",
    "modelo4 <- OneR(y ~ ., data = X_scaled, verbose = TRUE)\n",
    "modelo4"
   ]
  },
  {
   "cell_type": "markdown",
   "metadata": {},
   "source": [
    "# Evaluación del Modelo"
   ]
  },
  {
   "cell_type": "code",
   "execution_count": 148,
   "metadata": {},
   "outputs": [
    {
     "name": "stdout",
     "output_type": "stream",
     "text": [
      "\n",
      "Call:\n",
      "OneR.formula(formula = y ~ ., data = X_scaled, verbose = TRUE)\n",
      "\n",
      "Rules:\n",
      "If PAY_0 = -2 then y = No Incumple\n",
      "If PAY_0 = -1 then y = No Incumple\n",
      "If PAY_0 = 0  then y = No Incumple\n",
      "If PAY_0 = 1  then y = No Incumple\n",
      "If PAY_0 = 2  then y = Incumple\n",
      "If PAY_0 = 3  then y = Incumple\n",
      "If PAY_0 = 4  then y = Incumple\n",
      "If PAY_0 = 5  then y = No Incumple\n",
      "If PAY_0 = 6  then y = Incumple\n",
      "If PAY_0 = 7  then y = Incumple\n",
      "If PAY_0 = 8  then y = Incumple\n",
      "\n",
      "Accuracy:\n",
      "24588 of 30000 instances classified correctly (81.96%)\n",
      "\n",
      "Contingency table:\n",
      "             PAY_0\n",
      "y                 -2     -1       0      1      2     3    4    5   6   7    8\n",
      "  No Incumple * 2394 * 4732 * 12849 * 2436    823    78   24 * 13   5   2    8\n",
      "  Incumple       365    954    1888   1252 * 1844 * 244 * 52   13 * 6 * 7 * 11\n",
      "  Sum           2759   5686   14737   3688   2667   322   76   26  11   9   19\n",
      "             PAY_0\n",
      "y               Sum\n",
      "  No Incumple 23364\n",
      "  Incumple     6636\n",
      "  Sum         30000\n",
      "---\n",
      "Maximum in each column: '*'\n",
      "\n",
      "Pearson's Chi-squared test:\n",
      "X-squared = 5366, df = 10, p-value < 2.2e-16\n",
      "\n"
     ]
    }
   ],
   "source": [
    "summary(modelo4)"
   ]
  },
  {
   "cell_type": "markdown",
   "metadata": {},
   "source": [
    "# Cross _ Validation"
   ]
  },
  {
   "cell_type": "code",
   "execution_count": 149,
   "metadata": {},
   "outputs": [
    {
     "name": "stdout",
     "output_type": "stream",
     "text": [
      " int [1:27001, 1] 1 3 4 5 6 7 8 9 11 12 ...\n",
      " - attr(*, \"dimnames\")=List of 2\n",
      "  ..$ : NULL\n",
      "  ..$ : chr \"Resample1\"\n"
     ]
    }
   ],
   "source": [
    "##\n",
    "## Se crean los conjuntos de entrenamiento y prueba\n",
    "##\n",
    "library(caret)\n",
    "muestra4 = createDataPartition(y,    # datos \n",
    "                            times = 1,   # número de particiones \n",
    "                            p = 0.9,\n",
    "                          list=FALSE)     # porcentaje de los datos a usar en el entrenamiento\n",
    "str(muestra4)\n",
    "\n",
    "\n",
    "\n",
    "X_train4 <- X_scaled[muestra4, ]\n",
    "X_test4 <- X_scaled[-muestra4, ]\n",
    "\n",
    "y_train_true4 <- y[muestra4]\n",
    "y_test_true4 <- y[-muestra4]"
   ]
  },
  {
   "cell_type": "code",
   "execution_count": 150,
   "metadata": {},
   "outputs": [
    {
     "data": {
      "text/plain": [
       "y_train_true4\n",
       "No Incumple    Incumple \n",
       "   0.778786    0.221214 "
      ]
     },
     "metadata": {},
     "output_type": "display_data"
    }
   ],
   "source": [
    "##\n",
    "## Se verifica la proporción en el  conjunto de entrenamiento\n",
    "##\n",
    "prop.table(table(y_train_true4))"
   ]
  },
  {
   "cell_type": "code",
   "execution_count": 152,
   "metadata": {},
   "outputs": [
    {
     "data": {
      "text/plain": [
       "y_test_true4\n",
       "No Incumple    Incumple \n",
       "  0.7789263   0.2210737 "
      ]
     },
     "metadata": {},
     "output_type": "display_data"
    }
   ],
   "source": [
    "##\n",
    "## Conjunto de prueba\n",
    "##\n",
    "prop.table(table(y_test_true4))"
   ]
  },
  {
   "cell_type": "code",
   "execution_count": 153,
   "metadata": {},
   "outputs": [
    {
     "name": "stderr",
     "output_type": "stream",
     "text": [
      "Warning message in OneR.data.frame(x = data, ties.method = ties.method, verbose = verbose, :\n",
      "\"data contains unused factor levels\""
     ]
    },
    {
     "name": "stdout",
     "output_type": "stream",
     "text": [
      "\n",
      "    Attribute Accuracy\n",
      "1 * PAY_0     82.01%  \n",
      "2   PAY_2     79.67%  \n",
      "3   PAY_5     79%     \n",
      "4   PAY_4     78.67%  \n",
      "5   PAY_3     78.54%  \n",
      "6   PAY_6     78.29%  \n",
      "7   LIMIT_BAL 77.88%  \n",
      "7   AGE       77.88%  \n",
      "7   BILL_AMT1 77.88%  \n",
      "7   BILL_AMT2 77.88%  \n",
      "7   BILL_AMT3 77.88%  \n",
      "7   BILL_AMT4 77.88%  \n",
      "7   BILL_AMT5 77.88%  \n",
      "7   BILL_AMT6 77.88%  \n",
      "7   PAY_AMT1  77.88%  \n",
      "7   PAY_AMT2  77.88%  \n",
      "7   PAY_AMT3  77.88%  \n",
      "7   PAY_AMT4  77.88%  \n",
      "7   PAY_AMT5  77.88%  \n",
      "7   PAY_AMT6  77.88%  \n",
      "7   SEX       77.88%  \n",
      "7   EDUCATION 77.88%  \n",
      "7   MARRIAGE  77.88%  \n",
      "---\n",
      "Chosen attribute due to accuracy\n",
      "and ties method (if applicable): '*'\n",
      "\n"
     ]
    },
    {
     "data": {
      "text/plain": [
       "\n",
       "Call:\n",
       "OneR.formula(formula = y_train_true4 ~ ., data = X_train4, verbose = TRUE)\n",
       "\n",
       "Rules:\n",
       "If PAY_0 = -2 then y_train_true4 = No Incumple\n",
       "If PAY_0 = -1 then y_train_true4 = No Incumple\n",
       "If PAY_0 = 0  then y_train_true4 = No Incumple\n",
       "If PAY_0 = 1  then y_train_true4 = No Incumple\n",
       "If PAY_0 = 2  then y_train_true4 = Incumple\n",
       "If PAY_0 = 3  then y_train_true4 = Incumple\n",
       "If PAY_0 = 4  then y_train_true4 = Incumple\n",
       "If PAY_0 = 5  then y_train_true4 = No Incumple\n",
       "If PAY_0 = 6  then y_train_true4 = No Incumple\n",
       "If PAY_0 = 7  then y_train_true4 = Incumple\n",
       "If PAY_0 = 8  then y_train_true4 = Incumple\n",
       "\n",
       "Accuracy:\n",
       "22144 of 27001 instances classified correctly (82.01%)\n"
      ]
     },
     "metadata": {},
     "output_type": "display_data"
    }
   ],
   "source": [
    "#Modelo con los datos de prueba\n",
    "\n",
    "modelOneR <- OneR(y_train_true4 ~ ., data = X_train4, verbose = TRUE)\n",
    "modelOneR"
   ]
  },
  {
   "cell_type": "markdown",
   "metadata": {},
   "source": [
    "# Evaluación del modelo"
   ]
  },
  {
   "cell_type": "code",
   "execution_count": 154,
   "metadata": {},
   "outputs": [],
   "source": [
    "##\n",
    "## Se evaluar el modelo con los datos de prueba\n",
    "## install.packages(\"gmodels\")\n",
    "##\n",
    "#library(gmodels)\n",
    "y_test_pred4<- predict(modelOneR, X_test4)\n"
   ]
  },
  {
   "cell_type": "code",
   "execution_count": 157,
   "metadata": {},
   "outputs": [
    {
     "data": {
      "text/plain": [
       "             y_test_pred4\n",
       "y_test_true4  Incumple No Incumple\n",
       "  No Incumple      106        2230\n",
       "  Incumple         213         450"
      ]
     },
     "metadata": {},
     "output_type": "display_data"
    }
   ],
   "source": [
    "##Se crea matriz de confusión\n",
    "table(y_test_true4,y_test_pred4)"
   ]
  },
  {
   "cell_type": "code",
   "execution_count": 158,
   "metadata": {},
   "outputs": [
    {
     "data": {
      "text/html": [
       "0.81460486828943"
      ],
      "text/latex": [
       "0.81460486828943"
      ],
      "text/markdown": [
       "0.81460486828943"
      ],
      "text/plain": [
       "[1] 0.8146049"
      ]
     },
     "metadata": {},
     "output_type": "display_data"
    }
   ],
   "source": [
    "#Tasa de éxito (porcentaje de patrones clasificados correctamente):\n",
    "\n",
    "tasa_exito4=(table(y_test_true4, y_test_pred4)[2]+table(y_test_true4, y_test_pred4)[3])/(table(y_test_true4, y_test_pred4)[1]\n",
    "                                                                             +table(y_test_true4, y_test_pred4)[2]\n",
    "                                                                            +table(y_test_true4, y_test_pred4)[3]+\n",
    "                                                                            table(y_test_true4, y_test_pred4)[4])\n",
    "\n",
    "tasa_exito4"
   ]
  },
  {
   "cell_type": "code",
   "execution_count": 11,
   "metadata": {},
   "outputs": [
    {
     "data": {
      "text/html": [
       "0.18539513171057"
      ],
      "text/latex": [
       "0.18539513171057"
      ],
      "text/markdown": [
       "0.18539513171057"
      ],
      "text/plain": [
       "[1] 0.1853951"
      ]
     },
     "metadata": {},
     "output_type": "display_data"
    }
   ],
   "source": [
    "#Error \n",
    "\n",
    "1-0.81460486828943"
   ]
  },
  {
   "cell_type": "code",
   "execution_count": 159,
   "metadata": {},
   "outputs": [
    {
     "data": {
      "text/html": [
       "0.954623287671233"
      ],
      "text/latex": [
       "0.954623287671233"
      ],
      "text/markdown": [
       "0.954623287671233"
      ],
      "text/plain": [
       "[1] 0.9546233"
      ]
     },
     "metadata": {},
     "output_type": "display_data"
    }
   ],
   "source": [
    "#Sensibilidad\n",
    "sensibilidad4 = (table(y_test_true4, y_test_pred4)[3])/(table(y_test_true4, y_test_pred4)[1]+table(y_test_true4, y_test_pred4)[3])\n",
    "sensibilidad4"
   ]
  },
  {
   "cell_type": "code",
   "execution_count": 160,
   "metadata": {},
   "outputs": [
    {
     "data": {
      "text/html": [
       "0.321266968325792"
      ],
      "text/latex": [
       "0.321266968325792"
      ],
      "text/markdown": [
       "0.321266968325792"
      ],
      "text/plain": [
       "[1] 0.321267"
      ]
     },
     "metadata": {},
     "output_type": "display_data"
    }
   ],
   "source": [
    "#Especificidad\n",
    "especificidad4= (table(y_test_true4, y_test_pred4)[2])/(table(y_test_true4, y_test_pred4)[2]+table(y_test_true4, y_test_pred4)[4])\n",
    "especificidad4\n"
   ]
  },
  {
   "cell_type": "markdown",
   "metadata": {},
   "source": [
    "# 4. Análisis de los resultados y conclusiones"
   ]
  },
  {
   "cell_type": "markdown",
   "metadata": {},
   "source": [
    "Luego de realizar la aplicación de las 4 técnicas de clasificación para la base de datos, se procederá a hacer la comparación de las medidas de precisión, dadas por la matriz de confusión, estas son: Tasa de Éxito, Error, Sensibilidad y Especificidad."
   ]
  },
  {
   "cell_type": "markdown",
   "metadata": {},
   "source": [
    "| Técnica              | Tasa de Éxito | Error | Sensibilidad | Especificidad |\n",
    "| :------- | :------: | -----: | -----: | -----: | \n",
    "| Vecinos más cercanos | 81.23 % | 18.76 % | 94.15 % | 35.72 % |\n",
    "| Naive Bayes | 49.93 % | 50.06 % | 40.82 % | 82.06 % |\n",
    "| Árbol de decisión | 81.63 % | 18.37 % | 94.35 % | 36.80 % |\n",
    "| OneR | 81.46 % | 18.54 % | 95.46 % | 32.13 % |"
   ]
  },
  {
   "cell_type": "markdown",
   "metadata": {},
   "source": [
    "Las técnicas consideradas arrojan medidas similares, excepto Naive Bayes, la mayor tasa de éxito, está dada para el Árbol de decisión, por tanto también el error es mínimo.\n",
    "\n",
    "En términos de sensibilidad, es decir proporción de personas que no incumplen con el pago,  el mayor porcentaje lo da la Metodología OneR, con 95.46 %. Sin embargo, al analizar especificidad, es decir, proporción de personas que incumplen con el pago, el mayor porcentaje lo da el Árbol de Decisión, con 36.80 %. \n",
    "\n",
    "En este caso, sería más importante tener una buena clasificación de las personas que incumplen con el pago, dado que al realizar el pronóstico de una futura base de datos, se podrían implementar estrategias con estos usuarios, para \"Evitar\" el no pago de la obligación.\n",
    "\n",
    "Se selecciona el modelo de ÁRBOL DE DECISIÓN, como el que mejor clasifica la variable de interés, entre los modelos considerados.\n",
    "\n",
    "Como conclusión final, el análisis de sensibilidad y especificidad, depende de la definición del experto que está interesado en el análisis de la base de datos.\n"
   ]
  }
 ],
 "metadata": {
  "kernelspec": {
   "display_name": "R",
   "language": "R",
   "name": "ir"
  },
  "language_info": {
   "codemirror_mode": "r",
   "file_extension": ".r",
   "mimetype": "text/x-r-source",
   "name": "R",
   "pygments_lexer": "r",
   "version": "3.4.3"
  }
 },
 "nbformat": 4,
 "nbformat_minor": 2
}
