{
 "cells": [
  {
   "cell_type": "markdown",
   "metadata": {},
   "source": [
    "# Incumplimiento de  pago en clientes con tarjeta de crédito en Taiwan\n",
    "\n",
    "### Cristina Montoya Uribe\n",
    "C.C.1037629207\n",
    "\n",
    "cmontoyau@unal.edu.co\n",
    "\n",
    "Universidad Nacional de Colombia-Medellín\n",
    "\n"
   ]
  },
  {
   "cell_type": "markdown",
   "metadata": {},
   "source": [
    "#### Enlace externo para abrir el documento:\n",
    "* <a href=\"http://nbviewer.jupyter.org/github/cmontoyau1993/mlcredict/blob/master/Default_credit_card.ipynb\" target=\"_blank\">NBViewer</a>\n",
    "* <a href=\"https://github.com/cmontoyau1993/mlcredict/blob/master/Default_credit_card.ipynb\" target=\"_blank\">GitHub</a>\n",
    "\n",
    "**NOTA:** Abrir cualquiera de los dos enlaces, sin embargo, recomiendo el de NBViewer ya que es una vista nativa de Jupyter."
   ]
  },
  {
   "cell_type": "markdown",
   "metadata": {},
   "source": [
    "### Fuente de los datos"
   ]
  },
  {
   "cell_type": "markdown",
   "metadata": {},
   "source": [
    "Los datos se encuentran en el repositorio del Centro de maching learning e inteligencia de sismetamas (UCI Maching Learning Repository-Center For Maching Learning and Intelligent Systems), los datos provienen de una investigación realizada en Taiwan para un reconocido banco. La investigación consistía en predecir la probabilidad real de incumplimiento de pago de los clientes en el pago del próximo mes de su TDC, la investigación se realiza con datos del 2005, se publica en el año 2009 y llega al repositorio en el 2016.\n",
    "\n",
    "A continuación se adjunto las bibliografías del repositorio y del estudio.\n",
    "\n",
    "\n",
    "Yeh, I. C., & Lien,Default of credit card clients Data Set (2016), UCI Maching Learning Repository-Center For Maching Learning and Intelligent Systems. https://archive.ics.uci.edu/ml/datasets/default+of+credit+card+clients\n",
    "\n",
    "Yeh, I. C., & Lien, C. H. (2009). The comparisons of data mining techniques for the predictive accuracy of probability of default of credit card clients. Expert Systems with Applications, 36(2), 2473-2480.\n",
    "https://www.sciencedirect.com/science/article/pii/S0957417407006719\n"
   ]
  },
  {
   "cell_type": "markdown",
   "metadata": {},
   "source": [
    "### Problema real\n",
    "\n",
    "Con los datos que se incluyen en el dataset y utilizando las técnicas de la analítica predictiva se quiere predecir el incumplimiento real de pago de un cliente en su tarjeta crédito a través del análisis de los pagos predeterminados del cliente en meses anteriores, es decir, se quiere medir el riesgo de crédito interpretado como la probabilidad de un retraso en el pago por el desembolso otorgado. Esto se hace desde la perspectiva del control de riesgo donde es más importante predecir la probabilidad de incumplimiento de pago del cliente que clasificar al cliente como riesgoso o no riesgoso. Como respuesta se tiene una variable binaria, el valor de 0 significa que el cliente realiza el pago predeterminado (cumple) y el valor de 1 significa que el cliente no realiza el pago predeterminado (incumple). Se quiere comparar entre las técnicas utilizadas cual de ellas tiene mejor predección.\n",
    "\n",
    "Cabe anotar que la técnica propuesta por I-Cheng Yeh y Che-hui Lien (2009)- Che-hui Lien-  \"Método de suavizado de clasificación\" por medio de una red neural  para el pronóstico es el que presenta mayor coeficente de determinacion. Esta técnica no se tendrá en cuenta para la predicción de los datos.\n",
    "\n",
    "##### Yeh, I. C., & Lien, C. H. (2009). The comparisons of data mining techniques for the predictive accuracy of probability of default of credit card clients. Expert Systems with Applications, 36(2), 2473-2480."
   ]
  },
  {
   "cell_type": "markdown",
   "metadata": {},
   "source": [
    "### Definición del problema en términos de los datos"
   ]
  },
  {
   "cell_type": "markdown",
   "metadata": {},
   "source": [
    "Los datos son tomados de un importante banco emisor de tarjetas de crédito en Taiwan para el año 2005.Los datos analizados contienen 30000 mil registros, en los cuales un cliente representa un registro. La variable de respuesta o de clasificación (Y) es binaria, cuando ésta toma el valor de 1 representa el incumplimiento del cliente en el pago de su tarjeta de crédito para el próximo mes y el valor de 0 representa el cumplimiento del cliente en el pago del próximo mes. El modelo  se determinará por las siguientes variables explicativas. Cabe anotar que las variables cualitativas ya se encuentran definidas como factor.\n",
    "\n",
    "\n",
    "X1-Limit-Base: monto al crédito otorgado (NT dólar), incluye tanto el crédito al consumo individual como el crédito familiar (suplementario).\n",
    "\n",
    "X2-Sex: sexo (1 = hombre, 2 = mujer).\n",
    "\n",
    "X3- Education: grado de escolaridad (1 = escuela de postgrado, 2 = universidad; 3 = escuela secundaria; 4 = otros).\n",
    "\n",
    "X4-Marriage: estado civil (1 = casado, 2 = soltero, 3 = otros).\n",
    "\n",
    "X5-Age: edad (años).\n",
    "\n",
    "X6-X11: Historial de pagos anteriores. Registro de pagos anteriores mensuales (de abril a septiembre de 2005):\n",
    "\n",
    "•\tX6-Pay_0: el estado de amortización en septiembre 2005;\n",
    "\n",
    "•\tX7-Pay_2:el estado de amortización en agosto2005;\n",
    "\n",
    "•\tX11-Pay_6: el estado de amortización en abril de 2005.\n",
    "\n",
    "La escala de medición para el estado de pago es (va desde 0 hasta 9):\n",
    "\n",
    "0= pagar debidamente\n",
    "\n",
    "1 = retraso de pago por un mes\n",
    "\n",
    "2 = retraso de pago por dos meses\n",
    "\n",
    "8 = retraso de pago por ocho meses\n",
    "\n",
    "9 = retraso de pago por nueve meses y más.\n",
    "\n",
    "X12-X17: Saldo de la cuenta (NT dólar) (de abril a septiembre de 2005):\n",
    "\n",
    "•\tX12 = Saldo de la cuenta en septiembre de 2005;\n",
    "\n",
    "•\tX13 = Saldo de la cuenta en agosto,2005;\n",
    "\n",
    "•\tX17 = Saldo de la cuenta en abril de 2005.\n",
    "\n",
    "X18-X23: Abono del saldo anterior (NT dólar) (de abril a septiembre de 2005):\n",
    "\n",
    "•\tX18 = monto pagado en septiembre de 2005; \n",
    "\n",
    "•\tX19 = monto pagado en agosto de 2005; \n",
    "\n",
    "•\tX23 = monto pagado en abril, 2005.\n",
    "\n",
    "Adicionalmente los datos contienen el ID del cliente, el cual no aporta información al modelo y se eliminará en el proceso de exploración de los datos.\n",
    "\n",
    "##### Variables cualitativas:\n",
    "\n",
    "Dentro de las variables cualitativas se tiene el sexo, la educación, estado civil e historial de pagos anteriores para cada uno de los meses.. \n",
    "\n",
    "##### Variables cuantitativas\n",
    "\n",
    "Dentro de las variables cuantitativas se tiene: el monto de crédito otorgado, la edad del cliente, el saldo de la cuenta en cada uno de los meses analizados y el abono de la cuenta  en cada uno de los meses analizados.\n",
    "\n",
    "Con la variables explicativas se quiere entrenar el modelo de tal manera que se puede predecir la variable de respuesta, es decir, que se pueda decir si el cliente cumplo o incumple con el pago del próximo mes.\n"
   ]
  },
  {
   "cell_type": "markdown",
   "metadata": {},
   "source": [
    "# Librerías que se usarán"
   ]
  },
  {
   "cell_type": "code",
   "execution_count": 1,
   "metadata": {
    "collapsed": true
   },
   "outputs": [],
   "source": [
    "##\n",
    "## Eliminamos salida de warnings\n",
    "##\n",
    "import warnings as ws\n",
    "ws.filterwarnings(\"ignore\")\n",
    "\n",
    "##\n",
    "## se importan las librerías requerídas\n",
    "##\n",
    "import itertools\n",
    "import numpy as np\n",
    "import pandas as pd\n",
    "import matplotlib.pyplot as plt\n",
    "%matplotlib inline\n",
    "\n",
    "from sklearn.preprocessing import MinMaxScaler\n",
    "from sklearn.metrics import confusion_matrix\n",
    "from sklearn.metrics import accuracy_score\n",
    "from sklearn.metrics import jaccard_similarity_score\n",
    "from sklearn.metrics import classification_report\n",
    "from sklearn.metrics import recall_score\n",
    "from sklearn.metrics import precision_score\n",
    "from sklearn.metrics import roc_auc_score\n",
    "\n",
    "from sklearn.neighbors import KNeighborsClassifier\n",
    "from sklearn.linear_model import SGDClassifier\n",
    "from sklearn.tree import DecisionTreeClassifier\n",
    "from sklearn.ensemble import RandomForestClassifier\n",
    "from sklearn import svm"
   ]
  },
  {
   "cell_type": "markdown",
   "metadata": {},
   "source": [
    "# Lectura de los datos"
   ]
  },
  {
   "cell_type": "markdown",
   "metadata": {},
   "source": [
    "A continuación se inicia el análisis de los datos"
   ]
  },
  {
   "cell_type": "code",
   "execution_count": 2,
   "metadata": {
    "scrolled": false
   },
   "outputs": [
    {
     "data": {
      "text/html": [
       "<div>\n",
       "<style>\n",
       "    .dataframe thead tr:only-child th {\n",
       "        text-align: right;\n",
       "    }\n",
       "\n",
       "    .dataframe thead th {\n",
       "        text-align: left;\n",
       "    }\n",
       "\n",
       "    .dataframe tbody tr th {\n",
       "        vertical-align: top;\n",
       "    }\n",
       "</style>\n",
       "<table border=\"1\" class=\"dataframe\">\n",
       "  <thead>\n",
       "    <tr style=\"text-align: right;\">\n",
       "      <th></th>\n",
       "      <th>ID</th>\n",
       "      <th>LIMIT_BAL</th>\n",
       "      <th>SEX</th>\n",
       "      <th>EDUCATION</th>\n",
       "      <th>MARRIAGE</th>\n",
       "      <th>AGE</th>\n",
       "      <th>PAY_0</th>\n",
       "      <th>PAY_2</th>\n",
       "      <th>PAY_3</th>\n",
       "      <th>PAY_4</th>\n",
       "      <th>...</th>\n",
       "      <th>BILL_AMT4</th>\n",
       "      <th>BILL_AMT5</th>\n",
       "      <th>BILL_AMT6</th>\n",
       "      <th>PAY_AMT1</th>\n",
       "      <th>PAY_AMT2</th>\n",
       "      <th>PAY_AMT3</th>\n",
       "      <th>PAY_AMT4</th>\n",
       "      <th>PAY_AMT5</th>\n",
       "      <th>PAY_AMT6</th>\n",
       "      <th>default payment next month</th>\n",
       "    </tr>\n",
       "  </thead>\n",
       "  <tbody>\n",
       "    <tr>\n",
       "      <th>0</th>\n",
       "      <td>1</td>\n",
       "      <td>20000</td>\n",
       "      <td>2</td>\n",
       "      <td>2</td>\n",
       "      <td>1</td>\n",
       "      <td>24</td>\n",
       "      <td>2</td>\n",
       "      <td>2</td>\n",
       "      <td>-1</td>\n",
       "      <td>-1</td>\n",
       "      <td>...</td>\n",
       "      <td>0</td>\n",
       "      <td>0</td>\n",
       "      <td>0</td>\n",
       "      <td>0</td>\n",
       "      <td>689</td>\n",
       "      <td>0</td>\n",
       "      <td>0</td>\n",
       "      <td>0</td>\n",
       "      <td>0</td>\n",
       "      <td>1</td>\n",
       "    </tr>\n",
       "    <tr>\n",
       "      <th>1</th>\n",
       "      <td>2</td>\n",
       "      <td>120000</td>\n",
       "      <td>2</td>\n",
       "      <td>2</td>\n",
       "      <td>2</td>\n",
       "      <td>26</td>\n",
       "      <td>-1</td>\n",
       "      <td>2</td>\n",
       "      <td>0</td>\n",
       "      <td>0</td>\n",
       "      <td>...</td>\n",
       "      <td>3272</td>\n",
       "      <td>3455</td>\n",
       "      <td>3261</td>\n",
       "      <td>0</td>\n",
       "      <td>1000</td>\n",
       "      <td>1000</td>\n",
       "      <td>1000</td>\n",
       "      <td>0</td>\n",
       "      <td>2000</td>\n",
       "      <td>1</td>\n",
       "    </tr>\n",
       "    <tr>\n",
       "      <th>2</th>\n",
       "      <td>3</td>\n",
       "      <td>90000</td>\n",
       "      <td>2</td>\n",
       "      <td>2</td>\n",
       "      <td>2</td>\n",
       "      <td>34</td>\n",
       "      <td>0</td>\n",
       "      <td>0</td>\n",
       "      <td>0</td>\n",
       "      <td>0</td>\n",
       "      <td>...</td>\n",
       "      <td>14331</td>\n",
       "      <td>14948</td>\n",
       "      <td>15549</td>\n",
       "      <td>1518</td>\n",
       "      <td>1500</td>\n",
       "      <td>1000</td>\n",
       "      <td>1000</td>\n",
       "      <td>1000</td>\n",
       "      <td>5000</td>\n",
       "      <td>0</td>\n",
       "    </tr>\n",
       "    <tr>\n",
       "      <th>3</th>\n",
       "      <td>4</td>\n",
       "      <td>50000</td>\n",
       "      <td>2</td>\n",
       "      <td>2</td>\n",
       "      <td>1</td>\n",
       "      <td>37</td>\n",
       "      <td>0</td>\n",
       "      <td>0</td>\n",
       "      <td>0</td>\n",
       "      <td>0</td>\n",
       "      <td>...</td>\n",
       "      <td>28314</td>\n",
       "      <td>28959</td>\n",
       "      <td>29547</td>\n",
       "      <td>2000</td>\n",
       "      <td>2019</td>\n",
       "      <td>1200</td>\n",
       "      <td>1100</td>\n",
       "      <td>1069</td>\n",
       "      <td>1000</td>\n",
       "      <td>0</td>\n",
       "    </tr>\n",
       "    <tr>\n",
       "      <th>4</th>\n",
       "      <td>5</td>\n",
       "      <td>50000</td>\n",
       "      <td>1</td>\n",
       "      <td>2</td>\n",
       "      <td>1</td>\n",
       "      <td>57</td>\n",
       "      <td>-1</td>\n",
       "      <td>0</td>\n",
       "      <td>-1</td>\n",
       "      <td>0</td>\n",
       "      <td>...</td>\n",
       "      <td>20940</td>\n",
       "      <td>19146</td>\n",
       "      <td>19131</td>\n",
       "      <td>2000</td>\n",
       "      <td>36681</td>\n",
       "      <td>10000</td>\n",
       "      <td>9000</td>\n",
       "      <td>689</td>\n",
       "      <td>679</td>\n",
       "      <td>0</td>\n",
       "    </tr>\n",
       "  </tbody>\n",
       "</table>\n",
       "<p>5 rows × 25 columns</p>\n",
       "</div>"
      ],
      "text/plain": [
       "   ID  LIMIT_BAL  SEX  EDUCATION  MARRIAGE  AGE  PAY_0  PAY_2  PAY_3  PAY_4  \\\n",
       "0   1      20000    2          2         1   24      2      2     -1     -1   \n",
       "1   2     120000    2          2         2   26     -1      2      0      0   \n",
       "2   3      90000    2          2         2   34      0      0      0      0   \n",
       "3   4      50000    2          2         1   37      0      0      0      0   \n",
       "4   5      50000    1          2         1   57     -1      0     -1      0   \n",
       "\n",
       "              ...              BILL_AMT4  BILL_AMT5  BILL_AMT6  PAY_AMT1  \\\n",
       "0             ...                      0          0          0         0   \n",
       "1             ...                   3272       3455       3261         0   \n",
       "2             ...                  14331      14948      15549      1518   \n",
       "3             ...                  28314      28959      29547      2000   \n",
       "4             ...                  20940      19146      19131      2000   \n",
       "\n",
       "   PAY_AMT2  PAY_AMT3  PAY_AMT4  PAY_AMT5  PAY_AMT6  \\\n",
       "0       689         0         0         0         0   \n",
       "1      1000      1000      1000         0      2000   \n",
       "2      1500      1000      1000      1000      5000   \n",
       "3      2019      1200      1100      1069      1000   \n",
       "4     36681     10000      9000       689       679   \n",
       "\n",
       "   default payment next month  \n",
       "0                           1  \n",
       "1                           1  \n",
       "2                           0  \n",
       "3                           0  \n",
       "4                           0  \n",
       "\n",
       "[5 rows x 25 columns]"
      ]
     },
     "execution_count": 2,
     "metadata": {},
     "output_type": "execute_result"
    }
   ],
   "source": [
    "##Se cargan los datos\n",
    "datos_p= pd.read_csv('data/Data_credit1.csv',\n",
    "                  sep=\";\")\n",
    "datos_p.head()"
   ]
  },
  {
   "cell_type": "code",
   "execution_count": 3,
   "metadata": {
    "collapsed": true
   },
   "outputs": [],
   "source": [
    "###se renombra la variable de respuesta para trabajar con un nombre más corto\n",
    "datos_p.rename(columns={'default payment next month': 'default'}, inplace=True) \n"
   ]
  },
  {
   "cell_type": "markdown",
   "metadata": {},
   "source": [
    "### Corrección de datos "
   ]
  },
  {
   "cell_type": "markdown",
   "metadata": {},
   "source": [
    "Dentro del código se han evidenciado errores de computo los cuales se proceden a corregir. Las variables que se modificaran será educación, estado civil e historial de pagos."
   ]
  },
  {
   "cell_type": "code",
   "execution_count": 4,
   "metadata": {},
   "outputs": [
    {
     "data": {
      "text/plain": [
       "count    30000.000000\n",
       "mean         1.842267\n",
       "std          0.744494\n",
       "min          1.000000\n",
       "25%          1.000000\n",
       "50%          2.000000\n",
       "75%          2.000000\n",
       "max          4.000000\n",
       "Name: EDUCATION, dtype: float64"
      ]
     },
     "execution_count": 4,
     "metadata": {},
     "output_type": "execute_result"
    }
   ],
   "source": [
    "\n",
    "####función para editar los datos en los que se identifican errores en la variable educación se cambia los valores 5,6,0 por 4(otros).\n",
    "def map_ed(x):\n",
    "    if(x == 5 or x == 6 or x == 0):\n",
    "        x = 4\n",
    "    return x\n",
    "\n",
    "datos2 = datos_p.copy()\n",
    "datos2['EDUCATION'] = datos2['EDUCATION'].apply(lambda x: map_ed(x))###aplicación de la función\n",
    "datos2.EDUCATION.describe()##datos organizados"
   ]
  },
  {
   "cell_type": "code",
   "execution_count": 5,
   "metadata": {},
   "outputs": [
    {
     "data": {
      "text/plain": [
       "count    30000.000000\n",
       "mean         1.557267\n",
       "std          0.521405\n",
       "min          1.000000\n",
       "25%          1.000000\n",
       "50%          2.000000\n",
       "75%          2.000000\n",
       "max          3.000000\n",
       "Name: MARRIAGE, dtype: float64"
      ]
     },
     "execution_count": 5,
     "metadata": {},
     "output_type": "execute_result"
    }
   ],
   "source": [
    "####función para editar los datos en los que se identifican errores en la estado civil se cambia por el valor de 0 por la categoría 3 otros\n",
    "\n",
    "def map_m(x):\n",
    "    if(x == 0):\n",
    "        x = 3\n",
    "    return x\n",
    "\n",
    "datos3 = datos2.copy()\n",
    "datos3['MARRIAGE'] = datos3['MARRIAGE'].apply(lambda x: map_m(x))\n",
    "datos3.MARRIAGE.describe()"
   ]
  },
  {
   "cell_type": "code",
   "execution_count": 6,
   "metadata": {
    "collapsed": true
   },
   "outputs": [],
   "source": [
    "##Corrección de variables PAY_... historial de pagos se cambian los valores -2, -1 por 0 para indicar que el cliente pago a tiempo\n",
    "def map_p(x):\n",
    "    if(x == -2 or x == -1 ):\n",
    "        x = 0\n",
    "    return x\n",
    "\n",
    "datos = datos3.copy()\n",
    "datos['PAY_0'] = datos['PAY_0'].apply(lambda x: map_p(x))\n",
    "datos['PAY_2'] = datos['PAY_2'].apply(lambda x: map_p(x))\n",
    "datos['PAY_3'] = datos['PAY_3'].apply(lambda x: map_p(x))\n",
    "datos['PAY_4'] = datos['PAY_4'].apply(lambda x: map_p(x))\n",
    "datos['PAY_5'] = datos['PAY_5'].apply(lambda x: map_p(x))\n",
    "datos['PAY_6'] = datos['PAY_6'].apply(lambda x: map_p(x))\n"
   ]
  },
  {
   "cell_type": "markdown",
   "metadata": {},
   "source": [
    "# Exploración y análisis de los datos"
   ]
  },
  {
   "cell_type": "markdown",
   "metadata": {},
   "source": [
    "La exploración de los datos se hace con el fin de conocer los datos y determinar si se debe hacer transformaciones en éstos, para luego aplicar los modelos."
   ]
  },
  {
   "cell_type": "markdown",
   "metadata": {},
   "source": [
    "Inicialmente se corrobora que no existan datos faltantes, en caso de que existan se debe tomar una decisión, si se imputan los datos con alguna técnica como la media o la mediana, o si se eliminan los registros que tienen datos faltantes, posteriormente se realizaría un remuestreo a través de un boostrap con los datos que seleccionados."
   ]
  },
  {
   "cell_type": "code",
   "execution_count": 7,
   "metadata": {},
   "outputs": [
    {
     "data": {
      "text/plain": [
       "ID           0\n",
       "LIMIT_BAL    0\n",
       "SEX          0\n",
       "EDUCATION    0\n",
       "MARRIAGE     0\n",
       "AGE          0\n",
       "PAY_0        0\n",
       "PAY_2        0\n",
       "PAY_3        0\n",
       "PAY_4        0\n",
       "PAY_5        0\n",
       "PAY_6        0\n",
       "BILL_AMT1    0\n",
       "BILL_AMT2    0\n",
       "BILL_AMT3    0\n",
       "BILL_AMT4    0\n",
       "BILL_AMT5    0\n",
       "BILL_AMT6    0\n",
       "PAY_AMT1     0\n",
       "PAY_AMT2     0\n",
       "PAY_AMT3     0\n",
       "PAY_AMT4     0\n",
       "PAY_AMT5     0\n",
       "PAY_AMT6     0\n",
       "default      0\n",
       "dtype: int64"
      ]
     },
     "execution_count": 7,
     "metadata": {},
     "output_type": "execute_result"
    }
   ],
   "source": [
    "###Función de python para determinar que los registros estén completos\n",
    "datos.isnull().sum()"
   ]
  },
  {
   "cell_type": "markdown",
   "metadata": {},
   "source": [
    "Como la suma de los faltantes es 0, el dataset se encuentra completo, por tanto se puede usar en su totalidad para todos los métodos y no se requiere utilizar imputación para los datos."
   ]
  },
  {
   "cell_type": "markdown",
   "metadata": {},
   "source": [
    " ### ESTADÍSTICOS GENERALES"
   ]
  },
  {
   "cell_type": "markdown",
   "metadata": {},
   "source": [
    "Se elimina la variable ID porque no provee información."
   ]
  },
  {
   "cell_type": "code",
   "execution_count": 8,
   "metadata": {
    "collapsed": true
   },
   "outputs": [],
   "source": [
    "####eliminación del ID porque no le aporta información al modelo.\n",
    "datos=datos.drop(labels=\"ID\", axis=1)"
   ]
  },
  {
   "cell_type": "markdown",
   "metadata": {},
   "source": [
    "A continuación se realiza una descrición estadística de los datos."
   ]
  },
  {
   "cell_type": "code",
   "execution_count": 9,
   "metadata": {
    "scrolled": false
   },
   "outputs": [
    {
     "data": {
      "text/html": [
       "<div>\n",
       "<style>\n",
       "    .dataframe thead tr:only-child th {\n",
       "        text-align: right;\n",
       "    }\n",
       "\n",
       "    .dataframe thead th {\n",
       "        text-align: left;\n",
       "    }\n",
       "\n",
       "    .dataframe tbody tr th {\n",
       "        vertical-align: top;\n",
       "    }\n",
       "</style>\n",
       "<table border=\"1\" class=\"dataframe\">\n",
       "  <thead>\n",
       "    <tr style=\"text-align: right;\">\n",
       "      <th></th>\n",
       "      <th>count</th>\n",
       "      <th>mean</th>\n",
       "      <th>std</th>\n",
       "      <th>min</th>\n",
       "      <th>25%</th>\n",
       "      <th>50%</th>\n",
       "      <th>75%</th>\n",
       "      <th>max</th>\n",
       "    </tr>\n",
       "  </thead>\n",
       "  <tbody>\n",
       "    <tr>\n",
       "      <th>LIMIT_BAL</th>\n",
       "      <td>30000.0</td>\n",
       "      <td>167484.322667</td>\n",
       "      <td>129747.661567</td>\n",
       "      <td>10000.0</td>\n",
       "      <td>50000.00</td>\n",
       "      <td>140000.0</td>\n",
       "      <td>240000.00</td>\n",
       "      <td>1000000.0</td>\n",
       "    </tr>\n",
       "    <tr>\n",
       "      <th>SEX</th>\n",
       "      <td>30000.0</td>\n",
       "      <td>1.603733</td>\n",
       "      <td>0.489129</td>\n",
       "      <td>1.0</td>\n",
       "      <td>1.00</td>\n",
       "      <td>2.0</td>\n",
       "      <td>2.00</td>\n",
       "      <td>2.0</td>\n",
       "    </tr>\n",
       "    <tr>\n",
       "      <th>EDUCATION</th>\n",
       "      <td>30000.0</td>\n",
       "      <td>1.842267</td>\n",
       "      <td>0.744494</td>\n",
       "      <td>1.0</td>\n",
       "      <td>1.00</td>\n",
       "      <td>2.0</td>\n",
       "      <td>2.00</td>\n",
       "      <td>4.0</td>\n",
       "    </tr>\n",
       "    <tr>\n",
       "      <th>MARRIAGE</th>\n",
       "      <td>30000.0</td>\n",
       "      <td>1.557267</td>\n",
       "      <td>0.521405</td>\n",
       "      <td>1.0</td>\n",
       "      <td>1.00</td>\n",
       "      <td>2.0</td>\n",
       "      <td>2.00</td>\n",
       "      <td>3.0</td>\n",
       "    </tr>\n",
       "    <tr>\n",
       "      <th>AGE</th>\n",
       "      <td>30000.0</td>\n",
       "      <td>35.485500</td>\n",
       "      <td>9.217904</td>\n",
       "      <td>21.0</td>\n",
       "      <td>28.00</td>\n",
       "      <td>34.0</td>\n",
       "      <td>41.00</td>\n",
       "      <td>79.0</td>\n",
       "    </tr>\n",
       "    <tr>\n",
       "      <th>PAY_0</th>\n",
       "      <td>30000.0</td>\n",
       "      <td>0.356767</td>\n",
       "      <td>0.760594</td>\n",
       "      <td>0.0</td>\n",
       "      <td>0.00</td>\n",
       "      <td>0.0</td>\n",
       "      <td>0.00</td>\n",
       "      <td>8.0</td>\n",
       "    </tr>\n",
       "    <tr>\n",
       "      <th>PAY_2</th>\n",
       "      <td>30000.0</td>\n",
       "      <td>0.320033</td>\n",
       "      <td>0.801727</td>\n",
       "      <td>0.0</td>\n",
       "      <td>0.00</td>\n",
       "      <td>0.0</td>\n",
       "      <td>0.00</td>\n",
       "      <td>8.0</td>\n",
       "    </tr>\n",
       "    <tr>\n",
       "      <th>PAY_3</th>\n",
       "      <td>30000.0</td>\n",
       "      <td>0.304067</td>\n",
       "      <td>0.790589</td>\n",
       "      <td>0.0</td>\n",
       "      <td>0.00</td>\n",
       "      <td>0.0</td>\n",
       "      <td>0.00</td>\n",
       "      <td>8.0</td>\n",
       "    </tr>\n",
       "    <tr>\n",
       "      <th>PAY_4</th>\n",
       "      <td>30000.0</td>\n",
       "      <td>0.258767</td>\n",
       "      <td>0.761113</td>\n",
       "      <td>0.0</td>\n",
       "      <td>0.00</td>\n",
       "      <td>0.0</td>\n",
       "      <td>0.00</td>\n",
       "      <td>8.0</td>\n",
       "    </tr>\n",
       "    <tr>\n",
       "      <th>PAY_5</th>\n",
       "      <td>30000.0</td>\n",
       "      <td>0.221500</td>\n",
       "      <td>0.717720</td>\n",
       "      <td>0.0</td>\n",
       "      <td>0.00</td>\n",
       "      <td>0.0</td>\n",
       "      <td>0.00</td>\n",
       "      <td>8.0</td>\n",
       "    </tr>\n",
       "    <tr>\n",
       "      <th>PAY_6</th>\n",
       "      <td>30000.0</td>\n",
       "      <td>0.226567</td>\n",
       "      <td>0.715438</td>\n",
       "      <td>0.0</td>\n",
       "      <td>0.00</td>\n",
       "      <td>0.0</td>\n",
       "      <td>0.00</td>\n",
       "      <td>8.0</td>\n",
       "    </tr>\n",
       "    <tr>\n",
       "      <th>BILL_AMT1</th>\n",
       "      <td>30000.0</td>\n",
       "      <td>51223.330900</td>\n",
       "      <td>73635.860576</td>\n",
       "      <td>-165580.0</td>\n",
       "      <td>3558.75</td>\n",
       "      <td>22381.5</td>\n",
       "      <td>67091.00</td>\n",
       "      <td>964511.0</td>\n",
       "    </tr>\n",
       "    <tr>\n",
       "      <th>BILL_AMT2</th>\n",
       "      <td>30000.0</td>\n",
       "      <td>49179.075167</td>\n",
       "      <td>71173.768783</td>\n",
       "      <td>-69777.0</td>\n",
       "      <td>2984.75</td>\n",
       "      <td>21200.0</td>\n",
       "      <td>64006.25</td>\n",
       "      <td>983931.0</td>\n",
       "    </tr>\n",
       "    <tr>\n",
       "      <th>BILL_AMT3</th>\n",
       "      <td>30000.0</td>\n",
       "      <td>47013.154800</td>\n",
       "      <td>69349.387427</td>\n",
       "      <td>-157264.0</td>\n",
       "      <td>2666.25</td>\n",
       "      <td>20088.5</td>\n",
       "      <td>60164.75</td>\n",
       "      <td>1664089.0</td>\n",
       "    </tr>\n",
       "    <tr>\n",
       "      <th>BILL_AMT4</th>\n",
       "      <td>30000.0</td>\n",
       "      <td>43262.948967</td>\n",
       "      <td>64332.856134</td>\n",
       "      <td>-170000.0</td>\n",
       "      <td>2326.75</td>\n",
       "      <td>19052.0</td>\n",
       "      <td>54506.00</td>\n",
       "      <td>891586.0</td>\n",
       "    </tr>\n",
       "    <tr>\n",
       "      <th>BILL_AMT5</th>\n",
       "      <td>30000.0</td>\n",
       "      <td>40311.400967</td>\n",
       "      <td>60797.155770</td>\n",
       "      <td>-81334.0</td>\n",
       "      <td>1763.00</td>\n",
       "      <td>18104.5</td>\n",
       "      <td>50190.50</td>\n",
       "      <td>927171.0</td>\n",
       "    </tr>\n",
       "    <tr>\n",
       "      <th>BILL_AMT6</th>\n",
       "      <td>30000.0</td>\n",
       "      <td>38871.760400</td>\n",
       "      <td>59554.107537</td>\n",
       "      <td>-339603.0</td>\n",
       "      <td>1256.00</td>\n",
       "      <td>17071.0</td>\n",
       "      <td>49198.25</td>\n",
       "      <td>961664.0</td>\n",
       "    </tr>\n",
       "    <tr>\n",
       "      <th>PAY_AMT1</th>\n",
       "      <td>30000.0</td>\n",
       "      <td>5663.580500</td>\n",
       "      <td>16563.280354</td>\n",
       "      <td>0.0</td>\n",
       "      <td>1000.00</td>\n",
       "      <td>2100.0</td>\n",
       "      <td>5006.00</td>\n",
       "      <td>873552.0</td>\n",
       "    </tr>\n",
       "    <tr>\n",
       "      <th>PAY_AMT2</th>\n",
       "      <td>30000.0</td>\n",
       "      <td>5921.163500</td>\n",
       "      <td>23040.870402</td>\n",
       "      <td>0.0</td>\n",
       "      <td>833.00</td>\n",
       "      <td>2009.0</td>\n",
       "      <td>5000.00</td>\n",
       "      <td>1684259.0</td>\n",
       "    </tr>\n",
       "    <tr>\n",
       "      <th>PAY_AMT3</th>\n",
       "      <td>30000.0</td>\n",
       "      <td>5225.681500</td>\n",
       "      <td>17606.961470</td>\n",
       "      <td>0.0</td>\n",
       "      <td>390.00</td>\n",
       "      <td>1800.0</td>\n",
       "      <td>4505.00</td>\n",
       "      <td>896040.0</td>\n",
       "    </tr>\n",
       "    <tr>\n",
       "      <th>PAY_AMT4</th>\n",
       "      <td>30000.0</td>\n",
       "      <td>4826.076867</td>\n",
       "      <td>15666.159744</td>\n",
       "      <td>0.0</td>\n",
       "      <td>296.00</td>\n",
       "      <td>1500.0</td>\n",
       "      <td>4013.25</td>\n",
       "      <td>621000.0</td>\n",
       "    </tr>\n",
       "    <tr>\n",
       "      <th>PAY_AMT5</th>\n",
       "      <td>30000.0</td>\n",
       "      <td>4799.387633</td>\n",
       "      <td>15278.305679</td>\n",
       "      <td>0.0</td>\n",
       "      <td>252.50</td>\n",
       "      <td>1500.0</td>\n",
       "      <td>4031.50</td>\n",
       "      <td>426529.0</td>\n",
       "    </tr>\n",
       "    <tr>\n",
       "      <th>PAY_AMT6</th>\n",
       "      <td>30000.0</td>\n",
       "      <td>5215.502567</td>\n",
       "      <td>17777.465775</td>\n",
       "      <td>0.0</td>\n",
       "      <td>117.75</td>\n",
       "      <td>1500.0</td>\n",
       "      <td>4000.00</td>\n",
       "      <td>528666.0</td>\n",
       "    </tr>\n",
       "    <tr>\n",
       "      <th>default</th>\n",
       "      <td>30000.0</td>\n",
       "      <td>0.221200</td>\n",
       "      <td>0.415062</td>\n",
       "      <td>0.0</td>\n",
       "      <td>0.00</td>\n",
       "      <td>0.0</td>\n",
       "      <td>0.00</td>\n",
       "      <td>1.0</td>\n",
       "    </tr>\n",
       "  </tbody>\n",
       "</table>\n",
       "</div>"
      ],
      "text/plain": [
       "             count           mean            std       min       25%  \\\n",
       "LIMIT_BAL  30000.0  167484.322667  129747.661567   10000.0  50000.00   \n",
       "SEX        30000.0       1.603733       0.489129       1.0      1.00   \n",
       "EDUCATION  30000.0       1.842267       0.744494       1.0      1.00   \n",
       "MARRIAGE   30000.0       1.557267       0.521405       1.0      1.00   \n",
       "AGE        30000.0      35.485500       9.217904      21.0     28.00   \n",
       "PAY_0      30000.0       0.356767       0.760594       0.0      0.00   \n",
       "PAY_2      30000.0       0.320033       0.801727       0.0      0.00   \n",
       "PAY_3      30000.0       0.304067       0.790589       0.0      0.00   \n",
       "PAY_4      30000.0       0.258767       0.761113       0.0      0.00   \n",
       "PAY_5      30000.0       0.221500       0.717720       0.0      0.00   \n",
       "PAY_6      30000.0       0.226567       0.715438       0.0      0.00   \n",
       "BILL_AMT1  30000.0   51223.330900   73635.860576 -165580.0   3558.75   \n",
       "BILL_AMT2  30000.0   49179.075167   71173.768783  -69777.0   2984.75   \n",
       "BILL_AMT3  30000.0   47013.154800   69349.387427 -157264.0   2666.25   \n",
       "BILL_AMT4  30000.0   43262.948967   64332.856134 -170000.0   2326.75   \n",
       "BILL_AMT5  30000.0   40311.400967   60797.155770  -81334.0   1763.00   \n",
       "BILL_AMT6  30000.0   38871.760400   59554.107537 -339603.0   1256.00   \n",
       "PAY_AMT1   30000.0    5663.580500   16563.280354       0.0   1000.00   \n",
       "PAY_AMT2   30000.0    5921.163500   23040.870402       0.0    833.00   \n",
       "PAY_AMT3   30000.0    5225.681500   17606.961470       0.0    390.00   \n",
       "PAY_AMT4   30000.0    4826.076867   15666.159744       0.0    296.00   \n",
       "PAY_AMT5   30000.0    4799.387633   15278.305679       0.0    252.50   \n",
       "PAY_AMT6   30000.0    5215.502567   17777.465775       0.0    117.75   \n",
       "default    30000.0       0.221200       0.415062       0.0      0.00   \n",
       "\n",
       "                50%        75%        max  \n",
       "LIMIT_BAL  140000.0  240000.00  1000000.0  \n",
       "SEX             2.0       2.00        2.0  \n",
       "EDUCATION       2.0       2.00        4.0  \n",
       "MARRIAGE        2.0       2.00        3.0  \n",
       "AGE            34.0      41.00       79.0  \n",
       "PAY_0           0.0       0.00        8.0  \n",
       "PAY_2           0.0       0.00        8.0  \n",
       "PAY_3           0.0       0.00        8.0  \n",
       "PAY_4           0.0       0.00        8.0  \n",
       "PAY_5           0.0       0.00        8.0  \n",
       "PAY_6           0.0       0.00        8.0  \n",
       "BILL_AMT1   22381.5   67091.00   964511.0  \n",
       "BILL_AMT2   21200.0   64006.25   983931.0  \n",
       "BILL_AMT3   20088.5   60164.75  1664089.0  \n",
       "BILL_AMT4   19052.0   54506.00   891586.0  \n",
       "BILL_AMT5   18104.5   50190.50   927171.0  \n",
       "BILL_AMT6   17071.0   49198.25   961664.0  \n",
       "PAY_AMT1     2100.0    5006.00   873552.0  \n",
       "PAY_AMT2     2009.0    5000.00  1684259.0  \n",
       "PAY_AMT3     1800.0    4505.00   896040.0  \n",
       "PAY_AMT4     1500.0    4013.25   621000.0  \n",
       "PAY_AMT5     1500.0    4031.50   426529.0  \n",
       "PAY_AMT6     1500.0    4000.00   528666.0  \n",
       "default         0.0       0.00        1.0  "
      ]
     },
     "execution_count": 9,
     "metadata": {},
     "output_type": "execute_result"
    }
   ],
   "source": [
    "#### Se realiza una descripción estadística inicial de los datos\n",
    "datos.describe(include = 'all').transpose()"
   ]
  },
  {
   "cell_type": "markdown",
   "metadata": {},
   "source": [
    "Como se puede observar en la tabla los registros para todas las variables se encuentran completos, adicionalmente se puede observar que entre las variables las escalas de los datos son diferentes por esto más adelante se hará una normalización como preparación de los datos para los modelos.\n",
    "\n",
    "Cabe anotar que si bien todas las variables se encuentran con valores númericos, algunas de ellas son variables categóricas o cualitativas que en vez de tomar una palabra como valor toman es un número, es decir, están convertidas en factor. Por esto es importante recalcar que el análisis anterior solo es válido para las variables cuantitativas.\n",
    "\n",
    "Con las correcciones realizadas anteriormente se identifica que las variables se encuentrande dentro de los rangos establecidos, esto es posible observarlo revisando el mínimo y el máximo de cada una de las variables."
   ]
  },
  {
   "cell_type": "markdown",
   "metadata": {},
   "source": [
    "### Análisis variable de respuesta\n"
   ]
  },
  {
   "cell_type": "markdown",
   "metadata": {},
   "source": [
    "Con las siguientes lineas se muestra como se encuentran los datos distribuidos en la variable de respuesta, donde el cumplimiento toma el valor de 0 y el incumplimiento toma el valor de 1."
   ]
  },
  {
   "cell_type": "code",
   "execution_count": 10,
   "metadata": {},
   "outputs": [
    {
     "data": {
      "text/html": [
       "<div>\n",
       "<style>\n",
       "    .dataframe thead tr:only-child th {\n",
       "        text-align: right;\n",
       "    }\n",
       "\n",
       "    .dataframe thead th {\n",
       "        text-align: left;\n",
       "    }\n",
       "\n",
       "    .dataframe tbody tr th {\n",
       "        vertical-align: top;\n",
       "    }\n",
       "</style>\n",
       "<table border=\"1\" class=\"dataframe\">\n",
       "  <thead>\n",
       "    <tr style=\"text-align: right;\">\n",
       "      <th></th>\n",
       "      <th>counts</th>\n",
       "      <th>freqs</th>\n",
       "    </tr>\n",
       "    <tr>\n",
       "      <th>categories</th>\n",
       "      <th></th>\n",
       "      <th></th>\n",
       "    </tr>\n",
       "  </thead>\n",
       "  <tbody>\n",
       "    <tr>\n",
       "      <th>0</th>\n",
       "      <td>23364</td>\n",
       "      <td>0.7788</td>\n",
       "    </tr>\n",
       "    <tr>\n",
       "      <th>1</th>\n",
       "      <td>6636</td>\n",
       "      <td>0.2212</td>\n",
       "    </tr>\n",
       "  </tbody>\n",
       "</table>\n",
       "</div>"
      ],
      "text/plain": [
       "            counts   freqs\n",
       "categories                \n",
       "0            23364  0.7788\n",
       "1             6636  0.2212"
      ]
     },
     "execution_count": 10,
     "metadata": {},
     "output_type": "execute_result"
    }
   ],
   "source": [
    "## categorización del dataset en clientes que cumplen y clientes que no cumplen con el pago del próximo mes\n",
    "diagnostico= pd.Categorical.from_array(datos.default)\n",
    "diagnostico.describe()"
   ]
  },
  {
   "cell_type": "markdown",
   "metadata": {},
   "source": [
    "Como el modelo ya contiene las variables categóricas en factores no es necesario convertirlas, a continuación se mira la gráfica del histograma de la variable de respuesta."
   ]
  },
  {
   "cell_type": "code",
   "execution_count": 11,
   "metadata": {},
   "outputs": [
    {
     "data": {
      "image/png": "[encoded data removed]",
      "text/plain": [
       "<matplotlib.figure.Figure at 0x1088fdd8>"
      ]
     },
     "metadata": {},
     "output_type": "display_data"
    }
   ],
   "source": [
    "## histograma de la variable de salida\n",
    "values = datos.default.values ##valores de la variables de resuesta\n",
    "n, bins, patches = plt.hist(values, 10, facecolor='g', alpha=0.75)\n",
    "plt.xlabel('Incumplimiento')\n",
    "plt.ylabel('Frecuencia')\n",
    "plt.title('Histograma de Incumplimiento de pago')\n",
    "plt.grid(True)\n",
    "plt.show()\n"
   ]
  },
  {
   "cell_type": "markdown",
   "metadata": {},
   "source": [
    "Aproximadamente el 77.8% (23364 clientes) de los clientes analizados realizan su pago predeterminadamente, el  otro 22.1% (6636 clientes) incumplen con el pago predeterminado para el próximo mes. Como los datos se encuentran desbalanceados posteriormente se realizará un balanceo de los datos para examinar los modelos."
   ]
  },
  {
   "cell_type": "markdown",
   "metadata": {},
   "source": [
    "## Análisis de los datos sin la variable de respuesta"
   ]
  },
  {
   "cell_type": "markdown",
   "metadata": {},
   "source": [
    "A continuación se realiza la división de las variables en cualitativas y cuantitativas para su análisis."
   ]
  },
  {
   "cell_type": "markdown",
   "metadata": {},
   "source": [
    "### Análisis variables cualitativas"
   ]
  },
  {
   "cell_type": "markdown",
   "metadata": {},
   "source": [
    "Para analizar las variables cualitativas se recurre al histograma de frecuencias. Estas serán el nivel educativo, el estado civeil, y el historial de pagos durante los seis meses analizados."
   ]
  },
  {
   "cell_type": "code",
   "execution_count": 12,
   "metadata": {},
   "outputs": [
    {
     "data": {
      "image/png": "[encoded data removed]",
      "text/plain": [
       "<matplotlib.figure.Figure at 0x10f49ac8>"
      ]
     },
     "metadata": {},
     "output_type": "display_data"
    }
   ],
   "source": [
    "###Histogramas de las variables cualitativas\n",
    "v_cuali=datos.iloc[:, [1,2,3,5,6,7,8,9,10]] ### Dataframe con las variables cualitativas\n",
    "v_cuali.hist(bins=10, facecolor='g', alpha=0.75,figsize = (15,15))\n",
    "plt.grid(True)\n",
    "plt.show()"
   ]
  },
  {
   "cell_type": "markdown",
   "metadata": {},
   "source": [
    "Las variables cualitativas nos permiten conocer más sobre el pérfil de los clientes de la base de datos analizada, para este caso hay mayor número de clientes mujeres que hombres, la mayoría de los clientes tienen niveles de educación superior (posgrado y universitarios), hay un número mayor de clientes solteros que en otros estados civiles, por último se puede observar que en el historial de pagos para todos los meses (abril a septiembre de 2005) los clientes están en su gran mayoría con pagos al día, es decir, en el estado 0."
   ]
  },
  {
   "cell_type": "code",
   "execution_count": 13,
   "metadata": {},
   "outputs": [
    {
     "data": {
      "image/png": "[encoded data removed]",
      "text/plain": [
       "<matplotlib.figure.Figure at 0x10eee9e8>"
      ]
     },
     "metadata": {},
     "output_type": "display_data"
    }
   ],
   "source": [
    "## Matriz de correlación para variables cualitativas\n",
    "import seaborn as sns\n",
    "\n",
    "plt.figure(figsize = (20,10))\n",
    "matriz=sns.heatmap(v_cuali.corr(), square=True, annot=True)\n",
    "matriz.set_title('Matriz de Correlación variables cualitativas')\n",
    "plt.show()"
   ]
  },
  {
   "cell_type": "markdown",
   "metadata": {},
   "source": [
    "Se evidencia correlación entre para el historial de pago, se evidencia que se da correlaciones mayores entre meses consecutivos, el estado de amortización en 3 está más correlacionado con el estado de amortización en 2, así sucesivamente."
   ]
  },
  {
   "cell_type": "markdown",
   "metadata": {},
   "source": [
    "### Análisis de variables cuantitativas"
   ]
  },
  {
   "cell_type": "markdown",
   "metadata": {},
   "source": [
    "A continuación se analizan las variables cuantitativas como edad,cupo, saldos y abonos."
   ]
  },
  {
   "cell_type": "code",
   "execution_count": 14,
   "metadata": {},
   "outputs": [
    {
     "data": {
      "text/html": [
       "<div>\n",
       "<style>\n",
       "    .dataframe thead tr:only-child th {\n",
       "        text-align: right;\n",
       "    }\n",
       "\n",
       "    .dataframe thead th {\n",
       "        text-align: left;\n",
       "    }\n",
       "\n",
       "    .dataframe tbody tr th {\n",
       "        vertical-align: top;\n",
       "    }\n",
       "</style>\n",
       "<table border=\"1\" class=\"dataframe\">\n",
       "  <thead>\n",
       "    <tr style=\"text-align: right;\">\n",
       "      <th></th>\n",
       "      <th>LIMIT_BAL</th>\n",
       "      <th>AGE</th>\n",
       "      <th>BILL_AMT1</th>\n",
       "      <th>BILL_AMT2</th>\n",
       "      <th>BILL_AMT3</th>\n",
       "      <th>BILL_AMT4</th>\n",
       "      <th>BILL_AMT5</th>\n",
       "      <th>BILL_AMT6</th>\n",
       "      <th>PAY_AMT1</th>\n",
       "      <th>PAY_AMT2</th>\n",
       "      <th>PAY_AMT3</th>\n",
       "      <th>PAY_AMT4</th>\n",
       "      <th>PAY_AMT5</th>\n",
       "      <th>PAY_AMT6</th>\n",
       "    </tr>\n",
       "  </thead>\n",
       "  <tbody>\n",
       "    <tr>\n",
       "      <th>count</th>\n",
       "      <td>30000.000000</td>\n",
       "      <td>30000.000000</td>\n",
       "      <td>30000.000000</td>\n",
       "      <td>30000.000000</td>\n",
       "      <td>3.000000e+04</td>\n",
       "      <td>30000.000000</td>\n",
       "      <td>30000.000000</td>\n",
       "      <td>30000.000000</td>\n",
       "      <td>30000.000000</td>\n",
       "      <td>3.000000e+04</td>\n",
       "      <td>30000.00000</td>\n",
       "      <td>30000.000000</td>\n",
       "      <td>30000.000000</td>\n",
       "      <td>30000.000000</td>\n",
       "    </tr>\n",
       "    <tr>\n",
       "      <th>mean</th>\n",
       "      <td>167484.322667</td>\n",
       "      <td>35.485500</td>\n",
       "      <td>51223.330900</td>\n",
       "      <td>49179.075167</td>\n",
       "      <td>4.701315e+04</td>\n",
       "      <td>43262.948967</td>\n",
       "      <td>40311.400967</td>\n",
       "      <td>38871.760400</td>\n",
       "      <td>5663.580500</td>\n",
       "      <td>5.921163e+03</td>\n",
       "      <td>5225.68150</td>\n",
       "      <td>4826.076867</td>\n",
       "      <td>4799.387633</td>\n",
       "      <td>5215.502567</td>\n",
       "    </tr>\n",
       "    <tr>\n",
       "      <th>std</th>\n",
       "      <td>129747.661567</td>\n",
       "      <td>9.217904</td>\n",
       "      <td>73635.860576</td>\n",
       "      <td>71173.768783</td>\n",
       "      <td>6.934939e+04</td>\n",
       "      <td>64332.856134</td>\n",
       "      <td>60797.155770</td>\n",
       "      <td>59554.107537</td>\n",
       "      <td>16563.280354</td>\n",
       "      <td>2.304087e+04</td>\n",
       "      <td>17606.96147</td>\n",
       "      <td>15666.159744</td>\n",
       "      <td>15278.305679</td>\n",
       "      <td>17777.465775</td>\n",
       "    </tr>\n",
       "    <tr>\n",
       "      <th>min</th>\n",
       "      <td>10000.000000</td>\n",
       "      <td>21.000000</td>\n",
       "      <td>-165580.000000</td>\n",
       "      <td>-69777.000000</td>\n",
       "      <td>-1.572640e+05</td>\n",
       "      <td>-170000.000000</td>\n",
       "      <td>-81334.000000</td>\n",
       "      <td>-339603.000000</td>\n",
       "      <td>0.000000</td>\n",
       "      <td>0.000000e+00</td>\n",
       "      <td>0.00000</td>\n",
       "      <td>0.000000</td>\n",
       "      <td>0.000000</td>\n",
       "      <td>0.000000</td>\n",
       "    </tr>\n",
       "    <tr>\n",
       "      <th>25%</th>\n",
       "      <td>50000.000000</td>\n",
       "      <td>28.000000</td>\n",
       "      <td>3558.750000</td>\n",
       "      <td>2984.750000</td>\n",
       "      <td>2.666250e+03</td>\n",
       "      <td>2326.750000</td>\n",
       "      <td>1763.000000</td>\n",
       "      <td>1256.000000</td>\n",
       "      <td>1000.000000</td>\n",
       "      <td>8.330000e+02</td>\n",
       "      <td>390.00000</td>\n",
       "      <td>296.000000</td>\n",
       "      <td>252.500000</td>\n",
       "      <td>117.750000</td>\n",
       "    </tr>\n",
       "    <tr>\n",
       "      <th>50%</th>\n",
       "      <td>140000.000000</td>\n",
       "      <td>34.000000</td>\n",
       "      <td>22381.500000</td>\n",
       "      <td>21200.000000</td>\n",
       "      <td>2.008850e+04</td>\n",
       "      <td>19052.000000</td>\n",
       "      <td>18104.500000</td>\n",
       "      <td>17071.000000</td>\n",
       "      <td>2100.000000</td>\n",
       "      <td>2.009000e+03</td>\n",
       "      <td>1800.00000</td>\n",
       "      <td>1500.000000</td>\n",
       "      <td>1500.000000</td>\n",
       "      <td>1500.000000</td>\n",
       "    </tr>\n",
       "    <tr>\n",
       "      <th>75%</th>\n",
       "      <td>240000.000000</td>\n",
       "      <td>41.000000</td>\n",
       "      <td>67091.000000</td>\n",
       "      <td>64006.250000</td>\n",
       "      <td>6.016475e+04</td>\n",
       "      <td>54506.000000</td>\n",
       "      <td>50190.500000</td>\n",
       "      <td>49198.250000</td>\n",
       "      <td>5006.000000</td>\n",
       "      <td>5.000000e+03</td>\n",
       "      <td>4505.00000</td>\n",
       "      <td>4013.250000</td>\n",
       "      <td>4031.500000</td>\n",
       "      <td>4000.000000</td>\n",
       "    </tr>\n",
       "    <tr>\n",
       "      <th>max</th>\n",
       "      <td>1000000.000000</td>\n",
       "      <td>79.000000</td>\n",
       "      <td>964511.000000</td>\n",
       "      <td>983931.000000</td>\n",
       "      <td>1.664089e+06</td>\n",
       "      <td>891586.000000</td>\n",
       "      <td>927171.000000</td>\n",
       "      <td>961664.000000</td>\n",
       "      <td>873552.000000</td>\n",
       "      <td>1.684259e+06</td>\n",
       "      <td>896040.00000</td>\n",
       "      <td>621000.000000</td>\n",
       "      <td>426529.000000</td>\n",
       "      <td>528666.000000</td>\n",
       "    </tr>\n",
       "  </tbody>\n",
       "</table>\n",
       "</div>"
      ],
      "text/plain": [
       "            LIMIT_BAL           AGE      BILL_AMT1      BILL_AMT2  \\\n",
       "count    30000.000000  30000.000000   30000.000000   30000.000000   \n",
       "mean    167484.322667     35.485500   51223.330900   49179.075167   \n",
       "std     129747.661567      9.217904   73635.860576   71173.768783   \n",
       "min      10000.000000     21.000000 -165580.000000  -69777.000000   \n",
       "25%      50000.000000     28.000000    3558.750000    2984.750000   \n",
       "50%     140000.000000     34.000000   22381.500000   21200.000000   \n",
       "75%     240000.000000     41.000000   67091.000000   64006.250000   \n",
       "max    1000000.000000     79.000000  964511.000000  983931.000000   \n",
       "\n",
       "          BILL_AMT3      BILL_AMT4      BILL_AMT5      BILL_AMT6  \\\n",
       "count  3.000000e+04   30000.000000   30000.000000   30000.000000   \n",
       "mean   4.701315e+04   43262.948967   40311.400967   38871.760400   \n",
       "std    6.934939e+04   64332.856134   60797.155770   59554.107537   \n",
       "min   -1.572640e+05 -170000.000000  -81334.000000 -339603.000000   \n",
       "25%    2.666250e+03    2326.750000    1763.000000    1256.000000   \n",
       "50%    2.008850e+04   19052.000000   18104.500000   17071.000000   \n",
       "75%    6.016475e+04   54506.000000   50190.500000   49198.250000   \n",
       "max    1.664089e+06  891586.000000  927171.000000  961664.000000   \n",
       "\n",
       "            PAY_AMT1      PAY_AMT2      PAY_AMT3       PAY_AMT4  \\\n",
       "count   30000.000000  3.000000e+04   30000.00000   30000.000000   \n",
       "mean     5663.580500  5.921163e+03    5225.68150    4826.076867   \n",
       "std     16563.280354  2.304087e+04   17606.96147   15666.159744   \n",
       "min         0.000000  0.000000e+00       0.00000       0.000000   \n",
       "25%      1000.000000  8.330000e+02     390.00000     296.000000   \n",
       "50%      2100.000000  2.009000e+03    1800.00000    1500.000000   \n",
       "75%      5006.000000  5.000000e+03    4505.00000    4013.250000   \n",
       "max    873552.000000  1.684259e+06  896040.00000  621000.000000   \n",
       "\n",
       "            PAY_AMT5       PAY_AMT6  \n",
       "count   30000.000000   30000.000000  \n",
       "mean     4799.387633    5215.502567  \n",
       "std     15278.305679   17777.465775  \n",
       "min         0.000000       0.000000  \n",
       "25%       252.500000     117.750000  \n",
       "50%      1500.000000    1500.000000  \n",
       "75%      4031.500000    4000.000000  \n",
       "max    426529.000000  528666.000000  "
      ]
     },
     "execution_count": 14,
     "metadata": {},
     "output_type": "execute_result"
    }
   ],
   "source": [
    "###Agrupación en un dataset de las variables cuantitativas\n",
    "v_cuan=datos.iloc[:, [0,4,11,12,13,14,15,16,17,18,19,20,21,22]] \n",
    "v_cuan.describe()"
   ]
  },
  {
   "cell_type": "markdown",
   "metadata": {},
   "source": [
    "El promedio de la edad de los clientes con tarjeta de crédito es de 35 años con una desviación de más o menos 9 años, el promedio del cupo de una tarjeta de crédito para un cliente es de 167.484 dólares, el saldo mensual oscila en un rango entre los $40000 y $50000 dólares, y los abonos entre $4800 y $6000 dólares mensuales."
   ]
  },
  {
   "cell_type": "markdown",
   "metadata": {},
   "source": [
    "### Escalamiento de las variables cuantitativas"
   ]
  },
  {
   "cell_type": "markdown",
   "metadata": {},
   "source": [
    "Se escalan los datos de las variables cuantitativas para que se puedan obsrvar mejor en el análisis."
   ]
  },
  {
   "cell_type": "code",
   "execution_count": 15,
   "metadata": {
    "collapsed": true
   },
   "outputs": [],
   "source": [
    "###Se escalan las variables categóricas para mirar el gráfico \n",
    "v_cuan_nombres = v_cuan.columns\n",
    "scaler = MinMaxScaler()\n",
    "v_cuan= scaler.fit_transform(v_cuan)\n",
    "v_cuan = pd.DataFrame(v_cuan, columns=v_cuan_nombres)"
   ]
  },
  {
   "cell_type": "code",
   "execution_count": 16,
   "metadata": {},
   "outputs": [
    {
     "data": {
      "image/png": "[encoded data removed]",
      "text/plain": [
       "<matplotlib.figure.Figure at 0x147f1160>"
      ]
     },
     "metadata": {},
     "output_type": "display_data"
    }
   ],
   "source": [
    "### Boxplot de las variables cuantitativas\n",
    "plt.figure(figsize=(20,10))\n",
    "v_cuan.boxplot()\n",
    "plt.xlabel('Variables')\n",
    "plt.ylabel('Valores')\n",
    "plt.title('Análisis de Variables')\n",
    "plt.grid(True)\n",
    "plt.show()\n"
   ]
  },
  {
   "cell_type": "markdown",
   "metadata": {},
   "source": [
    "Como se puede observar todas las variables presentan puntos atípicos, estos comportamientos pueden ser normales pues se deben a comportamiento crediticio, es de esperar que en las variables de saldos y abonos existan puntos que sean atípicos  correspondientes a personas con saldos muy grandes al igual que los abonos. Los saldos negativos pueden existir y se debe a que la persona pudo hacer un abono mayor al saldo que tenía."
   ]
  },
  {
   "cell_type": "code",
   "execution_count": 17,
   "metadata": {},
   "outputs": [
    {
     "data": {
      "image/png": "[encoded data removed]",
      "text/plain": [
       "<matplotlib.figure.Figure at 0x10888588>"
      ]
     },
     "metadata": {},
     "output_type": "display_data"
    }
   ],
   "source": [
    "### Grpafico de densidad de las variables cuantitativas\n",
    "v_cuan.plot(kind='density', subplots= True, layout=(17,3), sharex=False, figsize=(15,35))\n",
    "plt.show()"
   ]
  },
  {
   "cell_type": "code",
   "execution_count": 18,
   "metadata": {},
   "outputs": [
    {
     "data": {
      "image/png": "[encoded data removed]",
      "text/plain": [
       "<matplotlib.figure.Figure at 0x1668ea90>"
      ]
     },
     "metadata": {},
     "output_type": "display_data"
    }
   ],
   "source": [
    "##Histograma variables cuantitativas\n",
    "v_cuan.hist(bins=10, facecolor='r', alpha=0.75,figsize = (15,15))\n",
    "plt.grid(True)\n",
    "plt.show()"
   ]
  },
  {
   "cell_type": "markdown",
   "metadata": {},
   "source": [
    "Claramente se puede observar que las variables cuantitativas no se comportan de manera normal, la mayoría de ellas presenta valores atípicos y sesgo hacio la derecha, con una concentración de datos en valores muy pequeños que incluyen el valor medio. Se puede observar que la distribuciones de los saldos son parecidas en todos los meses al igual que las distribuciones de los abonos.Para tener una mejor proporción de los datos se decide escalar las variables entre (0-1)."
   ]
  },
  {
   "cell_type": "markdown",
   "metadata": {},
   "source": [
    "### Correlación entre variables cuantitativas"
   ]
  },
  {
   "cell_type": "code",
   "execution_count": 19,
   "metadata": {},
   "outputs": [
    {
     "data": {
      "text/html": [
       "<div>\n",
       "<style>\n",
       "    .dataframe thead tr:only-child th {\n",
       "        text-align: right;\n",
       "    }\n",
       "\n",
       "    .dataframe thead th {\n",
       "        text-align: left;\n",
       "    }\n",
       "\n",
       "    .dataframe tbody tr th {\n",
       "        vertical-align: top;\n",
       "    }\n",
       "</style>\n",
       "<table border=\"1\" class=\"dataframe\">\n",
       "  <thead>\n",
       "    <tr style=\"text-align: right;\">\n",
       "      <th></th>\n",
       "      <th>LIMIT_BAL</th>\n",
       "      <th>AGE</th>\n",
       "      <th>BILL_AMT1</th>\n",
       "      <th>BILL_AMT2</th>\n",
       "      <th>BILL_AMT3</th>\n",
       "      <th>BILL_AMT4</th>\n",
       "      <th>BILL_AMT5</th>\n",
       "      <th>BILL_AMT6</th>\n",
       "      <th>PAY_AMT1</th>\n",
       "      <th>PAY_AMT2</th>\n",
       "      <th>PAY_AMT3</th>\n",
       "      <th>PAY_AMT4</th>\n",
       "      <th>PAY_AMT5</th>\n",
       "      <th>PAY_AMT6</th>\n",
       "    </tr>\n",
       "  </thead>\n",
       "  <tbody>\n",
       "    <tr>\n",
       "      <th>LIMIT_BAL</th>\n",
       "      <td>1.000000</td>\n",
       "      <td>0.144713</td>\n",
       "      <td>0.285430</td>\n",
       "      <td>0.278314</td>\n",
       "      <td>0.283236</td>\n",
       "      <td>0.293988</td>\n",
       "      <td>0.295562</td>\n",
       "      <td>0.290389</td>\n",
       "      <td>0.195236</td>\n",
       "      <td>0.178408</td>\n",
       "      <td>0.210167</td>\n",
       "      <td>0.203242</td>\n",
       "      <td>0.217202</td>\n",
       "      <td>0.219595</td>\n",
       "    </tr>\n",
       "    <tr>\n",
       "      <th>AGE</th>\n",
       "      <td>0.144713</td>\n",
       "      <td>1.000000</td>\n",
       "      <td>0.056239</td>\n",
       "      <td>0.054283</td>\n",
       "      <td>0.053710</td>\n",
       "      <td>0.051353</td>\n",
       "      <td>0.049345</td>\n",
       "      <td>0.047613</td>\n",
       "      <td>0.026147</td>\n",
       "      <td>0.021785</td>\n",
       "      <td>0.029247</td>\n",
       "      <td>0.021379</td>\n",
       "      <td>0.022850</td>\n",
       "      <td>0.019478</td>\n",
       "    </tr>\n",
       "    <tr>\n",
       "      <th>BILL_AMT1</th>\n",
       "      <td>0.285430</td>\n",
       "      <td>0.056239</td>\n",
       "      <td>1.000000</td>\n",
       "      <td>0.951484</td>\n",
       "      <td>0.892279</td>\n",
       "      <td>0.860272</td>\n",
       "      <td>0.829779</td>\n",
       "      <td>0.802650</td>\n",
       "      <td>0.140277</td>\n",
       "      <td>0.099355</td>\n",
       "      <td>0.156887</td>\n",
       "      <td>0.158303</td>\n",
       "      <td>0.167026</td>\n",
       "      <td>0.179341</td>\n",
       "    </tr>\n",
       "    <tr>\n",
       "      <th>BILL_AMT2</th>\n",
       "      <td>0.278314</td>\n",
       "      <td>0.054283</td>\n",
       "      <td>0.951484</td>\n",
       "      <td>1.000000</td>\n",
       "      <td>0.928326</td>\n",
       "      <td>0.892482</td>\n",
       "      <td>0.859778</td>\n",
       "      <td>0.831594</td>\n",
       "      <td>0.280365</td>\n",
       "      <td>0.100851</td>\n",
       "      <td>0.150718</td>\n",
       "      <td>0.147398</td>\n",
       "      <td>0.157957</td>\n",
       "      <td>0.174256</td>\n",
       "    </tr>\n",
       "    <tr>\n",
       "      <th>BILL_AMT3</th>\n",
       "      <td>0.283236</td>\n",
       "      <td>0.053710</td>\n",
       "      <td>0.892279</td>\n",
       "      <td>0.928326</td>\n",
       "      <td>1.000000</td>\n",
       "      <td>0.923969</td>\n",
       "      <td>0.883910</td>\n",
       "      <td>0.853320</td>\n",
       "      <td>0.244335</td>\n",
       "      <td>0.316936</td>\n",
       "      <td>0.130011</td>\n",
       "      <td>0.143405</td>\n",
       "      <td>0.179712</td>\n",
       "      <td>0.182326</td>\n",
       "    </tr>\n",
       "    <tr>\n",
       "      <th>BILL_AMT4</th>\n",
       "      <td>0.293988</td>\n",
       "      <td>0.051353</td>\n",
       "      <td>0.860272</td>\n",
       "      <td>0.892482</td>\n",
       "      <td>0.923969</td>\n",
       "      <td>1.000000</td>\n",
       "      <td>0.940134</td>\n",
       "      <td>0.900941</td>\n",
       "      <td>0.233012</td>\n",
       "      <td>0.207564</td>\n",
       "      <td>0.300023</td>\n",
       "      <td>0.130191</td>\n",
       "      <td>0.160433</td>\n",
       "      <td>0.177637</td>\n",
       "    </tr>\n",
       "    <tr>\n",
       "      <th>BILL_AMT5</th>\n",
       "      <td>0.295562</td>\n",
       "      <td>0.049345</td>\n",
       "      <td>0.829779</td>\n",
       "      <td>0.859778</td>\n",
       "      <td>0.883910</td>\n",
       "      <td>0.940134</td>\n",
       "      <td>1.000000</td>\n",
       "      <td>0.946197</td>\n",
       "      <td>0.217031</td>\n",
       "      <td>0.181246</td>\n",
       "      <td>0.252305</td>\n",
       "      <td>0.293118</td>\n",
       "      <td>0.141574</td>\n",
       "      <td>0.164184</td>\n",
       "    </tr>\n",
       "    <tr>\n",
       "      <th>BILL_AMT6</th>\n",
       "      <td>0.290389</td>\n",
       "      <td>0.047613</td>\n",
       "      <td>0.802650</td>\n",
       "      <td>0.831594</td>\n",
       "      <td>0.853320</td>\n",
       "      <td>0.900941</td>\n",
       "      <td>0.946197</td>\n",
       "      <td>1.000000</td>\n",
       "      <td>0.199965</td>\n",
       "      <td>0.172663</td>\n",
       "      <td>0.233770</td>\n",
       "      <td>0.250237</td>\n",
       "      <td>0.307729</td>\n",
       "      <td>0.115494</td>\n",
       "    </tr>\n",
       "    <tr>\n",
       "      <th>PAY_AMT1</th>\n",
       "      <td>0.195236</td>\n",
       "      <td>0.026147</td>\n",
       "      <td>0.140277</td>\n",
       "      <td>0.280365</td>\n",
       "      <td>0.244335</td>\n",
       "      <td>0.233012</td>\n",
       "      <td>0.217031</td>\n",
       "      <td>0.199965</td>\n",
       "      <td>1.000000</td>\n",
       "      <td>0.285576</td>\n",
       "      <td>0.252191</td>\n",
       "      <td>0.199558</td>\n",
       "      <td>0.148459</td>\n",
       "      <td>0.185735</td>\n",
       "    </tr>\n",
       "    <tr>\n",
       "      <th>PAY_AMT2</th>\n",
       "      <td>0.178408</td>\n",
       "      <td>0.021785</td>\n",
       "      <td>0.099355</td>\n",
       "      <td>0.100851</td>\n",
       "      <td>0.316936</td>\n",
       "      <td>0.207564</td>\n",
       "      <td>0.181246</td>\n",
       "      <td>0.172663</td>\n",
       "      <td>0.285576</td>\n",
       "      <td>1.000000</td>\n",
       "      <td>0.244770</td>\n",
       "      <td>0.180107</td>\n",
       "      <td>0.180908</td>\n",
       "      <td>0.157634</td>\n",
       "    </tr>\n",
       "    <tr>\n",
       "      <th>PAY_AMT3</th>\n",
       "      <td>0.210167</td>\n",
       "      <td>0.029247</td>\n",
       "      <td>0.156887</td>\n",
       "      <td>0.150718</td>\n",
       "      <td>0.130011</td>\n",
       "      <td>0.300023</td>\n",
       "      <td>0.252305</td>\n",
       "      <td>0.233770</td>\n",
       "      <td>0.252191</td>\n",
       "      <td>0.244770</td>\n",
       "      <td>1.000000</td>\n",
       "      <td>0.216325</td>\n",
       "      <td>0.159214</td>\n",
       "      <td>0.162740</td>\n",
       "    </tr>\n",
       "    <tr>\n",
       "      <th>PAY_AMT4</th>\n",
       "      <td>0.203242</td>\n",
       "      <td>0.021379</td>\n",
       "      <td>0.158303</td>\n",
       "      <td>0.147398</td>\n",
       "      <td>0.143405</td>\n",
       "      <td>0.130191</td>\n",
       "      <td>0.293118</td>\n",
       "      <td>0.250237</td>\n",
       "      <td>0.199558</td>\n",
       "      <td>0.180107</td>\n",
       "      <td>0.216325</td>\n",
       "      <td>1.000000</td>\n",
       "      <td>0.151830</td>\n",
       "      <td>0.157834</td>\n",
       "    </tr>\n",
       "    <tr>\n",
       "      <th>PAY_AMT5</th>\n",
       "      <td>0.217202</td>\n",
       "      <td>0.022850</td>\n",
       "      <td>0.167026</td>\n",
       "      <td>0.157957</td>\n",
       "      <td>0.179712</td>\n",
       "      <td>0.160433</td>\n",
       "      <td>0.141574</td>\n",
       "      <td>0.307729</td>\n",
       "      <td>0.148459</td>\n",
       "      <td>0.180908</td>\n",
       "      <td>0.159214</td>\n",
       "      <td>0.151830</td>\n",
       "      <td>1.000000</td>\n",
       "      <td>0.154896</td>\n",
       "    </tr>\n",
       "    <tr>\n",
       "      <th>PAY_AMT6</th>\n",
       "      <td>0.219595</td>\n",
       "      <td>0.019478</td>\n",
       "      <td>0.179341</td>\n",
       "      <td>0.174256</td>\n",
       "      <td>0.182326</td>\n",
       "      <td>0.177637</td>\n",
       "      <td>0.164184</td>\n",
       "      <td>0.115494</td>\n",
       "      <td>0.185735</td>\n",
       "      <td>0.157634</td>\n",
       "      <td>0.162740</td>\n",
       "      <td>0.157834</td>\n",
       "      <td>0.154896</td>\n",
       "      <td>1.000000</td>\n",
       "    </tr>\n",
       "  </tbody>\n",
       "</table>\n",
       "</div>"
      ],
      "text/plain": [
       "           LIMIT_BAL       AGE  BILL_AMT1  BILL_AMT2  BILL_AMT3  BILL_AMT4  \\\n",
       "LIMIT_BAL   1.000000  0.144713   0.285430   0.278314   0.283236   0.293988   \n",
       "AGE         0.144713  1.000000   0.056239   0.054283   0.053710   0.051353   \n",
       "BILL_AMT1   0.285430  0.056239   1.000000   0.951484   0.892279   0.860272   \n",
       "BILL_AMT2   0.278314  0.054283   0.951484   1.000000   0.928326   0.892482   \n",
       "BILL_AMT3   0.283236  0.053710   0.892279   0.928326   1.000000   0.923969   \n",
       "BILL_AMT4   0.293988  0.051353   0.860272   0.892482   0.923969   1.000000   \n",
       "BILL_AMT5   0.295562  0.049345   0.829779   0.859778   0.883910   0.940134   \n",
       "BILL_AMT6   0.290389  0.047613   0.802650   0.831594   0.853320   0.900941   \n",
       "PAY_AMT1    0.195236  0.026147   0.140277   0.280365   0.244335   0.233012   \n",
       "PAY_AMT2    0.178408  0.021785   0.099355   0.100851   0.316936   0.207564   \n",
       "PAY_AMT3    0.210167  0.029247   0.156887   0.150718   0.130011   0.300023   \n",
       "PAY_AMT4    0.203242  0.021379   0.158303   0.147398   0.143405   0.130191   \n",
       "PAY_AMT5    0.217202  0.022850   0.167026   0.157957   0.179712   0.160433   \n",
       "PAY_AMT6    0.219595  0.019478   0.179341   0.174256   0.182326   0.177637   \n",
       "\n",
       "           BILL_AMT5  BILL_AMT6  PAY_AMT1  PAY_AMT2  PAY_AMT3  PAY_AMT4  \\\n",
       "LIMIT_BAL   0.295562   0.290389  0.195236  0.178408  0.210167  0.203242   \n",
       "AGE         0.049345   0.047613  0.026147  0.021785  0.029247  0.021379   \n",
       "BILL_AMT1   0.829779   0.802650  0.140277  0.099355  0.156887  0.158303   \n",
       "BILL_AMT2   0.859778   0.831594  0.280365  0.100851  0.150718  0.147398   \n",
       "BILL_AMT3   0.883910   0.853320  0.244335  0.316936  0.130011  0.143405   \n",
       "BILL_AMT4   0.940134   0.900941  0.233012  0.207564  0.300023  0.130191   \n",
       "BILL_AMT5   1.000000   0.946197  0.217031  0.181246  0.252305  0.293118   \n",
       "BILL_AMT6   0.946197   1.000000  0.199965  0.172663  0.233770  0.250237   \n",
       "PAY_AMT1    0.217031   0.199965  1.000000  0.285576  0.252191  0.199558   \n",
       "PAY_AMT2    0.181246   0.172663  0.285576  1.000000  0.244770  0.180107   \n",
       "PAY_AMT3    0.252305   0.233770  0.252191  0.244770  1.000000  0.216325   \n",
       "PAY_AMT4    0.293118   0.250237  0.199558  0.180107  0.216325  1.000000   \n",
       "PAY_AMT5    0.141574   0.307729  0.148459  0.180908  0.159214  0.151830   \n",
       "PAY_AMT6    0.164184   0.115494  0.185735  0.157634  0.162740  0.157834   \n",
       "\n",
       "           PAY_AMT5  PAY_AMT6  \n",
       "LIMIT_BAL  0.217202  0.219595  \n",
       "AGE        0.022850  0.019478  \n",
       "BILL_AMT1  0.167026  0.179341  \n",
       "BILL_AMT2  0.157957  0.174256  \n",
       "BILL_AMT3  0.179712  0.182326  \n",
       "BILL_AMT4  0.160433  0.177637  \n",
       "BILL_AMT5  0.141574  0.164184  \n",
       "BILL_AMT6  0.307729  0.115494  \n",
       "PAY_AMT1   0.148459  0.185735  \n",
       "PAY_AMT2   0.180908  0.157634  \n",
       "PAY_AMT3   0.159214  0.162740  \n",
       "PAY_AMT4   0.151830  0.157834  \n",
       "PAY_AMT5   1.000000  0.154896  \n",
       "PAY_AMT6   0.154896  1.000000  "
      ]
     },
     "execution_count": 19,
     "metadata": {},
     "output_type": "execute_result"
    }
   ],
   "source": [
    "##Correlación entre las variables cuantitativas\n",
    "v_cuan.corr()"
   ]
  },
  {
   "cell_type": "code",
   "execution_count": 20,
   "metadata": {},
   "outputs": [
    {
     "data": {
      "image/png": "[encoded data removed]",
      "text/plain": [
       "<matplotlib.figure.Figure at 0x17a06978>"
      ]
     },
     "metadata": {},
     "output_type": "display_data"
    }
   ],
   "source": [
    "###Mapa de calor y correlación entre las variables\n",
    "import seaborn as sns\n",
    "\n",
    "plt.figure(figsize = (20,10))\n",
    "matriz=sns.heatmap(v_cuan.corr(), square=True, annot=True)\n",
    "matriz.set_title('Matriz de Correlación variables cuantitativas')\n",
    "plt.show()"
   ]
  },
  {
   "cell_type": "markdown",
   "metadata": {},
   "source": [
    "Los valores que tienen color más oscuro significa que las variables implicadas tienen una mayor correlación, para este caso las variables que están más correlacionadas son las que muestran mes a mes el saldo de la cuenta, es decir el saldo en septiemnbre tiene una correlación positiva con el saldo en el mes anterior agosto, por el contrario los abonos que de dan mensualmente tienen muy baja correlación entre ellos."
   ]
  },
  {
   "cell_type": "code",
   "execution_count": 21,
   "metadata": {},
   "outputs": [
    {
     "data": {
      "text/plain": [
       "<matplotlib.text.Text at 0x11277e10>"
      ]
     },
     "execution_count": 21,
     "metadata": {},
     "output_type": "execute_result"
    },
    {
     "data": {
      "image/png": "[encoded data removed]",
      "text/plain": [
       "<matplotlib.figure.Figure at 0x14a0f2e8>"
      ]
     },
     "metadata": {},
     "output_type": "display_data"
    }
   ],
   "source": [
    "### Boxplot para análisis de algunos variables cuantitativas con la variable de respuesta\n",
    "car = 'default'\n",
    "data = pd.concat([datos['LIMIT_BAL'], datos[car]], axis =1)\n",
    "f, ax = plt.subplots(figsize = (8, 6))\n",
    "fig = sns.boxplot(x=car, y='LIMIT_BAL', data = data)\n",
    "fig.set_title('Boxplot default vs Cupo de TDC')\n",
    "#fig.axis(ymin=10000, ymax=1000000)\n",
    "\n"
   ]
  },
  {
   "cell_type": "markdown",
   "metadata": {},
   "source": [
    "Como se puede observar los clientes con probabilidad de incumplimiento de pago tienen menor cupo de crédito qur los clientes con cumplimiento de pago."
   ]
  },
  {
   "cell_type": "markdown",
   "metadata": {},
   "source": [
    "### Aplicación de metodologías"
   ]
  },
  {
   "cell_type": "markdown",
   "metadata": {},
   "source": [
    "Con el fin de hacer una simulación de los datos se decide sacar el 10% de los registros para probar en productivo el modelo.\n",
    "\n",
    "Es necesario aclarar que lo más importante para el modelado es aumentar la precisión para la clase 1, incumplimiento de pago en el próximo mes. La decisión que se toma es que así se pierda precisión para la clase 0 cumplimiento de pago en el próximo mes y por tanto en el modelo en general, prevalecerá el modelo en que la clase 1 tenga mejor precisión y recall.\n",
    "\n",
    "La clase 1 es la más critica para el modelo,por una parte se encuentra desbalanceada y por otra parte es la que predice si el cliente entra en mora en el próximo pago, es decir, es la que representa más dinero para el modelo."
   ]
  },
  {
   "cell_type": "code",
   "execution_count": 22,
   "metadata": {
    "scrolled": true
   },
   "outputs": [
    {
     "data": {
      "text/html": [
       "<div>\n",
       "<style>\n",
       "    .dataframe thead tr:only-child th {\n",
       "        text-align: right;\n",
       "    }\n",
       "\n",
       "    .dataframe thead th {\n",
       "        text-align: left;\n",
       "    }\n",
       "\n",
       "    .dataframe tbody tr th {\n",
       "        vertical-align: top;\n",
       "    }\n",
       "</style>\n",
       "<table border=\"1\" class=\"dataframe\">\n",
       "  <thead>\n",
       "    <tr style=\"text-align: right;\">\n",
       "      <th></th>\n",
       "      <th>count</th>\n",
       "      <th>mean</th>\n",
       "      <th>std</th>\n",
       "      <th>min</th>\n",
       "      <th>25%</th>\n",
       "      <th>50%</th>\n",
       "      <th>75%</th>\n",
       "      <th>max</th>\n",
       "    </tr>\n",
       "  </thead>\n",
       "  <tbody>\n",
       "    <tr>\n",
       "      <th>LIMIT_BAL</th>\n",
       "      <td>27000.0</td>\n",
       "      <td>167338.506667</td>\n",
       "      <td>129641.892269</td>\n",
       "      <td>10000.0</td>\n",
       "      <td>50000.00</td>\n",
       "      <td>140000.0</td>\n",
       "      <td>240000.00</td>\n",
       "      <td>1000000.0</td>\n",
       "    </tr>\n",
       "    <tr>\n",
       "      <th>SEX</th>\n",
       "      <td>27000.0</td>\n",
       "      <td>1.603630</td>\n",
       "      <td>0.489152</td>\n",
       "      <td>1.0</td>\n",
       "      <td>1.00</td>\n",
       "      <td>2.0</td>\n",
       "      <td>2.00</td>\n",
       "      <td>2.0</td>\n",
       "    </tr>\n",
       "    <tr>\n",
       "      <th>EDUCATION</th>\n",
       "      <td>27000.0</td>\n",
       "      <td>1.842593</td>\n",
       "      <td>0.744699</td>\n",
       "      <td>1.0</td>\n",
       "      <td>1.00</td>\n",
       "      <td>2.0</td>\n",
       "      <td>2.00</td>\n",
       "      <td>4.0</td>\n",
       "    </tr>\n",
       "    <tr>\n",
       "      <th>MARRIAGE</th>\n",
       "      <td>27000.0</td>\n",
       "      <td>1.559667</td>\n",
       "      <td>0.521470</td>\n",
       "      <td>1.0</td>\n",
       "      <td>1.00</td>\n",
       "      <td>2.0</td>\n",
       "      <td>2.00</td>\n",
       "      <td>3.0</td>\n",
       "    </tr>\n",
       "    <tr>\n",
       "      <th>AGE</th>\n",
       "      <td>27000.0</td>\n",
       "      <td>35.461000</td>\n",
       "      <td>9.210022</td>\n",
       "      <td>21.0</td>\n",
       "      <td>28.00</td>\n",
       "      <td>34.0</td>\n",
       "      <td>41.00</td>\n",
       "      <td>79.0</td>\n",
       "    </tr>\n",
       "    <tr>\n",
       "      <th>PAY_0</th>\n",
       "      <td>27000.0</td>\n",
       "      <td>0.354481</td>\n",
       "      <td>0.754562</td>\n",
       "      <td>0.0</td>\n",
       "      <td>0.00</td>\n",
       "      <td>0.0</td>\n",
       "      <td>0.00</td>\n",
       "      <td>8.0</td>\n",
       "    </tr>\n",
       "    <tr>\n",
       "      <th>PAY_2</th>\n",
       "      <td>27000.0</td>\n",
       "      <td>0.317741</td>\n",
       "      <td>0.796747</td>\n",
       "      <td>0.0</td>\n",
       "      <td>0.00</td>\n",
       "      <td>0.0</td>\n",
       "      <td>0.00</td>\n",
       "      <td>8.0</td>\n",
       "    </tr>\n",
       "    <tr>\n",
       "      <th>PAY_3</th>\n",
       "      <td>27000.0</td>\n",
       "      <td>0.303222</td>\n",
       "      <td>0.789541</td>\n",
       "      <td>0.0</td>\n",
       "      <td>0.00</td>\n",
       "      <td>0.0</td>\n",
       "      <td>0.00</td>\n",
       "      <td>8.0</td>\n",
       "    </tr>\n",
       "    <tr>\n",
       "      <th>PAY_4</th>\n",
       "      <td>27000.0</td>\n",
       "      <td>0.259519</td>\n",
       "      <td>0.762431</td>\n",
       "      <td>0.0</td>\n",
       "      <td>0.00</td>\n",
       "      <td>0.0</td>\n",
       "      <td>0.00</td>\n",
       "      <td>8.0</td>\n",
       "    </tr>\n",
       "    <tr>\n",
       "      <th>PAY_5</th>\n",
       "      <td>27000.0</td>\n",
       "      <td>0.221185</td>\n",
       "      <td>0.719352</td>\n",
       "      <td>0.0</td>\n",
       "      <td>0.00</td>\n",
       "      <td>0.0</td>\n",
       "      <td>0.00</td>\n",
       "      <td>8.0</td>\n",
       "    </tr>\n",
       "    <tr>\n",
       "      <th>PAY_6</th>\n",
       "      <td>27000.0</td>\n",
       "      <td>0.226630</td>\n",
       "      <td>0.716854</td>\n",
       "      <td>0.0</td>\n",
       "      <td>0.00</td>\n",
       "      <td>0.0</td>\n",
       "      <td>0.00</td>\n",
       "      <td>8.0</td>\n",
       "    </tr>\n",
       "    <tr>\n",
       "      <th>BILL_AMT1</th>\n",
       "      <td>27000.0</td>\n",
       "      <td>51186.279630</td>\n",
       "      <td>73680.545356</td>\n",
       "      <td>-165580.0</td>\n",
       "      <td>3502.25</td>\n",
       "      <td>22324.0</td>\n",
       "      <td>67012.75</td>\n",
       "      <td>964511.0</td>\n",
       "    </tr>\n",
       "    <tr>\n",
       "      <th>BILL_AMT2</th>\n",
       "      <td>27000.0</td>\n",
       "      <td>49198.078593</td>\n",
       "      <td>71249.216792</td>\n",
       "      <td>-69777.0</td>\n",
       "      <td>2987.75</td>\n",
       "      <td>21197.0</td>\n",
       "      <td>63848.75</td>\n",
       "      <td>983931.0</td>\n",
       "    </tr>\n",
       "    <tr>\n",
       "      <th>BILL_AMT3</th>\n",
       "      <td>27000.0</td>\n",
       "      <td>46971.554185</td>\n",
       "      <td>69364.421223</td>\n",
       "      <td>-157264.0</td>\n",
       "      <td>2624.50</td>\n",
       "      <td>20026.0</td>\n",
       "      <td>60016.00</td>\n",
       "      <td>1664089.0</td>\n",
       "    </tr>\n",
       "    <tr>\n",
       "      <th>BILL_AMT4</th>\n",
       "      <td>27000.0</td>\n",
       "      <td>43193.655963</td>\n",
       "      <td>64180.613020</td>\n",
       "      <td>-170000.0</td>\n",
       "      <td>2318.75</td>\n",
       "      <td>19035.0</td>\n",
       "      <td>54337.00</td>\n",
       "      <td>891586.0</td>\n",
       "    </tr>\n",
       "    <tr>\n",
       "      <th>BILL_AMT5</th>\n",
       "      <td>27000.0</td>\n",
       "      <td>40225.173185</td>\n",
       "      <td>60657.701610</td>\n",
       "      <td>-81334.0</td>\n",
       "      <td>1764.75</td>\n",
       "      <td>18089.0</td>\n",
       "      <td>50149.75</td>\n",
       "      <td>927171.0</td>\n",
       "    </tr>\n",
       "    <tr>\n",
       "      <th>BILL_AMT6</th>\n",
       "      <td>27000.0</td>\n",
       "      <td>38790.774111</td>\n",
       "      <td>59389.981048</td>\n",
       "      <td>-339603.0</td>\n",
       "      <td>1243.00</td>\n",
       "      <td>17034.0</td>\n",
       "      <td>49177.25</td>\n",
       "      <td>961664.0</td>\n",
       "    </tr>\n",
       "    <tr>\n",
       "      <th>PAY_AMT1</th>\n",
       "      <td>27000.0</td>\n",
       "      <td>5706.406556</td>\n",
       "      <td>16780.464571</td>\n",
       "      <td>0.0</td>\n",
       "      <td>1000.00</td>\n",
       "      <td>2103.0</td>\n",
       "      <td>5011.00</td>\n",
       "      <td>873552.0</td>\n",
       "    </tr>\n",
       "    <tr>\n",
       "      <th>PAY_AMT2</th>\n",
       "      <td>27000.0</td>\n",
       "      <td>5889.218963</td>\n",
       "      <td>23448.793913</td>\n",
       "      <td>0.0</td>\n",
       "      <td>827.75</td>\n",
       "      <td>2006.0</td>\n",
       "      <td>5000.00</td>\n",
       "      <td>1684259.0</td>\n",
       "    </tr>\n",
       "    <tr>\n",
       "      <th>PAY_AMT3</th>\n",
       "      <td>27000.0</td>\n",
       "      <td>5180.174370</td>\n",
       "      <td>17315.305117</td>\n",
       "      <td>0.0</td>\n",
       "      <td>390.00</td>\n",
       "      <td>1800.0</td>\n",
       "      <td>4500.00</td>\n",
       "      <td>896040.0</td>\n",
       "    </tr>\n",
       "    <tr>\n",
       "      <th>PAY_AMT4</th>\n",
       "      <td>27000.0</td>\n",
       "      <td>4824.135815</td>\n",
       "      <td>15925.025613</td>\n",
       "      <td>0.0</td>\n",
       "      <td>300.00</td>\n",
       "      <td>1500.0</td>\n",
       "      <td>4001.00</td>\n",
       "      <td>621000.0</td>\n",
       "    </tr>\n",
       "    <tr>\n",
       "      <th>PAY_AMT5</th>\n",
       "      <td>27000.0</td>\n",
       "      <td>4761.128852</td>\n",
       "      <td>15052.466827</td>\n",
       "      <td>0.0</td>\n",
       "      <td>250.75</td>\n",
       "      <td>1500.0</td>\n",
       "      <td>4010.50</td>\n",
       "      <td>417990.0</td>\n",
       "    </tr>\n",
       "    <tr>\n",
       "      <th>PAY_AMT6</th>\n",
       "      <td>27000.0</td>\n",
       "      <td>5184.938481</td>\n",
       "      <td>17792.894184</td>\n",
       "      <td>0.0</td>\n",
       "      <td>111.75</td>\n",
       "      <td>1500.0</td>\n",
       "      <td>4000.00</td>\n",
       "      <td>528666.0</td>\n",
       "    </tr>\n",
       "    <tr>\n",
       "      <th>default</th>\n",
       "      <td>27000.0</td>\n",
       "      <td>0.221111</td>\n",
       "      <td>0.415003</td>\n",
       "      <td>0.0</td>\n",
       "      <td>0.00</td>\n",
       "      <td>0.0</td>\n",
       "      <td>0.00</td>\n",
       "      <td>1.0</td>\n",
       "    </tr>\n",
       "  </tbody>\n",
       "</table>\n",
       "</div>"
      ],
      "text/plain": [
       "             count           mean            std       min       25%  \\\n",
       "LIMIT_BAL  27000.0  167338.506667  129641.892269   10000.0  50000.00   \n",
       "SEX        27000.0       1.603630       0.489152       1.0      1.00   \n",
       "EDUCATION  27000.0       1.842593       0.744699       1.0      1.00   \n",
       "MARRIAGE   27000.0       1.559667       0.521470       1.0      1.00   \n",
       "AGE        27000.0      35.461000       9.210022      21.0     28.00   \n",
       "PAY_0      27000.0       0.354481       0.754562       0.0      0.00   \n",
       "PAY_2      27000.0       0.317741       0.796747       0.0      0.00   \n",
       "PAY_3      27000.0       0.303222       0.789541       0.0      0.00   \n",
       "PAY_4      27000.0       0.259519       0.762431       0.0      0.00   \n",
       "PAY_5      27000.0       0.221185       0.719352       0.0      0.00   \n",
       "PAY_6      27000.0       0.226630       0.716854       0.0      0.00   \n",
       "BILL_AMT1  27000.0   51186.279630   73680.545356 -165580.0   3502.25   \n",
       "BILL_AMT2  27000.0   49198.078593   71249.216792  -69777.0   2987.75   \n",
       "BILL_AMT3  27000.0   46971.554185   69364.421223 -157264.0   2624.50   \n",
       "BILL_AMT4  27000.0   43193.655963   64180.613020 -170000.0   2318.75   \n",
       "BILL_AMT5  27000.0   40225.173185   60657.701610  -81334.0   1764.75   \n",
       "BILL_AMT6  27000.0   38790.774111   59389.981048 -339603.0   1243.00   \n",
       "PAY_AMT1   27000.0    5706.406556   16780.464571       0.0   1000.00   \n",
       "PAY_AMT2   27000.0    5889.218963   23448.793913       0.0    827.75   \n",
       "PAY_AMT3   27000.0    5180.174370   17315.305117       0.0    390.00   \n",
       "PAY_AMT4   27000.0    4824.135815   15925.025613       0.0    300.00   \n",
       "PAY_AMT5   27000.0    4761.128852   15052.466827       0.0    250.75   \n",
       "PAY_AMT6   27000.0    5184.938481   17792.894184       0.0    111.75   \n",
       "default    27000.0       0.221111       0.415003       0.0      0.00   \n",
       "\n",
       "                50%        75%        max  \n",
       "LIMIT_BAL  140000.0  240000.00  1000000.0  \n",
       "SEX             2.0       2.00        2.0  \n",
       "EDUCATION       2.0       2.00        4.0  \n",
       "MARRIAGE        2.0       2.00        3.0  \n",
       "AGE            34.0      41.00       79.0  \n",
       "PAY_0           0.0       0.00        8.0  \n",
       "PAY_2           0.0       0.00        8.0  \n",
       "PAY_3           0.0       0.00        8.0  \n",
       "PAY_4           0.0       0.00        8.0  \n",
       "PAY_5           0.0       0.00        8.0  \n",
       "PAY_6           0.0       0.00        8.0  \n",
       "BILL_AMT1   22324.0   67012.75   964511.0  \n",
       "BILL_AMT2   21197.0   63848.75   983931.0  \n",
       "BILL_AMT3   20026.0   60016.00  1664089.0  \n",
       "BILL_AMT4   19035.0   54337.00   891586.0  \n",
       "BILL_AMT5   18089.0   50149.75   927171.0  \n",
       "BILL_AMT6   17034.0   49177.25   961664.0  \n",
       "PAY_AMT1     2103.0    5011.00   873552.0  \n",
       "PAY_AMT2     2006.0    5000.00  1684259.0  \n",
       "PAY_AMT3     1800.0    4500.00   896040.0  \n",
       "PAY_AMT4     1500.0    4001.00   621000.0  \n",
       "PAY_AMT5     1500.0    4010.50   417990.0  \n",
       "PAY_AMT6     1500.0    4000.00   528666.0  \n",
       "default         0.0       0.00        1.0  "
      ]
     },
     "execution_count": 22,
     "metadata": {},
     "output_type": "execute_result"
    }
   ],
   "source": [
    "###### base oculta para simular el modelo en productivo \n",
    "oculto=datos.sample(frac=0.1, random_state=15)###datos para simular el modelo en productivo\n",
    "index1=oculto.index ##número de las filas \n",
    "datos=datos.drop(labels=index1, axis=0)#eliminación de los datos ocultos \n",
    "datos.describe().transpose() ###resumen de los datos para el modelado\n",
    "\n"
   ]
  },
  {
   "cell_type": "markdown",
   "metadata": {},
   "source": [
    "Se puede observar que se trabajará con el 90% de los datos originales para el modelado y el 10% restante se utilizará para simular una prueba en producción."
   ]
  },
  {
   "cell_type": "markdown",
   "metadata": {},
   "source": [
    "### Prueba del modelo sin balancear"
   ]
  },
  {
   "cell_type": "code",
   "execution_count": 23,
   "metadata": {
    "collapsed": true
   },
   "outputs": [],
   "source": [
    "####Preparación de los datos para la normalización\n",
    "y = datos.loc[:,\"default\"]   # Vaiable de respuesta\n",
    "x=datos.drop(labels=\"default\", axis=1)# datos para la predicción\n",
    "x_nombres = x.columns    # Nombres caracteristicas para predicción"
   ]
  },
  {
   "cell_type": "code",
   "execution_count": 24,
   "metadata": {
    "collapsed": true
   },
   "outputs": [],
   "source": [
    "###Función para escalar los datos\n",
    "scaler = MinMaxScaler()##método utilizado\n",
    "x_scaled = scaler.fit_transform(x)\n",
    "x_scaled = pd.DataFrame(x_scaled, columns=x_nombres)"
   ]
  },
  {
   "cell_type": "code",
   "execution_count": 25,
   "metadata": {
    "collapsed": true
   },
   "outputs": [],
   "source": [
    "##SE PARTE LOS DATOS EN 75% DE ENTRENAMIENTO Y 25% PRUEBA con cross validation\n",
    "import warnings as ws\n",
    "ws.filterwarnings(\"ignore\")\n",
    "\n",
    "from sklearn.cross_validation import train_test_split\n",
    "x_train, x_test, y_train_true, y_test_true = train_test_split(\n",
    "    x_scaled, y,      # datos originales\n",
    "    test_size=0.25,   # float/int, tamaño de la muestra de prueba\n",
    "    random_state=55) "
   ]
  },
  {
   "cell_type": "markdown",
   "metadata": {},
   "source": [
    "La función aplicada a continuación muestra un resumen de todos los modelos probados con sus métricas de error fue realizada por el compañero Denis Alexander Zuluaga."
   ]
  },
  {
   "cell_type": "code",
   "execution_count": 27,
   "metadata": {},
   "outputs": [
    {
     "name": "stdout",
     "output_type": "stream",
     "text": [
      "Automatically created module for IPython interactive environment\n"
     ]
    },
    {
     "data": {
      "text/html": [
       "<div>\n",
       "<style>\n",
       "    .dataframe thead tr:only-child th {\n",
       "        text-align: right;\n",
       "    }\n",
       "\n",
       "    .dataframe thead th {\n",
       "        text-align: left;\n",
       "    }\n",
       "\n",
       "    .dataframe tbody tr th {\n",
       "        vertical-align: top;\n",
       "    }\n",
       "</style>\n",
       "<table border=\"1\" class=\"dataframe\">\n",
       "  <thead>\n",
       "    <tr style=\"text-align: right;\">\n",
       "      <th></th>\n",
       "      <th>Accuracy</th>\n",
       "      <th>ErrorRate</th>\n",
       "      <th>JaccardSim</th>\n",
       "      <th>Recall</th>\n",
       "      <th>Precision</th>\n",
       "    </tr>\n",
       "  </thead>\n",
       "  <tbody>\n",
       "    <tr>\n",
       "      <th>KNeighbors</th>\n",
       "      <td>0.792741</td>\n",
       "      <td>0.207259</td>\n",
       "      <td>0.792741</td>\n",
       "      <td>0.339456</td>\n",
       "      <td>0.538296</td>\n",
       "    </tr>\n",
       "    <tr>\n",
       "      <th>GradientBoosting</th>\n",
       "      <td>0.823852</td>\n",
       "      <td>0.176148</td>\n",
       "      <td>0.823852</td>\n",
       "      <td>0.368027</td>\n",
       "      <td>0.675406</td>\n",
       "    </tr>\n",
       "    <tr>\n",
       "      <th>RandomForest</th>\n",
       "      <td>0.809333</td>\n",
       "      <td>0.190667</td>\n",
       "      <td>0.809333</td>\n",
       "      <td>0.327211</td>\n",
       "      <td>0.617458</td>\n",
       "    </tr>\n",
       "    <tr>\n",
       "      <th>DecisionTree</th>\n",
       "      <td>0.723111</td>\n",
       "      <td>0.276889</td>\n",
       "      <td>0.723111</td>\n",
       "      <td>0.398639</td>\n",
       "      <td>0.373011</td>\n",
       "    </tr>\n",
       "    <tr>\n",
       "      <th>LR</th>\n",
       "      <td>0.819407</td>\n",
       "      <td>0.180593</td>\n",
       "      <td>0.819407</td>\n",
       "      <td>0.320408</td>\n",
       "      <td>0.681621</td>\n",
       "    </tr>\n",
       "  </tbody>\n",
       "</table>\n",
       "</div>"
      ],
      "text/plain": [
       "                  Accuracy ErrorRate JaccardSim    Recall Precision\n",
       "KNeighbors        0.792741  0.207259   0.792741  0.339456  0.538296\n",
       "GradientBoosting  0.823852  0.176148   0.823852  0.368027  0.675406\n",
       "RandomForest      0.809333  0.190667   0.809333  0.327211  0.617458\n",
       "DecisionTree      0.723111  0.276889   0.723111  0.398639  0.373011\n",
       "LR                0.819407  0.180593   0.819407  0.320408  0.681621"
      ]
     },
     "execution_count": 27,
     "metadata": {},
     "output_type": "execute_result"
    }
   ],
   "source": [
    "## Función para varios modelos\n",
    "\n",
    "from sklearn.linear_model import LogisticRegression\n",
    "from sklearn.ensemble import GradientBoostingClassifier\n",
    "\n",
    "##\n",
    "print(__doc__)\n",
    "class_names = np.array(list(set(y_test_true.values)))\n",
    "model_names = [\"KNeighbors\", \"GradientBoosting\", \"RandomForest\", \"DecisionTree\", \"LR\"]\n",
    "model_instances = [KNeighborsClassifier(),\n",
    "                   GradientBoostingClassifier(),\n",
    "                   RandomForestClassifier(),\n",
    "                   DecisionTreeClassifier(),\n",
    "                   LogisticRegression()]\n",
    "model_list = zip(model_names, model_instances)\n",
    "model_report = pd.DataFrame(data = [], index = model_names, columns = [\"Accuracy\", \"ErrorRate\", \"JaccardSim\",\"Recall\",\"Precision\"])\n",
    "for (name, clf) in model_list:\n",
    "    clf.fit(x_train, y_train_true)   # Entreno el modelo correspondiente\n",
    "    y_test_pred = clf.predict(x_test)  # Predicción para el conjunto de prueba\n",
    "    #cnf_matrix = confusion_matrix(y_true = y_test_true, y_pred = y_test_pred)   # Métricas de desempeño\n",
    "    class_report = classification_report(y_true=y_test_true, y_pred=y_test_pred)   # Reporte de precisión del clasificador\n",
    "    \n",
    "    # Computa la tasa de éxito\n",
    "    model_report.loc[name,\"Accuracy\"] = accuracy_score(y_true = y_test_true, y_pred = y_test_pred)\n",
    "    # Tasa de error\n",
    "    model_report.loc[name,\"ErrorRate\"] = 1 - accuracy_score(y_true = y_test_true, y_pred = y_test_pred)\n",
    "     # Similitud Jaccard\n",
    "    model_report.loc[name,\"JaccardSim\"] = jaccard_similarity_score(y_true=y_test_true, y_pred=y_test_pred)\n",
    "    #Recall\n",
    "    model_report.loc[name,\"Recall\"] = recall_score(y_true=y_test_true, y_pred=y_test_pred)\n",
    "    #Precisión\n",
    "    model_report.loc[name,\"Precision\"] = precision_score(y_true=y_test_true, y_pred=y_test_pred)\n",
    "  \n",
    "\n",
    "model_report\n"
   ]
  },
  {
   "cell_type": "markdown",
   "metadata": {},
   "source": [
    "El recall del modelo es decir la precisión sobre la misma clase es muy baja esta es la métrica que nos interesa, por eso se decide balancear los datos para obtener un mejor recall, cabe aclarar que los valores de precisión y recall son los de la clase con más error de pronóstico."
   ]
  },
  {
   "cell_type": "markdown",
   "metadata": {},
   "source": [
    "### Banlanceo de los datos"
   ]
  },
  {
   "cell_type": "markdown",
   "metadata": {},
   "source": [
    "En la exploración del conjunto de datos se identifica que es necesario balancear los datos para alcanzar una mejor precisión en el modelo, a continuación se realiza el balanceo de los datos en el conjunto de entrenamiento.Para esto se aplicará la normalización de los datos."
   ]
  },
  {
   "cell_type": "markdown",
   "metadata": {},
   "source": [
    "### Normalización de los datos- Escalamiento"
   ]
  },
  {
   "cell_type": "markdown",
   "metadata": {},
   "source": [
    "Como las variables cualitativas se encuentran en factor se decide escalar tanto las variables cualitativas como cuantitativas para tener una mejor precisión en el modelo. Esto se hace con el fin de que al tener las variables cualitativas convertidos en factor no tomen mayor peso al escalar las cuantitativas, es decir,  se aplica el escalamiento para que tanto variables cualitativas como cuantitativas queden en la misma escala.\n",
    "\n",
    "Se utiliza el método de MinMaxScaler\n",
    "\n",
    "X_std = (X - X.min(axis=0)) / (X.max(axis=0) - X.min(axis=0))\n",
    "\n",
    "X_scaled = X_std * (max - min) + min"
   ]
  },
  {
   "cell_type": "code",
   "execution_count": 28,
   "metadata": {
    "collapsed": true
   },
   "outputs": [],
   "source": [
    "###Preparación de los datos para la normalización\n",
    "y = datos.loc[:,\"default\"]   # Vaiable de respuesta\n",
    "x=datos.drop(labels=\"default\", axis=1)# datos para la predicción\n",
    "x_nombres = x.columns "
   ]
  },
  {
   "cell_type": "code",
   "execution_count": 29,
   "metadata": {
    "collapsed": true
   },
   "outputs": [],
   "source": [
    "###Aplicación del método de escalamiento\n",
    "scaler = MinMaxScaler()##método utilizado\n",
    "x_scaled = scaler.fit_transform(x)\n",
    "x_scaled = pd.DataFrame(x_scaled, columns=x_nombres)"
   ]
  },
  {
   "cell_type": "markdown",
   "metadata": {},
   "source": [
    "### Partición de los datos"
   ]
  },
  {
   "cell_type": "code",
   "execution_count": 30,
   "metadata": {
    "collapsed": true
   },
   "outputs": [],
   "source": [
    "##SE PARTE LOS DATOS EN 75% DE ENTRENAMIENTO Y 25% PRUEBA con cross validation\n",
    "from sklearn.cross_validation import train_test_split\n",
    "x_train, x_test, y_train_true, y_test_true = train_test_split(\n",
    "    x_scaled, y,      # datos originales\n",
    "    test_size=0.25,   # float/int, tamaño de la muestra de prueba\n",
    "    random_state=55) "
   ]
  },
  {
   "cell_type": "code",
   "execution_count": 31,
   "metadata": {
    "collapsed": true
   },
   "outputs": [],
   "source": [
    "###Entradas y salidas de la función que balanceará los datos con los datos de entrenamiento del modelo\n",
    "entradas = x_train[x_train.columns[:23]].as_matrix()\n",
    "salidas = y_train_true.as_matrix()\n"
   ]
  },
  {
   "cell_type": "markdown",
   "metadata": {},
   "source": [
    "La librería Skelearn provee diferentes técnicas para el balanceo de los datos entre éstas se encuentran:\n",
    "- Smote: es una combinación entre un balanceo hacia abajo y hacia arriba\n",
    "- Adasyn: es una combinación entre un balanceo hacia abajo y hacia arriba\n",
    "- RamdonOverSampler: es un balanceo hacia arriba\n",
    "- RamdonUnderSampler: es un balanceo hacia arriba\n",
    "- Smoteenn: combina balanceo hacia arriba y hacia abajo con vecinos más cercanos."
   ]
  },
  {
   "cell_type": "markdown",
   "metadata": {},
   "source": [
    "Para el caso de análisis se seleccionó el Smoteen porque presenta una combinación de métodos que beneficia la precisión y el recall del modelo."
   ]
  },
  {
   "cell_type": "code",
   "execution_count": 32,
   "metadata": {
    "collapsed": true
   },
   "outputs": [],
   "source": [
    "###Método para balancear los datos\n",
    "##importación de librerías\n",
    "from imblearn.over_sampling import SMOTE, ADASYN\n",
    "from imblearn.over_sampling import RandomOverSampler\n",
    "from imblearn.under_sampling import RandomUnderSampler\n",
    "from imblearn.combine import SMOTEENN\n",
    "from imblearn.combine import SMOTETomek\n",
    "\n",
    "#ros=RandomUnderSampler(random_state=0, replacement=True)\n",
    "#ros =SMOTE(ratio='minority', kind='borderline1', random_state=55) \n",
    "#ros=CondensedNearestNeighbour(random_state=0)\n",
    "#ros=NearMiss(random_state=0, version=1)\n",
    "\n",
    "###Definición del método y aplicación\n",
    "ros = SMOTEENN(random_state=0)##Método utilizado\n",
    "x_resample, y_resample = ros.fit_sample(entradas, salidas)##Aplicación del método\n",
    "entradas = x_resample##datos balanceados\n",
    "salidas = y_resample##variable de salida balanceada\n",
    "\n"
   ]
  },
  {
   "cell_type": "markdown",
   "metadata": {},
   "source": [
    "Los datos se encuentra balanceados."
   ]
  },
  {
   "cell_type": "markdown",
   "metadata": {},
   "source": [
    "### Se organiza el set de entrenamiento balanceado para introducirlo a los modelos"
   ]
  },
  {
   "cell_type": "code",
   "execution_count": 33,
   "metadata": {
    "collapsed": true
   },
   "outputs": [],
   "source": [
    "###Preparación de los datos para aplicación de los modelos \n",
    "y_train_true =salidas   # Vaiable de respuesta\n",
    "x1=datos.drop(labels=\"default\", axis=1)# datos para la predicción\n",
    "x_nombres = x1.columns  \n",
    "x_train=pd.DataFrame.from_records(entradas)\n"
   ]
  },
  {
   "cell_type": "markdown",
   "metadata": {},
   "source": [
    "## Metodologías utilizadas para modelar"
   ]
  },
  {
   "cell_type": "markdown",
   "metadata": {},
   "source": [
    "A continuación se listan las metodologías usadas\n",
    "\n",
    "- Vecinos más cercanos KNN\n",
    "- Regresión logística\n",
    "- Árbol de clasificación\n",
    "- RandomForest\n",
    "- Gradient Tree Boosting\n"
   ]
  },
  {
   "cell_type": "markdown",
   "metadata": {},
   "source": [
    "A continuación se toman las variables de respuesta del balanceo y se organizan para aplicar las metodologías elegidas, cabe aclarar que el balanceo sólo se le realizó al set de entrenamiento"
   ]
  },
  {
   "cell_type": "markdown",
   "metadata": {},
   "source": [
    "## Aplicación de los métodos sin cross validation"
   ]
  },
  {
   "cell_type": "markdown",
   "metadata": {},
   "source": [
    "Se aplica la siguiente función para sacar las precisiones de todos los modelos"
   ]
  },
  {
   "cell_type": "code",
   "execution_count": 34,
   "metadata": {},
   "outputs": [
    {
     "name": "stdout",
     "output_type": "stream",
     "text": [
      "Automatically created module for IPython interactive environment\n"
     ]
    },
    {
     "data": {
      "text/html": [
       "<div>\n",
       "<style>\n",
       "    .dataframe thead tr:only-child th {\n",
       "        text-align: right;\n",
       "    }\n",
       "\n",
       "    .dataframe thead th {\n",
       "        text-align: left;\n",
       "    }\n",
       "\n",
       "    .dataframe tbody tr th {\n",
       "        vertical-align: top;\n",
       "    }\n",
       "</style>\n",
       "<table border=\"1\" class=\"dataframe\">\n",
       "  <thead>\n",
       "    <tr style=\"text-align: right;\">\n",
       "      <th></th>\n",
       "      <th>Accuracy</th>\n",
       "      <th>ErrorRate</th>\n",
       "      <th>JaccardSim</th>\n",
       "      <th>Recall</th>\n",
       "      <th>Precision</th>\n",
       "    </tr>\n",
       "  </thead>\n",
       "  <tbody>\n",
       "    <tr>\n",
       "      <th>KNeighbors</th>\n",
       "      <td>0.613778</td>\n",
       "      <td>0.386222</td>\n",
       "      <td>0.613778</td>\n",
       "      <td>0.682993</td>\n",
       "      <td>0.319237</td>\n",
       "    </tr>\n",
       "    <tr>\n",
       "      <th>GradientBoosting</th>\n",
       "      <td>0.730519</td>\n",
       "      <td>0.269481</td>\n",
       "      <td>0.730519</td>\n",
       "      <td>0.629252</td>\n",
       "      <td>0.420646</td>\n",
       "    </tr>\n",
       "    <tr>\n",
       "      <th>RandomForest</th>\n",
       "      <td>0.741778</td>\n",
       "      <td>0.258222</td>\n",
       "      <td>0.741778</td>\n",
       "      <td>0.582993</td>\n",
       "      <td>0.431303</td>\n",
       "    </tr>\n",
       "    <tr>\n",
       "      <th>DecisionTree</th>\n",
       "      <td>0.685926</td>\n",
       "      <td>0.314074</td>\n",
       "      <td>0.685926</td>\n",
       "      <td>0.593878</td>\n",
       "      <td>0.364357</td>\n",
       "    </tr>\n",
       "    <tr>\n",
       "      <th>LR</th>\n",
       "      <td>0.739111</td>\n",
       "      <td>0.260889</td>\n",
       "      <td>0.739111</td>\n",
       "      <td>0.636735</td>\n",
       "      <td>0.432732</td>\n",
       "    </tr>\n",
       "  </tbody>\n",
       "</table>\n",
       "</div>"
      ],
      "text/plain": [
       "                  Accuracy ErrorRate JaccardSim    Recall Precision\n",
       "KNeighbors        0.613778  0.386222   0.613778  0.682993  0.319237\n",
       "GradientBoosting  0.730519  0.269481   0.730519  0.629252  0.420646\n",
       "RandomForest      0.741778  0.258222   0.741778  0.582993  0.431303\n",
       "DecisionTree      0.685926  0.314074   0.685926  0.593878  0.364357\n",
       "LR                0.739111  0.260889   0.739111  0.636735  0.432732"
      ]
     },
     "execution_count": 34,
     "metadata": {},
     "output_type": "execute_result"
    }
   ],
   "source": [
    "from sklearn.linear_model import LogisticRegression\n",
    "\n",
    "\n",
    "## Entrena todos los modelos de una lista\n",
    "\n",
    "##\n",
    "print(__doc__)\n",
    "class_names = np.array(list(set(y_test_true.values)))\n",
    "model_names = [\"KNeighbors\", \"GradientBoosting\", \"RandomForest\",\"DecisionTree\", \"LR\"]\n",
    "model_instances = [KNeighborsClassifier(),\n",
    "                   GradientBoostingClassifier(),\n",
    "                   RandomForestClassifier(),\n",
    "                   DecisionTreeClassifier(),\n",
    "                   LogisticRegression()]\n",
    "\n",
    "model_list = zip(model_names, model_instances)\n",
    "model_report = pd.DataFrame(data = [], index = model_names, columns = [\"Accuracy\", \"ErrorRate\", \"JaccardSim\",\"Recall\",\"Precision\"])\n",
    "for (name, clf) in model_list:\n",
    "    clf.fit(x_train, y_train_true)   # Entreno el modelo correspondiente\n",
    "    y_test_pred = clf.predict(x_test)  # Predicción para el conjunto de prueba\n",
    "    #cnf_matrix = confusion_matrix(y_true = y_test_true, y_pred = y_test_pred)   # Métricas de desempeño\n",
    "    class_report = classification_report(y_true=y_test_true, y_pred=y_test_pred)   # Reporte de precisión del clasificador\n",
    "    \n",
    "    # Computa la tasa de éxito\n",
    "    model_report.loc[name,\"Accuracy\"] = accuracy_score(y_true = y_test_true, y_pred = y_test_pred)\n",
    "    # Tasa de error\n",
    "    model_report.loc[name,\"ErrorRate\"] = 1 - accuracy_score(y_true = y_test_true, y_pred = y_test_pred)\n",
    "     # Similitud Jaccard\n",
    "    model_report.loc[name,\"JaccardSim\"] = jaccard_similarity_score(y_true=y_test_true, y_pred=y_test_pred)\n",
    "    #Recall\n",
    "    model_report.loc[name,\"Recall\"] = recall_score(y_true=y_test_true, y_pred=y_test_pred)\n",
    "    #Precisión\n",
    "    model_report.loc[name,\"Precision\"] = precision_score(y_true=y_test_true, y_pred=y_test_pred)\n",
    "  \n",
    "\n",
    "model_report\n"
   ]
  },
  {
   "cell_type": "markdown",
   "metadata": {},
   "source": [
    "Si bien los indicadores de error con los datos balanceados tienen una dismunición respecto a los datos originales, lo que se pretendía hacer con el balanceo de los dato se logró, era poder tener un mayor recall. Es decir que se tuviera una mejor predicción para la clase 1, incumplimiento del pago en el próximo mes. En este caso el recall hace referencia a la clase con más bajo scoreal igual que la predicción."
   ]
  },
  {
   "cell_type": "markdown",
   "metadata": {},
   "source": [
    "## Ajuste de hiperparámetros del modelo y cross-validation"
   ]
  },
  {
   "cell_type": "markdown",
   "metadata": {},
   "source": [
    "Función para aplicar los hiperparametros y el cross validation para todos modelos se realizarán 3 corridas con el fin de obtener los hiperparametros que dan el mejor modelo, la función es realizada por Denis Alexander Zuluaga. \n",
    "\n",
    "La output de la función es los score del modelo y los mejores hiperparámetros."
   ]
  },
  {
   "cell_type": "code",
   "execution_count": 35,
   "metadata": {
    "collapsed": true
   },
   "outputs": [],
   "source": [
    "import warnings as ws\n",
    "ws.filterwarnings(\"ignore\")\n",
    "\n",
    "from sklearn.model_selection import train_test_split\n",
    "from sklearn.model_selection import GridSearchCV\n",
    "from sklearn.metrics import classification_report\n",
    "from sklearn.ensemble import GradientBoostingClassifier\n",
    "\n",
    "\n",
    "##Función para ajustar hiperparametros y crossvalidation a todos los modelos\n",
    "\n",
    "def grid_search(classifier,\n",
    "                tuned_params,\n",
    "                scores):\n",
    "    \n",
    "    for score in scores:\n",
    "        print()\n",
    "        print(\"Parámetros ajustados: %s\" % score)\n",
    "        print()\n",
    "\n",
    "        # Entrenamiento utilizando cross-validation (folds = 3)\n",
    "        clf = GridSearchCV(classifier, tuned_params, cv=3, scoring='%s_macro' % score, n_jobs=3)\n",
    "        clf.fit(x_train, y_train_true)\n",
    "        print(\"Mejores parámetros encontrados:\")\n",
    "        print(clf.best_params_)\n",
    "        print()\n",
    "        # Predicción con datos de prueba\n",
    "        y_true, y_pred = y_test_true, clf.predict(x_test)\n",
    "        print(\"Detalle del proceso:\")\n",
    "        print()\n",
    "        print(classification_report(y_true, y_pred))\n",
    "        print()\n",
    "    \n",
    "    "
   ]
  },
  {
   "cell_type": "markdown",
   "metadata": {},
   "source": [
    "### Método KNN"
   ]
  },
  {
   "cell_type": "markdown",
   "metadata": {},
   "source": [
    "Los hiperparametros seleccionados para variar el modelo serán el algoritmo, la metrica y el número de vecinos, solo se harán 3 folds por la capacidad de computo requerida."
   ]
  },
  {
   "cell_type": "code",
   "execution_count": 36,
   "metadata": {},
   "outputs": [
    {
     "name": "stdout",
     "output_type": "stream",
     "text": [
      "\n",
      "Parámetros ajustados: precision\n",
      "\n",
      "Mejores parámetros encontrados:\n",
      "{'algorithm': 'kd_tree', 'n_neighbors': 10}\n",
      "\n",
      "Detalle del proceso:\n",
      "\n",
      "             precision    recall  f1-score   support\n",
      "\n",
      "          0       0.87      0.62      0.73      5280\n",
      "          1       0.33      0.67      0.44      1470\n",
      "\n",
      "avg / total       0.75      0.63      0.66      6750\n",
      "\n",
      "\n",
      "\n",
      "Parámetros ajustados: recall\n",
      "\n",
      "Mejores parámetros encontrados:\n",
      "{'algorithm': 'kd_tree', 'n_neighbors': 10}\n",
      "\n",
      "Detalle del proceso:\n",
      "\n",
      "             precision    recall  f1-score   support\n",
      "\n",
      "          0       0.87      0.62      0.73      5280\n",
      "          1       0.33      0.67      0.44      1470\n",
      "\n",
      "avg / total       0.75      0.63      0.66      6750\n",
      "\n",
      "\n"
     ]
    }
   ],
   "source": [
    "# Definicón de los hiperparametros para las corridas\n",
    "tuned_params = [{'algorithm': ['ball_tree'], 'metric': ['manhattan'], 'n_neighbors': [10, 15, 20]},\n",
    "                    {'algorithm': ['kd_tree'],'n_neighbors': [10, 15, 20, 25]}]\n",
    "## Metricas de evaluar predicción\n",
    "scores = ['precision', 'recall']\n",
    "\n",
    "# Aplicamos el modelo\n",
    "grid_search(KNeighborsClassifier(), tuned_params, scores)\n"
   ]
  },
  {
   "cell_type": "markdown",
   "metadata": {},
   "source": [
    "Utilizando cross validation y ajustando los hiperparametros del modelo, su precisión es del 76%, esto se debe a que para la variable de repuesta en la categoría 1 el modelo es mucho más impreciso que para la categoría 0. El recall del modelo es del 65% esta medida hace referencia a la comparación del pronóstico solo con su categoría. Para el caso analizado, el balanceo de los datos aumentó tanto la precisión como el recall de los datos. En conclusión con crosvalidation utilizado el número de vecinos que se debe utilizar para el modelo son 10 con el algoritmo Kd_tree."
   ]
  },
  {
   "cell_type": "markdown",
   "metadata": {},
   "source": [
    "### Método de Regresión logísitica"
   ]
  },
  {
   "cell_type": "markdown",
   "metadata": {},
   "source": [
    "Los hiperparametros seleccionados para variar el modelo será el solver y el random_state."
   ]
  },
  {
   "cell_type": "code",
   "execution_count": 37,
   "metadata": {
    "scrolled": true
   },
   "outputs": [
    {
     "name": "stdout",
     "output_type": "stream",
     "text": [
      "\n",
      "Parámetros ajustados: precision\n",
      "\n",
      "Mejores parámetros encontrados:\n",
      "{'random_state': 0, 'solver': 'sag'}\n",
      "\n",
      "Detalle del proceso:\n",
      "\n",
      "             precision    recall  f1-score   support\n",
      "\n",
      "          0       0.88      0.77      0.82      5280\n",
      "          1       0.43      0.64      0.51      1470\n",
      "\n",
      "avg / total       0.79      0.74      0.75      6750\n",
      "\n",
      "\n",
      "\n",
      "Parámetros ajustados: recall\n",
      "\n",
      "Mejores parámetros encontrados:\n",
      "{'random_state': 0, 'solver': 'sag'}\n",
      "\n",
      "Detalle del proceso:\n",
      "\n",
      "             precision    recall  f1-score   support\n",
      "\n",
      "          0       0.88      0.77      0.82      5280\n",
      "          1       0.43      0.64      0.51      1470\n",
      "\n",
      "avg / total       0.79      0.74      0.75      6750\n",
      "\n",
      "\n"
     ]
    }
   ],
   "source": [
    "# Definicón de los hiperparametros para las corridas\n",
    "tuned_params = [{'solver': ['liblinear','newton-cg','saga','sag'],'random_state': [0,15,20,55]}]\n",
    "## Metricas de evaluar predicción\n",
    "scores = ['precision', 'recall']\n",
    "\n",
    "# Aplicamos el modelo\n",
    "grid_search(LogisticRegression(), tuned_params, scores)"
   ]
  },
  {
   "cell_type": "markdown",
   "metadata": {},
   "source": [
    "Utilizando cross validation y ajustando los hiperparametros del modelo, su precisión es del 79%, esto se debe a que para la variable de repuesta en la categoría 1 el modelo es mucho más impreciso que para la categoría 0. El recall del modelo es del 74% esta medida hace referencia a la comparación del pronóstico solo con su clase. Para el caso analizado, el balanceo de los datos aumentó tanto la precisión como el recall de los datos. En conclusión con crosvalidation se decide que el solver a utilizar es 'sag' y un random_state=0."
   ]
  },
  {
   "cell_type": "markdown",
   "metadata": {},
   "source": [
    "### Método de Árbol de decisión"
   ]
  },
  {
   "cell_type": "markdown",
   "metadata": {},
   "source": [
    "Los hiperparametros seleccionados para variar el modelo será el max_depth y el random_state."
   ]
  },
  {
   "cell_type": "code",
   "execution_count": 38,
   "metadata": {},
   "outputs": [
    {
     "name": "stdout",
     "output_type": "stream",
     "text": [
      "\n",
      "Parámetros ajustados: precision\n",
      "\n",
      "Mejores parámetros encontrados:\n",
      "{'max_depth': 10, 'random_state': 55}\n",
      "\n",
      "Detalle del proceso:\n",
      "\n",
      "             precision    recall  f1-score   support\n",
      "\n",
      "          0       0.88      0.71      0.79      5280\n",
      "          1       0.39      0.66      0.49      1470\n",
      "\n",
      "avg / total       0.77      0.70      0.72      6750\n",
      "\n",
      "\n",
      "\n",
      "Parámetros ajustados: recall\n",
      "\n",
      "Mejores parámetros encontrados:\n",
      "{'max_depth': 10, 'random_state': 0}\n",
      "\n",
      "Detalle del proceso:\n",
      "\n",
      "             precision    recall  f1-score   support\n",
      "\n",
      "          0       0.88      0.71      0.79      5280\n",
      "          1       0.39      0.66      0.49      1470\n",
      "\n",
      "avg / total       0.78      0.70      0.72      6750\n",
      "\n",
      "\n"
     ]
    }
   ],
   "source": [
    "# Definicón de los hiperparametros para las corridas\n",
    "tuned_params = [{'max_depth': [2, 5, 10],'random_state': [0,15,20,55]}]\n",
    "## Metricas de evaluar predicción\n",
    "scores = ['precision', 'recall']\n",
    "\n",
    "# Aplicamos el modelo\n",
    "grid_search(DecisionTreeClassifier(), tuned_params, scores)"
   ]
  },
  {
   "cell_type": "markdown",
   "metadata": {},
   "source": [
    "Utilizando cross validation y ajustando los hiperparametros del modelo, su precisión es del 78%, esto se debe a que para la variable de repuesta en la categoría 1 el modelo es mucho más impreciso que para la categoría 0. El recall del modelo es del 70% esta medida hace referencia a la comparación del pronóstico solo con su clase. Para el caso analizado, el balanceo de los datos aumentó tanto la precisión como el recall de los datos. En conclusión con crosvalidation se decide que los hiperparámetros a utilizar es max_depth= 10  y random_state=0, pues nos interesa aumentar el recall."
   ]
  },
  {
   "cell_type": "markdown",
   "metadata": {},
   "source": [
    "### Método de Random forest"
   ]
  },
  {
   "cell_type": "markdown",
   "metadata": {},
   "source": [
    "Los hiperparametros seleccionados para variar el modelo será el max_depth, n_estimators y el random_state."
   ]
  },
  {
   "cell_type": "code",
   "execution_count": 39,
   "metadata": {},
   "outputs": [
    {
     "name": "stdout",
     "output_type": "stream",
     "text": [
      "\n",
      "Parámetros ajustados: precision\n",
      "\n",
      "Mejores parámetros encontrados:\n",
      "{'max_depth': 10, 'n_estimators': 60, 'random_state': 15}\n",
      "\n",
      "Detalle del proceso:\n",
      "\n",
      "             precision    recall  f1-score   support\n",
      "\n",
      "          0       0.88      0.75      0.81      5280\n",
      "          1       0.42      0.64      0.51      1470\n",
      "\n",
      "avg / total       0.78      0.73      0.75      6750\n",
      "\n",
      "\n",
      "\n",
      "Parámetros ajustados: recall\n",
      "\n",
      "Mejores parámetros encontrados:\n",
      "{'max_depth': 10, 'n_estimators': 60, 'random_state': 15}\n",
      "\n",
      "Detalle del proceso:\n",
      "\n",
      "             precision    recall  f1-score   support\n",
      "\n",
      "          0       0.88      0.75      0.81      5280\n",
      "          1       0.42      0.64      0.51      1470\n",
      "\n",
      "avg / total       0.78      0.73      0.75      6750\n",
      "\n",
      "\n"
     ]
    }
   ],
   "source": [
    "# Definicón de los hiperparametros para las corridas\n",
    "tuned_params = [{'max_depth': [2, 5, 10],'n_estimators': [10,20, 40,60],'random_state': [0,15,20,55]}]\n",
    "## Metricas de evaluar predicción\n",
    "scores = ['precision', 'recall']\n",
    "\n",
    "# Aplicamos el modelo\n",
    "grid_search(RandomForestClassifier(), tuned_params, scores)"
   ]
  },
  {
   "cell_type": "markdown",
   "metadata": {},
   "source": [
    "\n",
    "Utilizando cross validation y ajustando los hiperparametros del modelo, su precisión es del 78%, esto se debe a que para la variable de repuesta en la categoría 1 el modelo es mucho más impreciso que para la categoría 0. El recall del modelo es del 73% esta medida hace referencia a la comparación del pronóstico solo con su clase. Para el caso analizado, el balanceo de los datos aumentó tanto la precisión como el recall de los datos. En conclusión con crosvalidation se decide que los hiperparámetros a utilizar es max_depth= 10, n_estimators = 60, random_state=15, pues nos interesa aumentar el recall."
   ]
  },
  {
   "cell_type": "markdown",
   "metadata": {},
   "source": [
    "### Método de GradientBoostingClassifier"
   ]
  },
  {
   "cell_type": "markdown",
   "metadata": {},
   "source": [
    "Los hiperparametros seleccionados para variar el modelo será el max_depth, n_estimators y el random_state."
   ]
  },
  {
   "cell_type": "code",
   "execution_count": 62,
   "metadata": {},
   "outputs": [
    {
     "name": "stdout",
     "output_type": "stream",
     "text": [
      "\n",
      "Parámetros ajustados: precision\n",
      "\n",
      "Mejores parámetros encontrados:\n",
      "{'max_depth': 10, 'n_estimators': 60, 'random_state': 55}\n",
      "\n",
      "Detalle del proceso:\n",
      "\n",
      "             precision    recall  f1-score   support\n",
      "\n",
      "          0       0.87      0.80      0.83      5280\n",
      "          1       0.45      0.58      0.50      1470\n",
      "\n",
      "avg / total       0.78      0.75      0.76      6750\n",
      "\n",
      "\n",
      "\n",
      "Parámetros ajustados: recall\n",
      "\n",
      "Mejores parámetros encontrados:\n",
      "{'max_depth': 10, 'n_estimators': 60, 'random_state': 55}\n",
      "\n",
      "Detalle del proceso:\n",
      "\n",
      "             precision    recall  f1-score   support\n",
      "\n",
      "          0       0.87      0.80      0.83      5280\n",
      "          1       0.45      0.58      0.50      1470\n",
      "\n",
      "avg / total       0.78      0.75      0.76      6750\n",
      "\n",
      "\n"
     ]
    }
   ],
   "source": [
    "# Definicón de los hiperparametros para las corridas\n",
    "tuned_params = [{'max_depth': [2, 5, 10],'n_estimators': [10,20, 40,60],'random_state': [0,15,20,55]}]\n",
    "## Metricas de evaluar predicción\n",
    "scores = ['precision', 'recall']\n",
    "\n",
    "# Aplicamos el modelo\n",
    "grid_search(GradientBoostingClassifier(), tuned_params, scores)"
   ]
  },
  {
   "cell_type": "markdown",
   "metadata": {},
   "source": [
    "Utilizando cross validation y ajustando los hiperparametros del modelo, su precisión es del 78%, esto se debe a que para la variable de repuesta en la categoría 1 el modelo es mucho más impreciso que para la categoría 0. El recall del modelo es del 75% esta medida hace referencia a la comparación del pronóstico solo con su clase. Para el caso analizado, el balanceo de los datos aumentó tanto la precisión como el recall de los datos. En conclusión con crosvalidation se decide que los hiperparámetros a utilizar es max_depth= 10, n_estimators = 60, random_state=55, pues nos interesa aumentar el recall."
   ]
  },
  {
   "cell_type": "markdown",
   "metadata": {},
   "source": [
    "## Comparación entre métodos utilizados"
   ]
  },
  {
   "cell_type": "markdown",
   "metadata": {},
   "source": [
    "A continuación con los parámetros encontrados en el los ajustes de los hiperparámetros y el crossvalidation se muestra la consolidación de los resultados, con la siguiente función."
   ]
  },
  {
   "cell_type": "code",
   "execution_count": 64,
   "metadata": {
    "scrolled": true
   },
   "outputs": [
    {
     "name": "stdout",
     "output_type": "stream",
     "text": [
      "Automatically created module for IPython interactive environment\n"
     ]
    },
    {
     "data": {
      "text/html": [
       "<div>\n",
       "<style>\n",
       "    .dataframe thead tr:only-child th {\n",
       "        text-align: right;\n",
       "    }\n",
       "\n",
       "    .dataframe thead th {\n",
       "        text-align: left;\n",
       "    }\n",
       "\n",
       "    .dataframe tbody tr th {\n",
       "        vertical-align: top;\n",
       "    }\n",
       "</style>\n",
       "<table border=\"1\" class=\"dataframe\">\n",
       "  <thead>\n",
       "    <tr style=\"text-align: right;\">\n",
       "      <th></th>\n",
       "      <th>Accuracy</th>\n",
       "      <th>ErrorRate</th>\n",
       "      <th>JaccardSim</th>\n",
       "      <th>Recall</th>\n",
       "      <th>Precision</th>\n",
       "    </tr>\n",
       "  </thead>\n",
       "  <tbody>\n",
       "    <tr>\n",
       "      <th>KNeighbors</th>\n",
       "      <td>0.632296</td>\n",
       "      <td>0.367704</td>\n",
       "      <td>0.632296</td>\n",
       "      <td>0.67415</td>\n",
       "      <td>0.330995</td>\n",
       "    </tr>\n",
       "    <tr>\n",
       "      <th>DecisionTree</th>\n",
       "      <td>0.699111</td>\n",
       "      <td>0.300889</td>\n",
       "      <td>0.699111</td>\n",
       "      <td>0.662585</td>\n",
       "      <td>0.388202</td>\n",
       "    </tr>\n",
       "    <tr>\n",
       "      <th>RandomForest</th>\n",
       "      <td>0.728593</td>\n",
       "      <td>0.271407</td>\n",
       "      <td>0.728593</td>\n",
       "      <td>0.642857</td>\n",
       "      <td>0.419627</td>\n",
       "    </tr>\n",
       "    <tr>\n",
       "      <th>GradientBoosting</th>\n",
       "      <td>0.752296</td>\n",
       "      <td>0.247704</td>\n",
       "      <td>0.752296</td>\n",
       "      <td>0.577551</td>\n",
       "      <td>0.446842</td>\n",
       "    </tr>\n",
       "    <tr>\n",
       "      <th>LR</th>\n",
       "      <td>0.738815</td>\n",
       "      <td>0.261185</td>\n",
       "      <td>0.738815</td>\n",
       "      <td>0.636735</td>\n",
       "      <td>0.432333</td>\n",
       "    </tr>\n",
       "  </tbody>\n",
       "</table>\n",
       "</div>"
      ],
      "text/plain": [
       "                  Accuracy ErrorRate JaccardSim    Recall Precision\n",
       "KNeighbors        0.632296  0.367704   0.632296   0.67415  0.330995\n",
       "DecisionTree      0.699111  0.300889   0.699111  0.662585  0.388202\n",
       "RandomForest      0.728593  0.271407   0.728593  0.642857  0.419627\n",
       "GradientBoosting  0.752296  0.247704   0.752296  0.577551  0.446842\n",
       "LR                0.738815  0.261185   0.738815  0.636735  0.432333"
      ]
     },
     "execution_count": 64,
     "metadata": {},
     "output_type": "execute_result"
    }
   ],
   "source": [
    "\n",
    "\n",
    "\n",
    "## Función para la condesanción de los modelos\n",
    "\n",
    "##\n",
    "print(__doc__)\n",
    "class_names = np.array(list(set(y_test_true.values)))\n",
    "model_names = [\"KNeighbors\", \"DecisionTree\", \"RandomForest\",\"GradientBoosting\", \"LR\"]\n",
    "model_instances = [KNeighborsClassifier(algorithm= 'kd_tree', n_neighbors=10),\n",
    "                   DecisionTreeClassifier(max_depth =10, random_state= 0),\n",
    "                   RandomForestClassifier(max_depth =10, n_estimators= 60, random_state=15),\n",
    "                   GradientBoostingClassifier(max_depth = 10, n_estimators = 60, random_state=55),\n",
    "                   LogisticRegression(random_state= 0, solver ='sag')]\n",
    "\n",
    "model_list = zip(model_names, model_instances)\n",
    "model_report = pd.DataFrame(data = [], index = model_names, columns = [\"Accuracy\", \"ErrorRate\", \"JaccardSim\",\"Recall\",\"Precision\"])\n",
    "for (name, clf) in model_list:\n",
    "    clf.fit(x_train, y_train_true)   # Entreno el modelo correspondiente\n",
    "    y_test_pred = clf.predict(x_test)  # Predicción para el conjunto de prueba\n",
    "    #cnf_matrix = confusion_matrix(y_true = y_test_true, y_pred = y_test_pred)   # Métricas de desempeño\n",
    "    class_report = classification_report(y_true=y_test_true, y_pred=y_test_pred)   # Reporte de precisión del clasificador\n",
    "    \n",
    "    # Computa la tasa de éxito\n",
    "    model_report.loc[name,\"Accuracy\"] = accuracy_score(y_true = y_test_true, y_pred = y_test_pred)\n",
    "    # Tasa de error\n",
    "    model_report.loc[name,\"ErrorRate\"] = 1 - accuracy_score(y_true = y_test_true, y_pred = y_test_pred)\n",
    "     # Similitud Jaccard\n",
    "    model_report.loc[name,\"JaccardSim\"] = jaccard_similarity_score(y_true=y_test_true, y_pred=y_test_pred)\n",
    "    #Recall\n",
    "    model_report.loc[name,\"Recall\"] = recall_score(y_true=y_test_true, y_pred=y_test_pred)\n",
    "    #Precisión\n",
    "    model_report.loc[name,\"Precision\"] = precision_score(y_true=y_test_true, y_pred=y_test_pred)\n",
    "  \n",
    "\n",
    "model_report"
   ]
  },
  {
   "cell_type": "markdown",
   "metadata": {},
   "source": [
    "Por parsimonia del modelo se elige la regresión logística (LR) como mejor modelo, es decir si bien no es el mejor en todo, si es el segundo mejor en todo por esto se hace la selección, por ejemplo el modelo Gradientboosting es el mejor modelo en la exactitud, el error, similaridad y la precisión, sin embargo, es el peor en el recall, por esta razón no se elige como mejor modelo, pues uno de los planteamietos del problema era que necesitabamos un buen recall. \n",
    "\n",
    "Cabe aclarar que los valores del recall y la precisión están dados para el pronóstico de clase más bajo, por ejemplo en el GradientBoosting la precisión global es del 78% pero en este caso muestra 45% por que es la de la clase 1 que es tiene mayor imprecisión, sucede lo mismo con el recall, el global es de 75% pero muestra 58% porque es el valor de la clase más baja."
   ]
  },
  {
   "cell_type": "markdown",
   "metadata": {},
   "source": [
    "## Comprobación de modelos con simulación en productivo"
   ]
  },
  {
   "cell_type": "markdown",
   "metadata": {},
   "source": [
    "A continuación con los datos ocultos,  es decir, con el 10% de los datos originales dejados para simular el modelo en productivo se probarán los métodos, esto nos ayudará a tomar la decisión del mejor, pues nos mostrará cuál de los modelos se equivoca más con una simulación de producción."
   ]
  },
  {
   "cell_type": "code",
   "execution_count": 73,
   "metadata": {
    "collapsed": true
   },
   "outputs": [],
   "source": [
    "## se dan nombre a las variables\n",
    "y_simulation= oculto.loc[:,\"default\"]   # Vaiable de respuesta\n",
    "x_simulation=oculto.drop(labels=\"default\", axis=1)# datos para la predicción\n",
    "x_simulation_nombres = x_simulation.columns ##nombre de las columnas"
   ]
  },
  {
   "cell_type": "code",
   "execution_count": 70,
   "metadata": {
    "collapsed": true
   },
   "outputs": [],
   "source": [
    "###se escalan los datos\n",
    "scaler = MinMaxScaler()##método utilizado\n",
    "x_simulation_scaled = scaler.fit_transform(x_simulation)\n",
    "x_simulation_scaled = pd.DataFrame(x_simulation_scaled, columns=x_simulation_nombres)"
   ]
  },
  {
   "cell_type": "markdown",
   "metadata": {},
   "source": [
    "A continuación se aplica la función para determinar cuál es el mejor modelo."
   ]
  },
  {
   "cell_type": "code",
   "execution_count": 74,
   "metadata": {},
   "outputs": [
    {
     "name": "stdout",
     "output_type": "stream",
     "text": [
      "Automatically created module for IPython interactive environment\n"
     ]
    },
    {
     "data": {
      "text/html": [
       "<div>\n",
       "<style>\n",
       "    .dataframe thead tr:only-child th {\n",
       "        text-align: right;\n",
       "    }\n",
       "\n",
       "    .dataframe thead th {\n",
       "        text-align: left;\n",
       "    }\n",
       "\n",
       "    .dataframe tbody tr th {\n",
       "        vertical-align: top;\n",
       "    }\n",
       "</style>\n",
       "<table border=\"1\" class=\"dataframe\">\n",
       "  <thead>\n",
       "    <tr style=\"text-align: right;\">\n",
       "      <th></th>\n",
       "      <th>Accuracy</th>\n",
       "      <th>ErrorRate</th>\n",
       "      <th>JaccardSim</th>\n",
       "      <th>Recall</th>\n",
       "      <th>Precision</th>\n",
       "    </tr>\n",
       "  </thead>\n",
       "  <tbody>\n",
       "    <tr>\n",
       "      <th>KNeighbors</th>\n",
       "      <td>0.616</td>\n",
       "      <td>0.384</td>\n",
       "      <td>0.616</td>\n",
       "      <td>0.674174</td>\n",
       "      <td>0.324422</td>\n",
       "    </tr>\n",
       "    <tr>\n",
       "      <th>DecisionTree</th>\n",
       "      <td>0.652667</td>\n",
       "      <td>0.347333</td>\n",
       "      <td>0.652667</td>\n",
       "      <td>0.584084</td>\n",
       "      <td>0.337088</td>\n",
       "    </tr>\n",
       "    <tr>\n",
       "      <th>RandomForest</th>\n",
       "      <td>0.797333</td>\n",
       "      <td>0.202667</td>\n",
       "      <td>0.797333</td>\n",
       "      <td>0.546547</td>\n",
       "      <td>0.543284</td>\n",
       "    </tr>\n",
       "    <tr>\n",
       "      <th>GradientBoosting</th>\n",
       "      <td>0.612</td>\n",
       "      <td>0.388</td>\n",
       "      <td>0.612</td>\n",
       "      <td>0.554054</td>\n",
       "      <td>0.298544</td>\n",
       "    </tr>\n",
       "    <tr>\n",
       "      <th>LR</th>\n",
       "      <td>0.736</td>\n",
       "      <td>0.264</td>\n",
       "      <td>0.736</td>\n",
       "      <td>0.675676</td>\n",
       "      <td>0.438596</td>\n",
       "    </tr>\n",
       "  </tbody>\n",
       "</table>\n",
       "</div>"
      ],
      "text/plain": [
       "                  Accuracy ErrorRate JaccardSim    Recall Precision\n",
       "KNeighbors           0.616     0.384      0.616  0.674174  0.324422\n",
       "DecisionTree      0.652667  0.347333   0.652667  0.584084  0.337088\n",
       "RandomForest      0.797333  0.202667   0.797333  0.546547  0.543284\n",
       "GradientBoosting     0.612     0.388      0.612  0.554054  0.298544\n",
       "LR                   0.736     0.264      0.736  0.675676  0.438596"
      ]
     },
     "execution_count": 74,
     "metadata": {},
     "output_type": "execute_result"
    }
   ],
   "source": [
    "\n",
    "## Función para la condesanción de los modelos\n",
    "\n",
    "##\n",
    "print(__doc__)\n",
    "class_names = np.array(list(set(y_test_true.values)))\n",
    "model_names = [\"KNeighbors\", \"DecisionTree\", \"RandomForest\",\"GradientBoosting\", \"LR\"]\n",
    "model_instances = [KNeighborsClassifier(algorithm= 'kd_tree', n_neighbors=10),\n",
    "                   DecisionTreeClassifier(max_depth =10, random_state= 0),\n",
    "                   RandomForestClassifier(max_depth =10, n_estimators= 60, random_state=15),\n",
    "                   GradientBoostingClassifier(max_depth = 10, n_estimators = 60, random_state=55),\n",
    "                   LogisticRegression(random_state= 0, solver ='sag')]\n",
    "\n",
    "model_list = zip(model_names, model_instances)\n",
    "model_report = pd.DataFrame(data = [], index = model_names, columns = [\"Accuracy\", \"ErrorRate\", \"JaccardSim\",\"Recall\",\"Precision\"])\n",
    "for (name, clf) in model_list:\n",
    "    clf.fit(x_train, y_train_true)   # Entreno el modelo correspondiente\n",
    "    y_test_pred = clf.predict(x_simulation_scaled)  # Predicción para el conjunto de prueba, se predicce con los datos de simulación\n",
    "    class_report = classification_report(y_true=y_simulation, y_pred=y_test_pred)   # Reporte de precisión del clasificador, se compara con los datos de simulación\n",
    "    \n",
    "    # Computa la tasa de éxito\n",
    "    model_report.loc[name,\"Accuracy\"] = accuracy_score(y_true = y_simulation, y_pred = y_test_pred)\n",
    "    # Tasa de error\n",
    "    model_report.loc[name,\"ErrorRate\"] = 1 - accuracy_score(y_true =y_simulation, y_pred = y_test_pred)\n",
    "     # Similitud Jaccard\n",
    "    model_report.loc[name,\"JaccardSim\"] = jaccard_similarity_score(y_true=y_simulation, y_pred=y_test_pred)\n",
    "    #Recall\n",
    "    model_report.loc[name,\"Recall\"] = recall_score(y_true=y_simulation, y_pred=y_test_pred)\n",
    "    #Precisión\n",
    "    model_report.loc[name,\"Precision\"] = precision_score(y_true=y_simulation, y_pred=y_test_pred)\n",
    "  \n",
    "\n",
    "model_report"
   ]
  },
  {
   "cell_type": "markdown",
   "metadata": {},
   "source": [
    "La regresión logística se presenta como el mejor modelo en producción, esto se debe a que es el mejor en la métrica de recall, en las otras métricas es el segundo mejor, en este caso se comprueba que los otros modelos si estuvieran sometidos a datos reales tendrían menores métricas de error, como segundo modelo se eligiría el random forest pues así tenga el peor valor en el recall tiene el mejor valor en la precisión, exactitud, error y exactitud."
   ]
  },
  {
   "cell_type": "markdown",
   "metadata": {},
   "source": [
    "## Resumen del mejor modelo (Regresión Logística probado) en los datos dejados para simular"
   ]
  },
  {
   "cell_type": "markdown",
   "metadata": {},
   "source": [
    "A continuación se realiza un resumen del modelo y sus métricas de error con los datos dejados para simular el modelo en producción."
   ]
  },
  {
   "cell_type": "code",
   "execution_count": 76,
   "metadata": {},
   "outputs": [
    {
     "data": {
      "text/plain": [
       "LogisticRegression(C=1.0, class_weight=None, dual=False, fit_intercept=True,\n",
       "          intercept_scaling=1, max_iter=100, multi_class='ovr', n_jobs=1,\n",
       "          penalty='l2', random_state=0, solver='sag', tol=0.0001,\n",
       "          verbose=0, warm_start=False)"
      ]
     },
     "execution_count": 76,
     "metadata": {},
     "output_type": "execute_result"
    }
   ],
   "source": [
    "modelo_lr = LogisticRegression(random_state= 0, solver ='sag')\n",
    "modelo_lr.fit(x_train, y_train_true)"
   ]
  },
  {
   "cell_type": "code",
   "execution_count": 77,
   "metadata": {
    "collapsed": true
   },
   "outputs": [],
   "source": [
    "y_test_pred1= modelo_lr.predict(x_simulation_scaled)"
   ]
  },
  {
   "cell_type": "code",
   "execution_count": 78,
   "metadata": {},
   "outputs": [
    {
     "data": {
      "text/plain": [
       "array([[1758,  576],\n",
       "       [ 216,  450]], dtype=int64)"
      ]
     },
     "execution_count": 78,
     "metadata": {},
     "output_type": "execute_result"
    }
   ],
   "source": [
    "from sklearn.metrics import confusion_matrix\n",
    "confusion_matrix(y_true = y_simulation, y_pred = y_test_pred1)"
   ]
  },
  {
   "cell_type": "code",
   "execution_count": 96,
   "metadata": {},
   "outputs": [
    {
     "name": "stdout",
     "output_type": "stream",
     "text": [
      "             precision    recall  f1-score   support\n",
      "\n",
      "          0       0.89      0.75      0.82      2334\n",
      "          1       0.44      0.68      0.53       666\n",
      "\n",
      "avg / total       0.79      0.74      0.75      3000\n",
      "\n",
      "Accuracy: 0.736% \n",
      "Error: 0.264% \n",
      "Jaccard: 0.736% \n"
     ]
    }
   ],
   "source": [
    "a=accuracy_score(y_true = y_simulation, y_pred = y_test_pred1)\n",
    "error=1 - accuracy_score(y_true = y_simulation, y_pred = y_test_pred1)\n",
    "b=jaccard_similarity_score(y_true=y_simulation, y_pred=y_test_pred1) ##similitud\n",
    "\n",
    "\n",
    "print(classification_report(y_true=y_simulation, y_pred=y_test_pred1))\n",
    "print(\"Accuracy: %.3f%% \" % a)\n",
    "print(\"Error: %.3f%% \" % error)\n",
    "print(\"Jaccard: %.3f%% \" % b)"
   ]
  },
  {
   "cell_type": "markdown",
   "metadata": {},
   "source": [
    "### Conclusión:\n",
    "A modo de conclusión se puede decir que la regresión logística es la que mejor prónistica el modelo, que se logra alcanzar un mejor valor en el recall con el balanceo de los datos y que es importante conocer los datos para determinar que técnicas utilizar en el tratamiento de éstos. Adicionalmente la capacidad computacional logra un importante labor en estas determinaciones pues con ella se pueden agilizar los tiempos de corrida y a lo mejor obtener mejores modelos.\n",
    "\n",
    "### Recomendaciones:\n",
    "Se recomienda advertir de la capacidad de computod de los modelos cuando se realizan cross validation, para este caso no se contaba con un buen equipo de computo y esto hace que los tiempos de corrida sean muy largos, adicionalmente conocer que hacen los modelos internamente permite decidir sonbre que parámetros intervenir y así llegar a un modelo más preciso rápidamente."
   ]
  }
 ],
 "metadata": {
  "kernelspec": {
   "display_name": "Python 3",
   "language": "python",
   "name": "python3"
  },
  "language_info": {
   "codemirror_mode": {
    "name": "ipython",
    "version": 3
   },
   "file_extension": ".py",
   "mimetype": "text/x-python",
   "name": "python",
   "nbconvert_exporter": "python",
   "pygments_lexer": "ipython3",
   "version": "3.6.3"
  }
 },
 "nbformat": 4,
 "nbformat_minor": 2
}
